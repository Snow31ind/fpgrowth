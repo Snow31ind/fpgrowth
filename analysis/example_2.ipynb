{
 "cells": [
  {
   "cell_type": "code",
   "execution_count": 18,
   "metadata": {},
   "outputs": [],
   "source": [
    "# Import necessary libraries\n",
    "import matplotlib\n",
    "import squarify\n",
    "import time\n",
    "import os\n",
    "import re\n",
    "import networkx as nx\n",
    "import plotly.express as px\n",
    "import pandas as pd\n",
    "import numpy as np\n",
    "import matplotlib.pyplot as plt\n",
    "import seaborn as sns\n",
    "from mlxtend.preprocessing import TransactionEncoder\n",
    "from mlxtend.frequent_patterns import apriori, fpgrowth, association_rules\n",
    "from mpl_toolkits.mplot3d import Axes3D\n"
   ]
  },
  {
   "cell_type": "code",
   "execution_count": 19,
   "metadata": {},
   "outputs": [],
   "source": [
    "with open(r'C:\\Users\\Admin\\OneDrive\\Máy tính\\Projects\\fpgrowth\\dataset\\groceries.csv') as file:\n",
    "  df = pd.read_csv(file)"
   ]
  },
  {
   "cell_type": "code",
   "execution_count": 20,
   "metadata": {},
   "outputs": [
    {
     "data": {
      "text/html": [
       "<div>\n",
       "<style scoped>\n",
       "    .dataframe tbody tr th:only-of-type {\n",
       "        vertical-align: middle;\n",
       "    }\n",
       "\n",
       "    .dataframe tbody tr th {\n",
       "        vertical-align: top;\n",
       "    }\n",
       "\n",
       "    .dataframe thead th {\n",
       "        text-align: right;\n",
       "    }\n",
       "</style>\n",
       "<table border=\"1\" class=\"dataframe\">\n",
       "  <thead>\n",
       "    <tr style=\"text-align: right;\">\n",
       "      <th></th>\n",
       "      <th>Member_number</th>\n",
       "      <th>Date</th>\n",
       "      <th>itemDescription</th>\n",
       "    </tr>\n",
       "  </thead>\n",
       "  <tbody>\n",
       "    <tr>\n",
       "      <th>0</th>\n",
       "      <td>1808</td>\n",
       "      <td>21-07-2015</td>\n",
       "      <td>tropical fruit</td>\n",
       "    </tr>\n",
       "    <tr>\n",
       "      <th>1</th>\n",
       "      <td>2552</td>\n",
       "      <td>05-01-2015</td>\n",
       "      <td>whole milk</td>\n",
       "    </tr>\n",
       "    <tr>\n",
       "      <th>2</th>\n",
       "      <td>2300</td>\n",
       "      <td>19-09-2015</td>\n",
       "      <td>pip fruit</td>\n",
       "    </tr>\n",
       "    <tr>\n",
       "      <th>3</th>\n",
       "      <td>1187</td>\n",
       "      <td>12-12-2015</td>\n",
       "      <td>other vegetables</td>\n",
       "    </tr>\n",
       "    <tr>\n",
       "      <th>4</th>\n",
       "      <td>3037</td>\n",
       "      <td>01-02-2015</td>\n",
       "      <td>whole milk</td>\n",
       "    </tr>\n",
       "    <tr>\n",
       "      <th>...</th>\n",
       "      <td>...</td>\n",
       "      <td>...</td>\n",
       "      <td>...</td>\n",
       "    </tr>\n",
       "    <tr>\n",
       "      <th>38760</th>\n",
       "      <td>4471</td>\n",
       "      <td>08-10-2014</td>\n",
       "      <td>sliced cheese</td>\n",
       "    </tr>\n",
       "    <tr>\n",
       "      <th>38761</th>\n",
       "      <td>2022</td>\n",
       "      <td>23-02-2014</td>\n",
       "      <td>candy</td>\n",
       "    </tr>\n",
       "    <tr>\n",
       "      <th>38762</th>\n",
       "      <td>1097</td>\n",
       "      <td>16-04-2014</td>\n",
       "      <td>cake bar</td>\n",
       "    </tr>\n",
       "    <tr>\n",
       "      <th>38763</th>\n",
       "      <td>1510</td>\n",
       "      <td>03-12-2014</td>\n",
       "      <td>fruit/vegetable juice</td>\n",
       "    </tr>\n",
       "    <tr>\n",
       "      <th>38764</th>\n",
       "      <td>1521</td>\n",
       "      <td>26-12-2014</td>\n",
       "      <td>cat food</td>\n",
       "    </tr>\n",
       "  </tbody>\n",
       "</table>\n",
       "<p>38765 rows × 3 columns</p>\n",
       "</div>"
      ],
      "text/plain": [
       "       Member_number        Date        itemDescription\n",
       "0               1808  21-07-2015         tropical fruit\n",
       "1               2552  05-01-2015             whole milk\n",
       "2               2300  19-09-2015              pip fruit\n",
       "3               1187  12-12-2015       other vegetables\n",
       "4               3037  01-02-2015             whole milk\n",
       "...              ...         ...                    ...\n",
       "38760           4471  08-10-2014          sliced cheese\n",
       "38761           2022  23-02-2014                  candy\n",
       "38762           1097  16-04-2014               cake bar\n",
       "38763           1510  03-12-2014  fruit/vegetable juice\n",
       "38764           1521  26-12-2014               cat food\n",
       "\n",
       "[38765 rows x 3 columns]"
      ]
     },
     "execution_count": 20,
     "metadata": {},
     "output_type": "execute_result"
    }
   ],
   "source": [
    "# Dataset\n",
    "df"
   ]
  },
  {
   "cell_type": "code",
   "execution_count": 21,
   "metadata": {},
   "outputs": [
    {
     "data": {
      "text/plain": [
       "(38765, 3)"
      ]
     },
     "execution_count": 21,
     "metadata": {},
     "output_type": "execute_result"
    }
   ],
   "source": [
    "# Shape of the dataset\n",
    "df.shape"
   ]
  },
  {
   "cell_type": "code",
   "execution_count": 22,
   "metadata": {},
   "outputs": [
    {
     "name": "stdout",
     "output_type": "stream",
     "text": [
      "<class 'pandas.core.frame.DataFrame'>\n",
      "RangeIndex: 38765 entries, 0 to 38764\n",
      "Data columns (total 3 columns):\n",
      " #   Column           Non-Null Count  Dtype \n",
      "---  ------           --------------  ----- \n",
      " 0   Member_number    38765 non-null  int64 \n",
      " 1   Date             38765 non-null  object\n",
      " 2   itemDescription  38765 non-null  object\n",
      "dtypes: int64(1), object(2)\n",
      "memory usage: 908.7+ KB\n"
     ]
    }
   ],
   "source": [
    "# General information of the dataset\n",
    "df.info()"
   ]
  },
  {
   "cell_type": "code",
   "execution_count": 23,
   "metadata": {},
   "outputs": [
    {
     "data": {
      "text/html": [
       "<div>\n",
       "<style scoped>\n",
       "    .dataframe tbody tr th:only-of-type {\n",
       "        vertical-align: middle;\n",
       "    }\n",
       "\n",
       "    .dataframe tbody tr th {\n",
       "        vertical-align: top;\n",
       "    }\n",
       "\n",
       "    .dataframe thead th {\n",
       "        text-align: right;\n",
       "    }\n",
       "</style>\n",
       "<table border=\"1\" class=\"dataframe\">\n",
       "  <thead>\n",
       "    <tr style=\"text-align: right;\">\n",
       "      <th></th>\n",
       "      <th>uid</th>\n",
       "      <th>date</th>\n",
       "      <th>items</th>\n",
       "    </tr>\n",
       "  </thead>\n",
       "  <tbody>\n",
       "    <tr>\n",
       "      <th>0</th>\n",
       "      <td>1808</td>\n",
       "      <td>21-07-2015</td>\n",
       "      <td>tropical fruit</td>\n",
       "    </tr>\n",
       "    <tr>\n",
       "      <th>1</th>\n",
       "      <td>2552</td>\n",
       "      <td>05-01-2015</td>\n",
       "      <td>whole milk</td>\n",
       "    </tr>\n",
       "    <tr>\n",
       "      <th>2</th>\n",
       "      <td>2300</td>\n",
       "      <td>19-09-2015</td>\n",
       "      <td>pip fruit</td>\n",
       "    </tr>\n",
       "    <tr>\n",
       "      <th>3</th>\n",
       "      <td>1187</td>\n",
       "      <td>12-12-2015</td>\n",
       "      <td>other vegetables</td>\n",
       "    </tr>\n",
       "    <tr>\n",
       "      <th>4</th>\n",
       "      <td>3037</td>\n",
       "      <td>01-02-2015</td>\n",
       "      <td>whole milk</td>\n",
       "    </tr>\n",
       "    <tr>\n",
       "      <th>...</th>\n",
       "      <td>...</td>\n",
       "      <td>...</td>\n",
       "      <td>...</td>\n",
       "    </tr>\n",
       "    <tr>\n",
       "      <th>38760</th>\n",
       "      <td>4471</td>\n",
       "      <td>08-10-2014</td>\n",
       "      <td>sliced cheese</td>\n",
       "    </tr>\n",
       "    <tr>\n",
       "      <th>38761</th>\n",
       "      <td>2022</td>\n",
       "      <td>23-02-2014</td>\n",
       "      <td>candy</td>\n",
       "    </tr>\n",
       "    <tr>\n",
       "      <th>38762</th>\n",
       "      <td>1097</td>\n",
       "      <td>16-04-2014</td>\n",
       "      <td>cake bar</td>\n",
       "    </tr>\n",
       "    <tr>\n",
       "      <th>38763</th>\n",
       "      <td>1510</td>\n",
       "      <td>03-12-2014</td>\n",
       "      <td>fruit/vegetable juice</td>\n",
       "    </tr>\n",
       "    <tr>\n",
       "      <th>38764</th>\n",
       "      <td>1521</td>\n",
       "      <td>26-12-2014</td>\n",
       "      <td>cat food</td>\n",
       "    </tr>\n",
       "  </tbody>\n",
       "</table>\n",
       "<p>38765 rows × 3 columns</p>\n",
       "</div>"
      ],
      "text/plain": [
       "        uid        date                  items\n",
       "0      1808  21-07-2015         tropical fruit\n",
       "1      2552  05-01-2015             whole milk\n",
       "2      2300  19-09-2015              pip fruit\n",
       "3      1187  12-12-2015       other vegetables\n",
       "4      3037  01-02-2015             whole milk\n",
       "...     ...         ...                    ...\n",
       "38760  4471  08-10-2014          sliced cheese\n",
       "38761  2022  23-02-2014                  candy\n",
       "38762  1097  16-04-2014               cake bar\n",
       "38763  1510  03-12-2014  fruit/vegetable juice\n",
       "38764  1521  26-12-2014               cat food\n",
       "\n",
       "[38765 rows x 3 columns]"
      ]
     },
     "execution_count": 23,
     "metadata": {},
     "output_type": "execute_result"
    }
   ],
   "source": [
    "# Rename the name of the columns for convenience\n",
    "colnames = ['uid', 'date', 'items']\n",
    "df = df.set_axis(labels=colnames, axis=1)\n",
    "df"
   ]
  },
  {
   "cell_type": "code",
   "execution_count": 24,
   "metadata": {},
   "outputs": [
    {
     "name": "stdout",
     "output_type": "stream",
     "text": [
      "(14963, 1)\n"
     ]
    },
    {
     "data": {
      "text/html": [
       "<div>\n",
       "<style scoped>\n",
       "    .dataframe tbody tr th:only-of-type {\n",
       "        vertical-align: middle;\n",
       "    }\n",
       "\n",
       "    .dataframe tbody tr th {\n",
       "        vertical-align: top;\n",
       "    }\n",
       "\n",
       "    .dataframe thead th {\n",
       "        text-align: right;\n",
       "    }\n",
       "</style>\n",
       "<table border=\"1\" class=\"dataframe\">\n",
       "  <thead>\n",
       "    <tr style=\"text-align: right;\">\n",
       "      <th></th>\n",
       "      <th></th>\n",
       "      <th>items</th>\n",
       "    </tr>\n",
       "    <tr>\n",
       "      <th>uid</th>\n",
       "      <th>date</th>\n",
       "      <th></th>\n",
       "    </tr>\n",
       "  </thead>\n",
       "  <tbody>\n",
       "    <tr>\n",
       "      <th rowspan=\"5\" valign=\"top\">1000</th>\n",
       "      <th>15-03-2015</th>\n",
       "      <td>[sausage, whole milk, semi-finished bread, yog...</td>\n",
       "    </tr>\n",
       "    <tr>\n",
       "      <th>24-06-2014</th>\n",
       "      <td>[whole milk, pastry, salty snack]</td>\n",
       "    </tr>\n",
       "    <tr>\n",
       "      <th>24-07-2015</th>\n",
       "      <td>[canned beer, misc. beverages]</td>\n",
       "    </tr>\n",
       "    <tr>\n",
       "      <th>25-11-2015</th>\n",
       "      <td>[sausage, hygiene articles]</td>\n",
       "    </tr>\n",
       "    <tr>\n",
       "      <th>27-05-2015</th>\n",
       "      <td>[soda, pickled vegetables]</td>\n",
       "    </tr>\n",
       "    <tr>\n",
       "      <th>...</th>\n",
       "      <th>...</th>\n",
       "      <td>...</td>\n",
       "    </tr>\n",
       "    <tr>\n",
       "      <th rowspan=\"2\" valign=\"top\">4999</th>\n",
       "      <th>24-01-2015</th>\n",
       "      <td>[tropical fruit, berries, other vegetables, yo...</td>\n",
       "    </tr>\n",
       "    <tr>\n",
       "      <th>26-12-2015</th>\n",
       "      <td>[bottled water, herbs]</td>\n",
       "    </tr>\n",
       "    <tr>\n",
       "      <th rowspan=\"3\" valign=\"top\">5000</th>\n",
       "      <th>09-03-2014</th>\n",
       "      <td>[fruit/vegetable juice, onions]</td>\n",
       "    </tr>\n",
       "    <tr>\n",
       "      <th>10-02-2015</th>\n",
       "      <td>[soda, root vegetables, semi-finished bread]</td>\n",
       "    </tr>\n",
       "    <tr>\n",
       "      <th>16-11-2014</th>\n",
       "      <td>[bottled beer, other vegetables]</td>\n",
       "    </tr>\n",
       "  </tbody>\n",
       "</table>\n",
       "<p>14963 rows × 1 columns</p>\n",
       "</div>"
      ],
      "text/plain": [
       "                                                             items\n",
       "uid  date                                                         \n",
       "1000 15-03-2015  [sausage, whole milk, semi-finished bread, yog...\n",
       "     24-06-2014                  [whole milk, pastry, salty snack]\n",
       "     24-07-2015                     [canned beer, misc. beverages]\n",
       "     25-11-2015                        [sausage, hygiene articles]\n",
       "     27-05-2015                         [soda, pickled vegetables]\n",
       "...                                                            ...\n",
       "4999 24-01-2015  [tropical fruit, berries, other vegetables, yo...\n",
       "     26-12-2015                             [bottled water, herbs]\n",
       "5000 09-03-2014                    [fruit/vegetable juice, onions]\n",
       "     10-02-2015       [soda, root vegetables, semi-finished bread]\n",
       "     16-11-2014                   [bottled beer, other vegetables]\n",
       "\n",
       "[14963 rows x 1 columns]"
      ]
     },
     "execution_count": 24,
     "metadata": {},
     "output_type": "execute_result"
    }
   ],
   "source": [
    "# Create corresponding dataframe for transactions\n",
    "transactions_df = pd.DataFrame(data=df[['uid', 'date']], columns=df.columns)\n",
    "transactions_df['items'] = df['items'].transform(lambda x: [x])\n",
    "transactions_df = transactions_df.groupby(['uid', 'date']).sum()\n",
    "print(transactions_df.shape)\n",
    "transactions_df"
   ]
  },
  {
   "cell_type": "code",
   "execution_count": 25,
   "metadata": {},
   "outputs": [
    {
     "name": "stdout",
     "output_type": "stream",
     "text": [
      "Total number of customers: 3898\n",
      "Total number of items: 167\n",
      "Total number of transactions: 14963\n"
     ]
    }
   ],
   "source": [
    "num_of_customers = len(list(set(df['uid'].values)))\n",
    "num_of_items = len(list(set(df['items'].values)))\n",
    "num_of_transactions = transactions_df.shape[0]\n",
    "\n",
    "# Number of customers, items, and transactions\n",
    "print(f'Total number of customers: {num_of_customers}')\n",
    "print(f'Total number of items: {num_of_items}')\n",
    "print(f'Total number of transactions: {num_of_transactions}')"
   ]
  },
  {
   "cell_type": "code",
   "execution_count": 26,
   "metadata": {},
   "outputs": [
    {
     "data": {
      "image/png": "[encoded data removed]",
      "text/plain": [
       "<Figure size 1440x720 with 1 Axes>"
      ]
     },
     "metadata": {},
     "output_type": "display_data"
    }
   ],
   "source": [
    "# Top ten best-seller items\n",
    "top_ten_items = df['items'].value_counts().sort_values(ascending=False)[:10]\n",
    "plt.figure(figsize=(20, 10))\n",
    "s = sns.barplot(x=top_ten_items.values, y=top_ten_items.index)"
   ]
  },
  {
   "cell_type": "code",
   "execution_count": 27,
   "metadata": {},
   "outputs": [
    {
     "data": {
      "image/png": "[encoded data removed]",
      "text/plain": [
       "<Figure size 1440x720 with 1 Axes>"
      ]
     },
     "metadata": {},
     "output_type": "display_data"
    }
   ],
   "source": [
    "# Bottom ten least sold items\n",
    "bottom_ten_items = df['items'].value_counts().sort_values(ascending=True)[:10]\n",
    "plt.figure(figsize=(20, 10))\n",
    "s = sns.barplot(x=bottom_ten_items.values, y=bottom_ten_items.index)"
   ]
  },
  {
   "cell_type": "code",
   "execution_count": 28,
   "metadata": {},
   "outputs": [
    {
     "data": {
      "text/html": [
       "<div>\n",
       "<style scoped>\n",
       "    .dataframe tbody tr th:only-of-type {\n",
       "        vertical-align: middle;\n",
       "    }\n",
       "\n",
       "    .dataframe tbody tr th {\n",
       "        vertical-align: top;\n",
       "    }\n",
       "\n",
       "    .dataframe thead th {\n",
       "        text-align: right;\n",
       "    }\n",
       "</style>\n",
       "<table border=\"1\" class=\"dataframe\">\n",
       "  <thead>\n",
       "    <tr style=\"text-align: right;\">\n",
       "      <th></th>\n",
       "      <th>Instant food products</th>\n",
       "      <th>UHT-milk</th>\n",
       "      <th>abrasive cleaner</th>\n",
       "      <th>artif. sweetener</th>\n",
       "      <th>baby cosmetics</th>\n",
       "      <th>bags</th>\n",
       "      <th>baking powder</th>\n",
       "      <th>bathroom cleaner</th>\n",
       "      <th>beef</th>\n",
       "      <th>berries</th>\n",
       "      <th>...</th>\n",
       "      <th>turkey</th>\n",
       "      <th>vinegar</th>\n",
       "      <th>waffles</th>\n",
       "      <th>whipped/sour cream</th>\n",
       "      <th>whisky</th>\n",
       "      <th>white bread</th>\n",
       "      <th>white wine</th>\n",
       "      <th>whole milk</th>\n",
       "      <th>yogurt</th>\n",
       "      <th>zwieback</th>\n",
       "    </tr>\n",
       "  </thead>\n",
       "  <tbody>\n",
       "    <tr>\n",
       "      <th>0</th>\n",
       "      <td>False</td>\n",
       "      <td>False</td>\n",
       "      <td>False</td>\n",
       "      <td>False</td>\n",
       "      <td>False</td>\n",
       "      <td>False</td>\n",
       "      <td>False</td>\n",
       "      <td>False</td>\n",
       "      <td>False</td>\n",
       "      <td>False</td>\n",
       "      <td>...</td>\n",
       "      <td>False</td>\n",
       "      <td>False</td>\n",
       "      <td>False</td>\n",
       "      <td>False</td>\n",
       "      <td>False</td>\n",
       "      <td>False</td>\n",
       "      <td>False</td>\n",
       "      <td>True</td>\n",
       "      <td>True</td>\n",
       "      <td>False</td>\n",
       "    </tr>\n",
       "    <tr>\n",
       "      <th>1</th>\n",
       "      <td>False</td>\n",
       "      <td>False</td>\n",
       "      <td>False</td>\n",
       "      <td>False</td>\n",
       "      <td>False</td>\n",
       "      <td>False</td>\n",
       "      <td>False</td>\n",
       "      <td>False</td>\n",
       "      <td>False</td>\n",
       "      <td>False</td>\n",
       "      <td>...</td>\n",
       "      <td>False</td>\n",
       "      <td>False</td>\n",
       "      <td>False</td>\n",
       "      <td>False</td>\n",
       "      <td>False</td>\n",
       "      <td>False</td>\n",
       "      <td>False</td>\n",
       "      <td>True</td>\n",
       "      <td>False</td>\n",
       "      <td>False</td>\n",
       "    </tr>\n",
       "    <tr>\n",
       "      <th>2</th>\n",
       "      <td>False</td>\n",
       "      <td>False</td>\n",
       "      <td>False</td>\n",
       "      <td>False</td>\n",
       "      <td>False</td>\n",
       "      <td>False</td>\n",
       "      <td>False</td>\n",
       "      <td>False</td>\n",
       "      <td>False</td>\n",
       "      <td>False</td>\n",
       "      <td>...</td>\n",
       "      <td>False</td>\n",
       "      <td>False</td>\n",
       "      <td>False</td>\n",
       "      <td>False</td>\n",
       "      <td>False</td>\n",
       "      <td>False</td>\n",
       "      <td>False</td>\n",
       "      <td>False</td>\n",
       "      <td>False</td>\n",
       "      <td>False</td>\n",
       "    </tr>\n",
       "    <tr>\n",
       "      <th>3</th>\n",
       "      <td>False</td>\n",
       "      <td>False</td>\n",
       "      <td>False</td>\n",
       "      <td>False</td>\n",
       "      <td>False</td>\n",
       "      <td>False</td>\n",
       "      <td>False</td>\n",
       "      <td>False</td>\n",
       "      <td>False</td>\n",
       "      <td>False</td>\n",
       "      <td>...</td>\n",
       "      <td>False</td>\n",
       "      <td>False</td>\n",
       "      <td>False</td>\n",
       "      <td>False</td>\n",
       "      <td>False</td>\n",
       "      <td>False</td>\n",
       "      <td>False</td>\n",
       "      <td>False</td>\n",
       "      <td>False</td>\n",
       "      <td>False</td>\n",
       "    </tr>\n",
       "    <tr>\n",
       "      <th>4</th>\n",
       "      <td>False</td>\n",
       "      <td>False</td>\n",
       "      <td>False</td>\n",
       "      <td>False</td>\n",
       "      <td>False</td>\n",
       "      <td>False</td>\n",
       "      <td>False</td>\n",
       "      <td>False</td>\n",
       "      <td>False</td>\n",
       "      <td>False</td>\n",
       "      <td>...</td>\n",
       "      <td>False</td>\n",
       "      <td>False</td>\n",
       "      <td>False</td>\n",
       "      <td>False</td>\n",
       "      <td>False</td>\n",
       "      <td>False</td>\n",
       "      <td>False</td>\n",
       "      <td>False</td>\n",
       "      <td>False</td>\n",
       "      <td>False</td>\n",
       "    </tr>\n",
       "    <tr>\n",
       "      <th>...</th>\n",
       "      <td>...</td>\n",
       "      <td>...</td>\n",
       "      <td>...</td>\n",
       "      <td>...</td>\n",
       "      <td>...</td>\n",
       "      <td>...</td>\n",
       "      <td>...</td>\n",
       "      <td>...</td>\n",
       "      <td>...</td>\n",
       "      <td>...</td>\n",
       "      <td>...</td>\n",
       "      <td>...</td>\n",
       "      <td>...</td>\n",
       "      <td>...</td>\n",
       "      <td>...</td>\n",
       "      <td>...</td>\n",
       "      <td>...</td>\n",
       "      <td>...</td>\n",
       "      <td>...</td>\n",
       "      <td>...</td>\n",
       "      <td>...</td>\n",
       "    </tr>\n",
       "    <tr>\n",
       "      <th>14958</th>\n",
       "      <td>False</td>\n",
       "      <td>False</td>\n",
       "      <td>False</td>\n",
       "      <td>False</td>\n",
       "      <td>False</td>\n",
       "      <td>False</td>\n",
       "      <td>False</td>\n",
       "      <td>False</td>\n",
       "      <td>False</td>\n",
       "      <td>True</td>\n",
       "      <td>...</td>\n",
       "      <td>False</td>\n",
       "      <td>False</td>\n",
       "      <td>False</td>\n",
       "      <td>False</td>\n",
       "      <td>False</td>\n",
       "      <td>False</td>\n",
       "      <td>False</td>\n",
       "      <td>False</td>\n",
       "      <td>True</td>\n",
       "      <td>False</td>\n",
       "    </tr>\n",
       "    <tr>\n",
       "      <th>14959</th>\n",
       "      <td>False</td>\n",
       "      <td>False</td>\n",
       "      <td>False</td>\n",
       "      <td>False</td>\n",
       "      <td>False</td>\n",
       "      <td>False</td>\n",
       "      <td>False</td>\n",
       "      <td>False</td>\n",
       "      <td>False</td>\n",
       "      <td>False</td>\n",
       "      <td>...</td>\n",
       "      <td>False</td>\n",
       "      <td>False</td>\n",
       "      <td>False</td>\n",
       "      <td>False</td>\n",
       "      <td>False</td>\n",
       "      <td>False</td>\n",
       "      <td>False</td>\n",
       "      <td>False</td>\n",
       "      <td>False</td>\n",
       "      <td>False</td>\n",
       "    </tr>\n",
       "    <tr>\n",
       "      <th>14960</th>\n",
       "      <td>False</td>\n",
       "      <td>False</td>\n",
       "      <td>False</td>\n",
       "      <td>False</td>\n",
       "      <td>False</td>\n",
       "      <td>False</td>\n",
       "      <td>False</td>\n",
       "      <td>False</td>\n",
       "      <td>False</td>\n",
       "      <td>False</td>\n",
       "      <td>...</td>\n",
       "      <td>False</td>\n",
       "      <td>False</td>\n",
       "      <td>False</td>\n",
       "      <td>False</td>\n",
       "      <td>False</td>\n",
       "      <td>False</td>\n",
       "      <td>False</td>\n",
       "      <td>False</td>\n",
       "      <td>False</td>\n",
       "      <td>False</td>\n",
       "    </tr>\n",
       "    <tr>\n",
       "      <th>14961</th>\n",
       "      <td>False</td>\n",
       "      <td>False</td>\n",
       "      <td>False</td>\n",
       "      <td>False</td>\n",
       "      <td>False</td>\n",
       "      <td>False</td>\n",
       "      <td>False</td>\n",
       "      <td>False</td>\n",
       "      <td>False</td>\n",
       "      <td>False</td>\n",
       "      <td>...</td>\n",
       "      <td>False</td>\n",
       "      <td>False</td>\n",
       "      <td>False</td>\n",
       "      <td>False</td>\n",
       "      <td>False</td>\n",
       "      <td>False</td>\n",
       "      <td>False</td>\n",
       "      <td>False</td>\n",
       "      <td>False</td>\n",
       "      <td>False</td>\n",
       "    </tr>\n",
       "    <tr>\n",
       "      <th>14962</th>\n",
       "      <td>False</td>\n",
       "      <td>False</td>\n",
       "      <td>False</td>\n",
       "      <td>False</td>\n",
       "      <td>False</td>\n",
       "      <td>False</td>\n",
       "      <td>False</td>\n",
       "      <td>False</td>\n",
       "      <td>False</td>\n",
       "      <td>False</td>\n",
       "      <td>...</td>\n",
       "      <td>False</td>\n",
       "      <td>False</td>\n",
       "      <td>False</td>\n",
       "      <td>False</td>\n",
       "      <td>False</td>\n",
       "      <td>False</td>\n",
       "      <td>False</td>\n",
       "      <td>False</td>\n",
       "      <td>False</td>\n",
       "      <td>False</td>\n",
       "    </tr>\n",
       "  </tbody>\n",
       "</table>\n",
       "<p>14963 rows × 167 columns</p>\n",
       "</div>"
      ],
      "text/plain": [
       "       Instant food products  UHT-milk  abrasive cleaner  artif. sweetener  \\\n",
       "0                      False     False             False             False   \n",
       "1                      False     False             False             False   \n",
       "2                      False     False             False             False   \n",
       "3                      False     False             False             False   \n",
       "4                      False     False             False             False   \n",
       "...                      ...       ...               ...               ...   \n",
       "14958                  False     False             False             False   \n",
       "14959                  False     False             False             False   \n",
       "14960                  False     False             False             False   \n",
       "14961                  False     False             False             False   \n",
       "14962                  False     False             False             False   \n",
       "\n",
       "       baby cosmetics   bags  baking powder  bathroom cleaner   beef  berries  \\\n",
       "0               False  False          False             False  False    False   \n",
       "1               False  False          False             False  False    False   \n",
       "2               False  False          False             False  False    False   \n",
       "3               False  False          False             False  False    False   \n",
       "4               False  False          False             False  False    False   \n",
       "...               ...    ...            ...               ...    ...      ...   \n",
       "14958           False  False          False             False  False     True   \n",
       "14959           False  False          False             False  False    False   \n",
       "14960           False  False          False             False  False    False   \n",
       "14961           False  False          False             False  False    False   \n",
       "14962           False  False          False             False  False    False   \n",
       "\n",
       "       ...  turkey  vinegar  waffles  whipped/sour cream  whisky  white bread  \\\n",
       "0      ...   False    False    False               False   False        False   \n",
       "1      ...   False    False    False               False   False        False   \n",
       "2      ...   False    False    False               False   False        False   \n",
       "3      ...   False    False    False               False   False        False   \n",
       "4      ...   False    False    False               False   False        False   \n",
       "...    ...     ...      ...      ...                 ...     ...          ...   \n",
       "14958  ...   False    False    False               False   False        False   \n",
       "14959  ...   False    False    False               False   False        False   \n",
       "14960  ...   False    False    False               False   False        False   \n",
       "14961  ...   False    False    False               False   False        False   \n",
       "14962  ...   False    False    False               False   False        False   \n",
       "\n",
       "       white wine  whole milk  yogurt  zwieback  \n",
       "0           False        True    True     False  \n",
       "1           False        True   False     False  \n",
       "2           False       False   False     False  \n",
       "3           False       False   False     False  \n",
       "4           False       False   False     False  \n",
       "...           ...         ...     ...       ...  \n",
       "14958       False       False    True     False  \n",
       "14959       False       False   False     False  \n",
       "14960       False       False   False     False  \n",
       "14961       False       False   False     False  \n",
       "14962       False       False   False     False  \n",
       "\n",
       "[14963 rows x 167 columns]"
      ]
     },
     "execution_count": 28,
     "metadata": {},
     "output_type": "execute_result"
    }
   ],
   "source": [
    "# Transform the dataset into a spare matrix\n",
    "\n",
    "transactions = transactions_df['items']\n",
    "transactions = transactions.droplevel(0)\n",
    "\n",
    "enc = TransactionEncoder()\n",
    "transactions = pd.DataFrame(enc.fit(transactions).transform(transactions), columns=enc.columns_)\n",
    "transactions"
   ]
  },
  {
   "cell_type": "code",
   "execution_count": 29,
   "metadata": {},
   "outputs": [
    {
     "data": {
      "text/html": [
       "<div>\n",
       "<style scoped>\n",
       "    .dataframe tbody tr th:only-of-type {\n",
       "        vertical-align: middle;\n",
       "    }\n",
       "\n",
       "    .dataframe tbody tr th {\n",
       "        vertical-align: top;\n",
       "    }\n",
       "\n",
       "    .dataframe thead th {\n",
       "        text-align: right;\n",
       "    }\n",
       "</style>\n",
       "<table border=\"1\" class=\"dataframe\">\n",
       "  <thead>\n",
       "    <tr style=\"text-align: right;\">\n",
       "      <th></th>\n",
       "      <th>support</th>\n",
       "      <th>itemsets</th>\n",
       "    </tr>\n",
       "  </thead>\n",
       "  <tbody>\n",
       "    <tr>\n",
       "      <th>0</th>\n",
       "      <td>0.157923</td>\n",
       "      <td>(whole milk)</td>\n",
       "    </tr>\n",
       "    <tr>\n",
       "      <th>1</th>\n",
       "      <td>0.085879</td>\n",
       "      <td>(yogurt)</td>\n",
       "    </tr>\n",
       "    <tr>\n",
       "      <th>2</th>\n",
       "      <td>0.060349</td>\n",
       "      <td>(sausage)</td>\n",
       "    </tr>\n",
       "    <tr>\n",
       "      <th>3</th>\n",
       "      <td>0.009490</td>\n",
       "      <td>(semi-finished bread)</td>\n",
       "    </tr>\n",
       "    <tr>\n",
       "      <th>4</th>\n",
       "      <td>0.051728</td>\n",
       "      <td>(pastry)</td>\n",
       "    </tr>\n",
       "    <tr>\n",
       "      <th>...</th>\n",
       "      <td>...</td>\n",
       "      <td>...</td>\n",
       "    </tr>\n",
       "    <tr>\n",
       "      <th>3040</th>\n",
       "      <td>0.000200</td>\n",
       "      <td>(butter, nuts/prunes)</td>\n",
       "    </tr>\n",
       "    <tr>\n",
       "      <th>3041</th>\n",
       "      <td>0.000200</td>\n",
       "      <td>(cream cheese , nuts/prunes)</td>\n",
       "    </tr>\n",
       "    <tr>\n",
       "      <th>3042</th>\n",
       "      <td>0.000200</td>\n",
       "      <td>(root vegetables, nuts/prunes)</td>\n",
       "    </tr>\n",
       "    <tr>\n",
       "      <th>3043</th>\n",
       "      <td>0.000200</td>\n",
       "      <td>(soap, berries)</td>\n",
       "    </tr>\n",
       "    <tr>\n",
       "      <th>3044</th>\n",
       "      <td>0.000200</td>\n",
       "      <td>(yogurt, specialty vegetables)</td>\n",
       "    </tr>\n",
       "  </tbody>\n",
       "</table>\n",
       "<p>3045 rows × 2 columns</p>\n",
       "</div>"
      ],
      "text/plain": [
       "       support                        itemsets\n",
       "0     0.157923                    (whole milk)\n",
       "1     0.085879                        (yogurt)\n",
       "2     0.060349                       (sausage)\n",
       "3     0.009490           (semi-finished bread)\n",
       "4     0.051728                        (pastry)\n",
       "...        ...                             ...\n",
       "3040  0.000200           (butter, nuts/prunes)\n",
       "3041  0.000200    (cream cheese , nuts/prunes)\n",
       "3042  0.000200  (root vegetables, nuts/prunes)\n",
       "3043  0.000200                 (soap, berries)\n",
       "3044  0.000200  (yogurt, specialty vegetables)\n",
       "\n",
       "[3045 rows x 2 columns]"
      ]
     },
     "execution_count": 29,
     "metadata": {},
     "output_type": "execute_result"
    }
   ],
   "source": [
    "# Generate frequent itemsets\n",
    "frequent_itemsets = fpgrowth(transactions, min_support= 6/len(df), use_colnames=True, max_len = 2)\n",
    "frequent_itemsets"
   ]
  },
  {
   "cell_type": "code",
   "execution_count": 30,
   "metadata": {},
   "outputs": [
    {
     "data": {
      "text/html": [
       "<div>\n",
       "<style scoped>\n",
       "    .dataframe tbody tr th:only-of-type {\n",
       "        vertical-align: middle;\n",
       "    }\n",
       "\n",
       "    .dataframe tbody tr th {\n",
       "        vertical-align: top;\n",
       "    }\n",
       "\n",
       "    .dataframe thead th {\n",
       "        text-align: right;\n",
       "    }\n",
       "</style>\n",
       "<table border=\"1\" class=\"dataframe\">\n",
       "  <thead>\n",
       "    <tr style=\"text-align: right;\">\n",
       "      <th></th>\n",
       "      <th>antecedents</th>\n",
       "      <th>consequents</th>\n",
       "      <th>antecedent support</th>\n",
       "      <th>consequent support</th>\n",
       "      <th>support</th>\n",
       "      <th>confidence</th>\n",
       "      <th>lift</th>\n",
       "      <th>leverage</th>\n",
       "      <th>conviction</th>\n",
       "    </tr>\n",
       "  </thead>\n",
       "  <tbody>\n",
       "    <tr>\n",
       "      <th>0</th>\n",
       "      <td>(semi-finished bread)</td>\n",
       "      <td>(salty snack)</td>\n",
       "      <td>0.009490</td>\n",
       "      <td>0.018780</td>\n",
       "      <td>0.000334</td>\n",
       "      <td>0.035211</td>\n",
       "      <td>1.874969</td>\n",
       "      <td>0.000156</td>\n",
       "      <td>1.017031</td>\n",
       "    </tr>\n",
       "    <tr>\n",
       "      <th>1</th>\n",
       "      <td>(salty snack)</td>\n",
       "      <td>(semi-finished bread)</td>\n",
       "      <td>0.018780</td>\n",
       "      <td>0.009490</td>\n",
       "      <td>0.000334</td>\n",
       "      <td>0.017794</td>\n",
       "      <td>1.874969</td>\n",
       "      <td>0.000156</td>\n",
       "      <td>1.008454</td>\n",
       "    </tr>\n",
       "    <tr>\n",
       "      <th>2</th>\n",
       "      <td>(semi-finished bread)</td>\n",
       "      <td>(sliced cheese)</td>\n",
       "      <td>0.009490</td>\n",
       "      <td>0.014035</td>\n",
       "      <td>0.000267</td>\n",
       "      <td>0.028169</td>\n",
       "      <td>2.007109</td>\n",
       "      <td>0.000134</td>\n",
       "      <td>1.014544</td>\n",
       "    </tr>\n",
       "    <tr>\n",
       "      <th>3</th>\n",
       "      <td>(sliced cheese)</td>\n",
       "      <td>(semi-finished bread)</td>\n",
       "      <td>0.014035</td>\n",
       "      <td>0.009490</td>\n",
       "      <td>0.000267</td>\n",
       "      <td>0.019048</td>\n",
       "      <td>2.007109</td>\n",
       "      <td>0.000134</td>\n",
       "      <td>1.009743</td>\n",
       "    </tr>\n",
       "    <tr>\n",
       "      <th>4</th>\n",
       "      <td>(semi-finished bread)</td>\n",
       "      <td>(napkins)</td>\n",
       "      <td>0.009490</td>\n",
       "      <td>0.022121</td>\n",
       "      <td>0.000468</td>\n",
       "      <td>0.049296</td>\n",
       "      <td>2.228437</td>\n",
       "      <td>0.000258</td>\n",
       "      <td>1.028584</td>\n",
       "    </tr>\n",
       "    <tr>\n",
       "      <th>...</th>\n",
       "      <td>...</td>\n",
       "      <td>...</td>\n",
       "      <td>...</td>\n",
       "      <td>...</td>\n",
       "      <td>...</td>\n",
       "      <td>...</td>\n",
       "      <td>...</td>\n",
       "      <td>...</td>\n",
       "      <td>...</td>\n",
       "    </tr>\n",
       "    <tr>\n",
       "      <th>763</th>\n",
       "      <td>(nuts/prunes)</td>\n",
       "      <td>(cream cheese )</td>\n",
       "      <td>0.002205</td>\n",
       "      <td>0.023658</td>\n",
       "      <td>0.000200</td>\n",
       "      <td>0.090909</td>\n",
       "      <td>3.842578</td>\n",
       "      <td>0.000148</td>\n",
       "      <td>1.073976</td>\n",
       "    </tr>\n",
       "    <tr>\n",
       "      <th>764</th>\n",
       "      <td>(soap)</td>\n",
       "      <td>(berries)</td>\n",
       "      <td>0.001337</td>\n",
       "      <td>0.021787</td>\n",
       "      <td>0.000200</td>\n",
       "      <td>0.150000</td>\n",
       "      <td>6.884816</td>\n",
       "      <td>0.000171</td>\n",
       "      <td>1.150839</td>\n",
       "    </tr>\n",
       "    <tr>\n",
       "      <th>765</th>\n",
       "      <td>(berries)</td>\n",
       "      <td>(soap)</td>\n",
       "      <td>0.021787</td>\n",
       "      <td>0.001337</td>\n",
       "      <td>0.000200</td>\n",
       "      <td>0.009202</td>\n",
       "      <td>6.884816</td>\n",
       "      <td>0.000171</td>\n",
       "      <td>1.007939</td>\n",
       "    </tr>\n",
       "    <tr>\n",
       "      <th>766</th>\n",
       "      <td>(yogurt)</td>\n",
       "      <td>(specialty vegetables)</td>\n",
       "      <td>0.085879</td>\n",
       "      <td>0.000735</td>\n",
       "      <td>0.000200</td>\n",
       "      <td>0.002335</td>\n",
       "      <td>3.175734</td>\n",
       "      <td>0.000137</td>\n",
       "      <td>1.001603</td>\n",
       "    </tr>\n",
       "    <tr>\n",
       "      <th>767</th>\n",
       "      <td>(specialty vegetables)</td>\n",
       "      <td>(yogurt)</td>\n",
       "      <td>0.000735</td>\n",
       "      <td>0.085879</td>\n",
       "      <td>0.000200</td>\n",
       "      <td>0.272727</td>\n",
       "      <td>3.175734</td>\n",
       "      <td>0.000137</td>\n",
       "      <td>1.256917</td>\n",
       "    </tr>\n",
       "  </tbody>\n",
       "</table>\n",
       "<p>768 rows × 9 columns</p>\n",
       "</div>"
      ],
      "text/plain": [
       "                antecedents             consequents  antecedent support  \\\n",
       "0     (semi-finished bread)           (salty snack)            0.009490   \n",
       "1             (salty snack)   (semi-finished bread)            0.018780   \n",
       "2     (semi-finished bread)         (sliced cheese)            0.009490   \n",
       "3           (sliced cheese)   (semi-finished bread)            0.014035   \n",
       "4     (semi-finished bread)               (napkins)            0.009490   \n",
       "..                      ...                     ...                 ...   \n",
       "763           (nuts/prunes)         (cream cheese )            0.002205   \n",
       "764                  (soap)               (berries)            0.001337   \n",
       "765               (berries)                  (soap)            0.021787   \n",
       "766                (yogurt)  (specialty vegetables)            0.085879   \n",
       "767  (specialty vegetables)                (yogurt)            0.000735   \n",
       "\n",
       "     consequent support   support  confidence      lift  leverage  conviction  \n",
       "0              0.018780  0.000334    0.035211  1.874969  0.000156    1.017031  \n",
       "1              0.009490  0.000334    0.017794  1.874969  0.000156    1.008454  \n",
       "2              0.014035  0.000267    0.028169  2.007109  0.000134    1.014544  \n",
       "3              0.009490  0.000267    0.019048  2.007109  0.000134    1.009743  \n",
       "4              0.022121  0.000468    0.049296  2.228437  0.000258    1.028584  \n",
       "..                  ...       ...         ...       ...       ...         ...  \n",
       "763            0.023658  0.000200    0.090909  3.842578  0.000148    1.073976  \n",
       "764            0.021787  0.000200    0.150000  6.884816  0.000171    1.150839  \n",
       "765            0.001337  0.000200    0.009202  6.884816  0.000171    1.007939  \n",
       "766            0.000735  0.000200    0.002335  3.175734  0.000137    1.001603  \n",
       "767            0.085879  0.000200    0.272727  3.175734  0.000137    1.256917  \n",
       "\n",
       "[768 rows x 9 columns]"
      ]
     },
     "execution_count": 30,
     "metadata": {},
     "output_type": "execute_result"
    }
   ],
   "source": [
    "# Generate association rules\n",
    "rules = association_rules(frequent_itemsets, metric=\"lift\",  min_threshold = 1.5)\n",
    "rules"
   ]
  },
  {
   "cell_type": "code",
   "execution_count": 31,
   "metadata": {},
   "outputs": [
    {
     "data": {
      "image/png": "[encoded data removed]",
      "text/plain": [
       "<Figure size 1080x1080 with 1 Axes>"
      ]
     },
     "metadata": {},
     "output_type": "display_data"
    }
   ],
   "source": [
    "# Plot a 3D scatter for the association rules\n",
    "sns.set(style='whitegrid')\n",
    "fig = plt.figure(figsize=(15, 15))\n",
    "ax = fig.add_subplot(projection='3d')\n",
    "\n",
    "x = rules['support']\n",
    "y = rules['confidence']\n",
    "z = rules['lift']\n",
    "\n",
    "ax.set_xlabel('Support')\n",
    "ax.set_ylabel('Confidence')\n",
    "ax.set_zlabel('Lift')\n",
    "\n",
    "ax.scatter(x, y, z)\n",
    "ax.set_title('3D Distribution of Association Rules')\n",
    "\n",
    "plt.show()"
   ]
  },
  {
   "cell_type": "code",
   "execution_count": 32,
   "metadata": {},
   "outputs": [
    {
     "data": {
      "text/html": [
       "<div>\n",
       "<style scoped>\n",
       "    .dataframe tbody tr th:only-of-type {\n",
       "        vertical-align: middle;\n",
       "    }\n",
       "\n",
       "    .dataframe tbody tr th {\n",
       "        vertical-align: top;\n",
       "    }\n",
       "\n",
       "    .dataframe thead th {\n",
       "        text-align: right;\n",
       "    }\n",
       "</style>\n",
       "<table border=\"1\" class=\"dataframe\">\n",
       "  <thead>\n",
       "    <tr style=\"text-align: right;\">\n",
       "      <th></th>\n",
       "      <th>antecedents</th>\n",
       "      <th>consequents</th>\n",
       "      <th>antecedent support</th>\n",
       "      <th>consequent support</th>\n",
       "      <th>support</th>\n",
       "      <th>confidence</th>\n",
       "      <th>lift</th>\n",
       "      <th>leverage</th>\n",
       "      <th>conviction</th>\n",
       "      <th>rule</th>\n",
       "    </tr>\n",
       "  </thead>\n",
       "  <tbody>\n",
       "    <tr>\n",
       "      <th>0</th>\n",
       "      <td>(semi-finished bread)</td>\n",
       "      <td>(salty snack)</td>\n",
       "      <td>0.009490</td>\n",
       "      <td>0.018780</td>\n",
       "      <td>0.000334</td>\n",
       "      <td>0.035211</td>\n",
       "      <td>1.874969</td>\n",
       "      <td>0.000156</td>\n",
       "      <td>1.017031</td>\n",
       "      <td>{'semi-finished bread'} -&gt; {'salty snack'}</td>\n",
       "    </tr>\n",
       "    <tr>\n",
       "      <th>1</th>\n",
       "      <td>(salty snack)</td>\n",
       "      <td>(semi-finished bread)</td>\n",
       "      <td>0.018780</td>\n",
       "      <td>0.009490</td>\n",
       "      <td>0.000334</td>\n",
       "      <td>0.017794</td>\n",
       "      <td>1.874969</td>\n",
       "      <td>0.000156</td>\n",
       "      <td>1.008454</td>\n",
       "      <td>{'salty snack'} -&gt; {'semi-finished bread'}</td>\n",
       "    </tr>\n",
       "    <tr>\n",
       "      <th>2</th>\n",
       "      <td>(semi-finished bread)</td>\n",
       "      <td>(sliced cheese)</td>\n",
       "      <td>0.009490</td>\n",
       "      <td>0.014035</td>\n",
       "      <td>0.000267</td>\n",
       "      <td>0.028169</td>\n",
       "      <td>2.007109</td>\n",
       "      <td>0.000134</td>\n",
       "      <td>1.014544</td>\n",
       "      <td>{'semi-finished bread'} -&gt; {'sliced cheese'}</td>\n",
       "    </tr>\n",
       "    <tr>\n",
       "      <th>3</th>\n",
       "      <td>(sliced cheese)</td>\n",
       "      <td>(semi-finished bread)</td>\n",
       "      <td>0.014035</td>\n",
       "      <td>0.009490</td>\n",
       "      <td>0.000267</td>\n",
       "      <td>0.019048</td>\n",
       "      <td>2.007109</td>\n",
       "      <td>0.000134</td>\n",
       "      <td>1.009743</td>\n",
       "      <td>{'sliced cheese'} -&gt; {'semi-finished bread'}</td>\n",
       "    </tr>\n",
       "    <tr>\n",
       "      <th>4</th>\n",
       "      <td>(semi-finished bread)</td>\n",
       "      <td>(napkins)</td>\n",
       "      <td>0.009490</td>\n",
       "      <td>0.022121</td>\n",
       "      <td>0.000468</td>\n",
       "      <td>0.049296</td>\n",
       "      <td>2.228437</td>\n",
       "      <td>0.000258</td>\n",
       "      <td>1.028584</td>\n",
       "      <td>{'semi-finished bread'} -&gt; {'napkins'}</td>\n",
       "    </tr>\n",
       "  </tbody>\n",
       "</table>\n",
       "</div>"
      ],
      "text/plain": [
       "             antecedents            consequents  antecedent support  \\\n",
       "0  (semi-finished bread)          (salty snack)            0.009490   \n",
       "1          (salty snack)  (semi-finished bread)            0.018780   \n",
       "2  (semi-finished bread)        (sliced cheese)            0.009490   \n",
       "3        (sliced cheese)  (semi-finished bread)            0.014035   \n",
       "4  (semi-finished bread)              (napkins)            0.009490   \n",
       "\n",
       "   consequent support   support  confidence      lift  leverage  conviction  \\\n",
       "0            0.018780  0.000334    0.035211  1.874969  0.000156    1.017031   \n",
       "1            0.009490  0.000334    0.017794  1.874969  0.000156    1.008454   \n",
       "2            0.014035  0.000267    0.028169  2.007109  0.000134    1.014544   \n",
       "3            0.009490  0.000267    0.019048  2.007109  0.000134    1.009743   \n",
       "4            0.022121  0.000468    0.049296  2.228437  0.000258    1.028584   \n",
       "\n",
       "                                           rule  \n",
       "0    {'semi-finished bread'} -> {'salty snack'}  \n",
       "1    {'salty snack'} -> {'semi-finished bread'}  \n",
       "2  {'semi-finished bread'} -> {'sliced cheese'}  \n",
       "3  {'sliced cheese'} -> {'semi-finished bread'}  \n",
       "4        {'semi-finished bread'} -> {'napkins'}  "
      ]
     },
     "execution_count": 32,
     "metadata": {},
     "output_type": "execute_result"
    }
   ],
   "source": [
    "# Add a new column \"rule\" to the dataframe for convenience\n",
    "rules['rule'] = rules['antecedents'].transform(lambda x: str(set(x))) + ' -> ' + rules['consequents'].transform(lambda x: str(set(x)))\n",
    "rules.head()"
   ]
  },
  {
   "cell_type": "code",
   "execution_count": 38,
   "metadata": {},
   "outputs": [
    {
     "data": {
      "application/vnd.plotly.v1+json": {
       "config": {
        "plotlyServerURL": "https://plot.ly"
       },
       "data": [
        {
         "hovertemplate": "rule={'brandy'} -> {'whole milk'}<br>support=%{x}<br>confidence=%{y}<br>lift=%{z}<extra></extra>",
         "legendgroup": "{'brandy'} -> {'whole milk'}",
         "marker": {
          "color": "#636efa",
          "symbol": "circle"
         },
         "mode": "markers",
         "name": "{'brandy'} -> {'whole milk'}",
         "scene": "scene",
         "showlegend": true,
         "type": "scatter3d",
         "x": [
          0.0008688097306689834
         ],
         "y": [
          0.34210526315789475
         ],
         "z": [
          2.1662805978127717
         ]
        },
        {
         "hovertemplate": "rule={'softener'} -> {'whole milk'}<br>support=%{x}<br>confidence=%{y}<br>lift=%{z}<extra></extra>",
         "legendgroup": "{'softener'} -> {'whole milk'}",
         "marker": {
          "color": "#EF553B",
          "symbol": "circle"
         },
         "mode": "markers",
         "name": "{'softener'} -> {'whole milk'}",
         "scene": "scene",
         "showlegend": true,
         "type": "scatter3d",
         "x": [
          0.0008019782129252155
         ],
         "y": [
          0.2926829268292683
         ],
         "z": [
          1.8533282412807202
         ]
        },
        {
         "hovertemplate": "rule={'canned fruit'} -> {'whole milk'}<br>support=%{x}<br>confidence=%{y}<br>lift=%{z}<extra></extra>",
         "legendgroup": "{'canned fruit'} -> {'whole milk'}",
         "marker": {
          "color": "#00cc96",
          "symbol": "circle"
         },
         "mode": "markers",
         "name": "{'canned fruit'} -> {'whole milk'}",
         "scene": "scene",
         "showlegend": true,
         "type": "scatter3d",
         "x": [
          0.00040098910646260775
         ],
         "y": [
          0.2857142857142857
         ],
         "z": [
          1.8092013783930838
         ]
        },
        {
         "hovertemplate": "rule={'syrup'} -> {'whole milk'}<br>support=%{x}<br>confidence=%{y}<br>lift=%{z}<extra></extra>",
         "legendgroup": "{'syrup'} -> {'whole milk'}",
         "marker": {
          "color": "#ab63fa",
          "symbol": "circle"
         },
         "mode": "markers",
         "name": "{'syrup'} -> {'whole milk'}",
         "scene": "scene",
         "showlegend": true,
         "type": "scatter3d",
         "x": [
          0.00040098910646260775
         ],
         "y": [
          0.2857142857142857
         ],
         "z": [
          1.8092013783930838
         ]
        },
        {
         "hovertemplate": "rule={'artif. sweetener'} -> {'whole milk'}<br>support=%{x}<br>confidence=%{y}<br>lift=%{z}<extra></extra>",
         "legendgroup": "{'artif. sweetener'} -> {'whole milk'}",
         "marker": {
          "color": "#FFA15A",
          "symbol": "circle"
         },
         "mode": "markers",
         "name": "{'artif. sweetener'} -> {'whole milk'}",
         "scene": "scene",
         "showlegend": true,
         "type": "scatter3d",
         "x": [
          0.0005346521419501437
         ],
         "y": [
          0.2758620689655173
         ],
         "z": [
          1.7468151239657366
         ]
        },
        {
         "hovertemplate": "rule={'specialty vegetables'} -> {'yogurt'}<br>support=%{x}<br>confidence=%{y}<br>lift=%{z}<extra></extra>",
         "legendgroup": "{'specialty vegetables'} -> {'yogurt'}",
         "marker": {
          "color": "#19d3f3",
          "symbol": "circle"
         },
         "mode": "markers",
         "name": "{'specialty vegetables'} -> {'yogurt'}",
         "scene": "scene",
         "showlegend": true,
         "type": "scatter3d",
         "x": [
          0.00020049455323130388
         ],
         "y": [
          0.2727272727272727
         ],
         "z": [
          3.175733993632826
         ]
        },
        {
         "hovertemplate": "rule={'ready soups'} -> {'whole milk'}<br>support=%{x}<br>confidence=%{y}<br>lift=%{z}<extra></extra>",
         "legendgroup": "{'ready soups'} -> {'whole milk'}",
         "marker": {
          "color": "#FF6692",
          "symbol": "circle"
         },
         "mode": "markers",
         "name": "{'ready soups'} -> {'whole milk'}",
         "scene": "scene",
         "showlegend": true,
         "type": "scatter3d",
         "x": [
          0.00026732607097507187
         ],
         "y": [
          0.26666666666666666
         ],
         "z": [
          1.6885879531668784
         ]
        },
        {
         "hovertemplate": "rule={'cream'} -> {'sausage'}<br>support=%{x}<br>confidence=%{y}<br>lift=%{z}<extra></extra>",
         "legendgroup": "{'cream'} -> {'sausage'}",
         "marker": {
          "color": "#B6E880",
          "symbol": "circle"
         },
         "mode": "markers",
         "name": "{'cream'} -> {'sausage'}",
         "scene": "scene",
         "showlegend": true,
         "type": "scatter3d",
         "x": [
          0.00020049455323130388
         ],
         "y": [
          0.25
         ],
         "z": [
          4.142580287929125
         ]
        },
        {
         "hovertemplate": "rule={'cream'} -> {'newspapers'}<br>support=%{x}<br>confidence=%{y}<br>lift=%{z}<extra></extra>",
         "legendgroup": "{'cream'} -> {'newspapers'}",
         "marker": {
          "color": "#FF97FF",
          "symbol": "circle"
         },
         "mode": "markers",
         "name": "{'cream'} -> {'newspapers'}",
         "scene": "scene",
         "showlegend": true,
         "type": "scatter3d",
         "x": [
          0.00020049455323130388
         ],
         "y": [
          0.25
         ],
         "z": [
          6.427405498281787
         ]
        },
        {
         "hovertemplate": "rule={'house keeping products'} -> {'whole milk'}<br>support=%{x}<br>confidence=%{y}<br>lift=%{z}<extra></extra>",
         "legendgroup": "{'house keeping products'} -> {'whole milk'}",
         "marker": {
          "color": "#FECB52",
          "symbol": "circle"
         },
         "mode": "markers",
         "name": "{'house keeping products'} -> {'whole milk'}",
         "scene": "scene",
         "showlegend": true,
         "type": "scatter3d",
         "x": [
          0.0007351466951814476
         ],
         "y": [
          0.24444444444444446
         ],
         "z": [
          1.547872290402972
         ]
        }
       ],
       "layout": {
        "legend": {
         "title": {
          "text": "rule"
         },
         "tracegroupgap": 0
        },
        "margin": {
         "t": 60
        },
        "scene": {
         "domain": {
          "x": [
           0,
           1
          ],
          "y": [
           0,
           1
          ]
         },
         "xaxis": {
          "title": {
           "text": "support"
          }
         },
         "yaxis": {
          "title": {
           "text": "confidence"
          }
         },
         "zaxis": {
          "title": {
           "text": "lift"
          }
         }
        },
        "template": {
         "data": {
          "bar": [
           {
            "error_x": {
             "color": "#2a3f5f"
            },
            "error_y": {
             "color": "#2a3f5f"
            },
            "marker": {
             "line": {
              "color": "#E5ECF6",
              "width": 0.5
             },
             "pattern": {
              "fillmode": "overlay",
              "size": 10,
              "solidity": 0.2
             }
            },
            "type": "bar"
           }
          ],
          "barpolar": [
           {
            "marker": {
             "line": {
              "color": "#E5ECF6",
              "width": 0.5
             },
             "pattern": {
              "fillmode": "overlay",
              "size": 10,
              "solidity": 0.2
             }
            },
            "type": "barpolar"
           }
          ],
          "carpet": [
           {
            "aaxis": {
             "endlinecolor": "#2a3f5f",
             "gridcolor": "white",
             "linecolor": "white",
             "minorgridcolor": "white",
             "startlinecolor": "#2a3f5f"
            },
            "baxis": {
             "endlinecolor": "#2a3f5f",
             "gridcolor": "white",
             "linecolor": "white",
             "minorgridcolor": "white",
             "startlinecolor": "#2a3f5f"
            },
            "type": "carpet"
           }
          ],
          "choropleth": [
           {
            "colorbar": {
             "outlinewidth": 0,
             "ticks": ""
            },
            "type": "choropleth"
           }
          ],
          "contour": [
           {
            "colorbar": {
             "outlinewidth": 0,
             "ticks": ""
            },
            "colorscale": [
             [
              0,
              "#0d0887"
             ],
             [
              0.1111111111111111,
              "#46039f"
             ],
             [
              0.2222222222222222,
              "#7201a8"
             ],
             [
              0.3333333333333333,
              "#9c179e"
             ],
             [
              0.4444444444444444,
              "#bd3786"
             ],
             [
              0.5555555555555556,
              "#d8576b"
             ],
             [
              0.6666666666666666,
              "#ed7953"
             ],
             [
              0.7777777777777778,
              "#fb9f3a"
             ],
             [
              0.8888888888888888,
              "#fdca26"
             ],
             [
              1,
              "#f0f921"
             ]
            ],
            "type": "contour"
           }
          ],
          "contourcarpet": [
           {
            "colorbar": {
             "outlinewidth": 0,
             "ticks": ""
            },
            "type": "contourcarpet"
           }
          ],
          "heatmap": [
           {
            "colorbar": {
             "outlinewidth": 0,
             "ticks": ""
            },
            "colorscale": [
             [
              0,
              "#0d0887"
             ],
             [
              0.1111111111111111,
              "#46039f"
             ],
             [
              0.2222222222222222,
              "#7201a8"
             ],
             [
              0.3333333333333333,
              "#9c179e"
             ],
             [
              0.4444444444444444,
              "#bd3786"
             ],
             [
              0.5555555555555556,
              "#d8576b"
             ],
             [
              0.6666666666666666,
              "#ed7953"
             ],
             [
              0.7777777777777778,
              "#fb9f3a"
             ],
             [
              0.8888888888888888,
              "#fdca26"
             ],
             [
              1,
              "#f0f921"
             ]
            ],
            "type": "heatmap"
           }
          ],
          "heatmapgl": [
           {
            "colorbar": {
             "outlinewidth": 0,
             "ticks": ""
            },
            "colorscale": [
             [
              0,
              "#0d0887"
             ],
             [
              0.1111111111111111,
              "#46039f"
             ],
             [
              0.2222222222222222,
              "#7201a8"
             ],
             [
              0.3333333333333333,
              "#9c179e"
             ],
             [
              0.4444444444444444,
              "#bd3786"
             ],
             [
              0.5555555555555556,
              "#d8576b"
             ],
             [
              0.6666666666666666,
              "#ed7953"
             ],
             [
              0.7777777777777778,
              "#fb9f3a"
             ],
             [
              0.8888888888888888,
              "#fdca26"
             ],
             [
              1,
              "#f0f921"
             ]
            ],
            "type": "heatmapgl"
           }
          ],
          "histogram": [
           {
            "marker": {
             "pattern": {
              "fillmode": "overlay",
              "size": 10,
              "solidity": 0.2
             }
            },
            "type": "histogram"
           }
          ],
          "histogram2d": [
           {
            "colorbar": {
             "outlinewidth": 0,
             "ticks": ""
            },
            "colorscale": [
             [
              0,
              "#0d0887"
             ],
             [
              0.1111111111111111,
              "#46039f"
             ],
             [
              0.2222222222222222,
              "#7201a8"
             ],
             [
              0.3333333333333333,
              "#9c179e"
             ],
             [
              0.4444444444444444,
              "#bd3786"
             ],
             [
              0.5555555555555556,
              "#d8576b"
             ],
             [
              0.6666666666666666,
              "#ed7953"
             ],
             [
              0.7777777777777778,
              "#fb9f3a"
             ],
             [
              0.8888888888888888,
              "#fdca26"
             ],
             [
              1,
              "#f0f921"
             ]
            ],
            "type": "histogram2d"
           }
          ],
          "histogram2dcontour": [
           {
            "colorbar": {
             "outlinewidth": 0,
             "ticks": ""
            },
            "colorscale": [
             [
              0,
              "#0d0887"
             ],
             [
              0.1111111111111111,
              "#46039f"
             ],
             [
              0.2222222222222222,
              "#7201a8"
             ],
             [
              0.3333333333333333,
              "#9c179e"
             ],
             [
              0.4444444444444444,
              "#bd3786"
             ],
             [
              0.5555555555555556,
              "#d8576b"
             ],
             [
              0.6666666666666666,
              "#ed7953"
             ],
             [
              0.7777777777777778,
              "#fb9f3a"
             ],
             [
              0.8888888888888888,
              "#fdca26"
             ],
             [
              1,
              "#f0f921"
             ]
            ],
            "type": "histogram2dcontour"
           }
          ],
          "mesh3d": [
           {
            "colorbar": {
             "outlinewidth": 0,
             "ticks": ""
            },
            "type": "mesh3d"
           }
          ],
          "parcoords": [
           {
            "line": {
             "colorbar": {
              "outlinewidth": 0,
              "ticks": ""
             }
            },
            "type": "parcoords"
           }
          ],
          "pie": [
           {
            "automargin": true,
            "type": "pie"
           }
          ],
          "scatter": [
           {
            "fillpattern": {
             "fillmode": "overlay",
             "size": 10,
             "solidity": 0.2
            },
            "type": "scatter"
           }
          ],
          "scatter3d": [
           {
            "line": {
             "colorbar": {
              "outlinewidth": 0,
              "ticks": ""
             }
            },
            "marker": {
             "colorbar": {
              "outlinewidth": 0,
              "ticks": ""
             }
            },
            "type": "scatter3d"
           }
          ],
          "scattercarpet": [
           {
            "marker": {
             "colorbar": {
              "outlinewidth": 0,
              "ticks": ""
             }
            },
            "type": "scattercarpet"
           }
          ],
          "scattergeo": [
           {
            "marker": {
             "colorbar": {
              "outlinewidth": 0,
              "ticks": ""
             }
            },
            "type": "scattergeo"
           }
          ],
          "scattergl": [
           {
            "marker": {
             "colorbar": {
              "outlinewidth": 0,
              "ticks": ""
             }
            },
            "type": "scattergl"
           }
          ],
          "scattermapbox": [
           {
            "marker": {
             "colorbar": {
              "outlinewidth": 0,
              "ticks": ""
             }
            },
            "type": "scattermapbox"
           }
          ],
          "scatterpolar": [
           {
            "marker": {
             "colorbar": {
              "outlinewidth": 0,
              "ticks": ""
             }
            },
            "type": "scatterpolar"
           }
          ],
          "scatterpolargl": [
           {
            "marker": {
             "colorbar": {
              "outlinewidth": 0,
              "ticks": ""
             }
            },
            "type": "scatterpolargl"
           }
          ],
          "scatterternary": [
           {
            "marker": {
             "colorbar": {
              "outlinewidth": 0,
              "ticks": ""
             }
            },
            "type": "scatterternary"
           }
          ],
          "surface": [
           {
            "colorbar": {
             "outlinewidth": 0,
             "ticks": ""
            },
            "colorscale": [
             [
              0,
              "#0d0887"
             ],
             [
              0.1111111111111111,
              "#46039f"
             ],
             [
              0.2222222222222222,
              "#7201a8"
             ],
             [
              0.3333333333333333,
              "#9c179e"
             ],
             [
              0.4444444444444444,
              "#bd3786"
             ],
             [
              0.5555555555555556,
              "#d8576b"
             ],
             [
              0.6666666666666666,
              "#ed7953"
             ],
             [
              0.7777777777777778,
              "#fb9f3a"
             ],
             [
              0.8888888888888888,
              "#fdca26"
             ],
             [
              1,
              "#f0f921"
             ]
            ],
            "type": "surface"
           }
          ],
          "table": [
           {
            "cells": {
             "fill": {
              "color": "#EBF0F8"
             },
             "line": {
              "color": "white"
             }
            },
            "header": {
             "fill": {
              "color": "#C8D4E3"
             },
             "line": {
              "color": "white"
             }
            },
            "type": "table"
           }
          ]
         },
         "layout": {
          "annotationdefaults": {
           "arrowcolor": "#2a3f5f",
           "arrowhead": 0,
           "arrowwidth": 1
          },
          "autotypenumbers": "strict",
          "coloraxis": {
           "colorbar": {
            "outlinewidth": 0,
            "ticks": ""
           }
          },
          "colorscale": {
           "diverging": [
            [
             0,
             "#8e0152"
            ],
            [
             0.1,
             "#c51b7d"
            ],
            [
             0.2,
             "#de77ae"
            ],
            [
             0.3,
             "#f1b6da"
            ],
            [
             0.4,
             "#fde0ef"
            ],
            [
             0.5,
             "#f7f7f7"
            ],
            [
             0.6,
             "#e6f5d0"
            ],
            [
             0.7,
             "#b8e186"
            ],
            [
             0.8,
             "#7fbc41"
            ],
            [
             0.9,
             "#4d9221"
            ],
            [
             1,
             "#276419"
            ]
           ],
           "sequential": [
            [
             0,
             "#0d0887"
            ],
            [
             0.1111111111111111,
             "#46039f"
            ],
            [
             0.2222222222222222,
             "#7201a8"
            ],
            [
             0.3333333333333333,
             "#9c179e"
            ],
            [
             0.4444444444444444,
             "#bd3786"
            ],
            [
             0.5555555555555556,
             "#d8576b"
            ],
            [
             0.6666666666666666,
             "#ed7953"
            ],
            [
             0.7777777777777778,
             "#fb9f3a"
            ],
            [
             0.8888888888888888,
             "#fdca26"
            ],
            [
             1,
             "#f0f921"
            ]
           ],
           "sequentialminus": [
            [
             0,
             "#0d0887"
            ],
            [
             0.1111111111111111,
             "#46039f"
            ],
            [
             0.2222222222222222,
             "#7201a8"
            ],
            [
             0.3333333333333333,
             "#9c179e"
            ],
            [
             0.4444444444444444,
             "#bd3786"
            ],
            [
             0.5555555555555556,
             "#d8576b"
            ],
            [
             0.6666666666666666,
             "#ed7953"
            ],
            [
             0.7777777777777778,
             "#fb9f3a"
            ],
            [
             0.8888888888888888,
             "#fdca26"
            ],
            [
             1,
             "#f0f921"
            ]
           ]
          },
          "colorway": [
           "#636efa",
           "#EF553B",
           "#00cc96",
           "#ab63fa",
           "#FFA15A",
           "#19d3f3",
           "#FF6692",
           "#B6E880",
           "#FF97FF",
           "#FECB52"
          ],
          "font": {
           "color": "#2a3f5f"
          },
          "geo": {
           "bgcolor": "white",
           "lakecolor": "white",
           "landcolor": "#E5ECF6",
           "showlakes": true,
           "showland": true,
           "subunitcolor": "white"
          },
          "hoverlabel": {
           "align": "left"
          },
          "hovermode": "closest",
          "mapbox": {
           "style": "light"
          },
          "paper_bgcolor": "white",
          "plot_bgcolor": "#E5ECF6",
          "polar": {
           "angularaxis": {
            "gridcolor": "white",
            "linecolor": "white",
            "ticks": ""
           },
           "bgcolor": "#E5ECF6",
           "radialaxis": {
            "gridcolor": "white",
            "linecolor": "white",
            "ticks": ""
           }
          },
          "scene": {
           "xaxis": {
            "backgroundcolor": "#E5ECF6",
            "gridcolor": "white",
            "gridwidth": 2,
            "linecolor": "white",
            "showbackground": true,
            "ticks": "",
            "zerolinecolor": "white"
           },
           "yaxis": {
            "backgroundcolor": "#E5ECF6",
            "gridcolor": "white",
            "gridwidth": 2,
            "linecolor": "white",
            "showbackground": true,
            "ticks": "",
            "zerolinecolor": "white"
           },
           "zaxis": {
            "backgroundcolor": "#E5ECF6",
            "gridcolor": "white",
            "gridwidth": 2,
            "linecolor": "white",
            "showbackground": true,
            "ticks": "",
            "zerolinecolor": "white"
           }
          },
          "shapedefaults": {
           "line": {
            "color": "#2a3f5f"
           }
          },
          "ternary": {
           "aaxis": {
            "gridcolor": "white",
            "linecolor": "white",
            "ticks": ""
           },
           "baxis": {
            "gridcolor": "white",
            "linecolor": "white",
            "ticks": ""
           },
           "bgcolor": "#E5ECF6",
           "caxis": {
            "gridcolor": "white",
            "linecolor": "white",
            "ticks": ""
           }
          },
          "title": {
           "x": 0.05
          },
          "xaxis": {
           "automargin": true,
           "gridcolor": "white",
           "linecolor": "white",
           "ticks": "",
           "title": {
            "standoff": 15
           },
           "zerolinecolor": "white",
           "zerolinewidth": 2
          },
          "yaxis": {
           "automargin": true,
           "gridcolor": "white",
           "linecolor": "white",
           "ticks": "",
           "title": {
            "standoff": 15
           },
           "zerolinecolor": "white",
           "zerolinewidth": 2
          }
         }
        }
       }
      }
     },
     "metadata": {},
     "output_type": "display_data"
    }
   ],
   "source": [
    "# Plot a interactive 3D scatter of association rules\n",
    "scatter_fig = px.scatter_3d(rules.sort_values(by=['confidence'], ascending=False)[:10], x='support', y='confidence', z='lift', color='rule')\n",
    "scatter_fig.show()"
   ]
  },
  {
   "cell_type": "code",
   "execution_count": 34,
   "metadata": {},
   "outputs": [
    {
     "data": {
      "text/html": [
       "<div>\n",
       "<style scoped>\n",
       "    .dataframe tbody tr th:only-of-type {\n",
       "        vertical-align: middle;\n",
       "    }\n",
       "\n",
       "    .dataframe tbody tr th {\n",
       "        vertical-align: top;\n",
       "    }\n",
       "\n",
       "    .dataframe thead th {\n",
       "        text-align: right;\n",
       "    }\n",
       "</style>\n",
       "<table border=\"1\" class=\"dataframe\">\n",
       "  <thead>\n",
       "    <tr style=\"text-align: right;\">\n",
       "      <th></th>\n",
       "      <th>antecedents</th>\n",
       "      <th>consequents</th>\n",
       "      <th>antecedent support</th>\n",
       "      <th>consequent support</th>\n",
       "      <th>support</th>\n",
       "      <th>confidence</th>\n",
       "      <th>lift</th>\n",
       "      <th>leverage</th>\n",
       "      <th>conviction</th>\n",
       "      <th>rule</th>\n",
       "    </tr>\n",
       "  </thead>\n",
       "  <tbody>\n",
       "    <tr>\n",
       "      <th>98</th>\n",
       "      <td>(softener)</td>\n",
       "      <td>(whole milk)</td>\n",
       "      <td>0.002740</td>\n",
       "      <td>0.157923</td>\n",
       "      <td>0.000802</td>\n",
       "      <td>0.292683</td>\n",
       "      <td>1.853328</td>\n",
       "      <td>0.000369</td>\n",
       "      <td>1.190523</td>\n",
       "      <td>{'softener'} -&gt; {'whole milk'}</td>\n",
       "    </tr>\n",
       "    <tr>\n",
       "      <th>508</th>\n",
       "      <td>(house keeping products)</td>\n",
       "      <td>(whole milk)</td>\n",
       "      <td>0.003007</td>\n",
       "      <td>0.157923</td>\n",
       "      <td>0.000735</td>\n",
       "      <td>0.244444</td>\n",
       "      <td>1.547872</td>\n",
       "      <td>0.000260</td>\n",
       "      <td>1.114514</td>\n",
       "      <td>{'house keeping products'} -&gt; {'whole milk'}</td>\n",
       "    </tr>\n",
       "    <tr>\n",
       "      <th>614</th>\n",
       "      <td>(artif. sweetener)</td>\n",
       "      <td>(whole milk)</td>\n",
       "      <td>0.001938</td>\n",
       "      <td>0.157923</td>\n",
       "      <td>0.000535</td>\n",
       "      <td>0.275862</td>\n",
       "      <td>1.746815</td>\n",
       "      <td>0.000229</td>\n",
       "      <td>1.162868</td>\n",
       "      <td>{'artif. sweetener'} -&gt; {'whole milk'}</td>\n",
       "    </tr>\n",
       "    <tr>\n",
       "      <th>706</th>\n",
       "      <td>(ready soups)</td>\n",
       "      <td>(whole milk)</td>\n",
       "      <td>0.001002</td>\n",
       "      <td>0.157923</td>\n",
       "      <td>0.000267</td>\n",
       "      <td>0.266667</td>\n",
       "      <td>1.688588</td>\n",
       "      <td>0.000109</td>\n",
       "      <td>1.148287</td>\n",
       "      <td>{'ready soups'} -&gt; {'whole milk'}</td>\n",
       "    </tr>\n",
       "    <tr>\n",
       "      <th>710</th>\n",
       "      <td>(brandy)</td>\n",
       "      <td>(whole milk)</td>\n",
       "      <td>0.002540</td>\n",
       "      <td>0.157923</td>\n",
       "      <td>0.000869</td>\n",
       "      <td>0.342105</td>\n",
       "      <td>2.166281</td>\n",
       "      <td>0.000468</td>\n",
       "      <td>1.279957</td>\n",
       "      <td>{'brandy'} -&gt; {'whole milk'}</td>\n",
       "    </tr>\n",
       "    <tr>\n",
       "      <th>719</th>\n",
       "      <td>(light bulbs)</td>\n",
       "      <td>(whole milk)</td>\n",
       "      <td>0.001938</td>\n",
       "      <td>0.157923</td>\n",
       "      <td>0.000468</td>\n",
       "      <td>0.241379</td>\n",
       "      <td>1.528463</td>\n",
       "      <td>0.000162</td>\n",
       "      <td>1.110011</td>\n",
       "      <td>{'light bulbs'} -&gt; {'whole milk'}</td>\n",
       "    </tr>\n",
       "    <tr>\n",
       "      <th>727</th>\n",
       "      <td>(syrup)</td>\n",
       "      <td>(whole milk)</td>\n",
       "      <td>0.001403</td>\n",
       "      <td>0.157923</td>\n",
       "      <td>0.000401</td>\n",
       "      <td>0.285714</td>\n",
       "      <td>1.809201</td>\n",
       "      <td>0.000179</td>\n",
       "      <td>1.178908</td>\n",
       "      <td>{'syrup'} -&gt; {'whole milk'}</td>\n",
       "    </tr>\n",
       "    <tr>\n",
       "      <th>732</th>\n",
       "      <td>(canned fruit)</td>\n",
       "      <td>(whole milk)</td>\n",
       "      <td>0.001403</td>\n",
       "      <td>0.157923</td>\n",
       "      <td>0.000401</td>\n",
       "      <td>0.285714</td>\n",
       "      <td>1.809201</td>\n",
       "      <td>0.000179</td>\n",
       "      <td>1.178908</td>\n",
       "      <td>{'canned fruit'} -&gt; {'whole milk'}</td>\n",
       "    </tr>\n",
       "  </tbody>\n",
       "</table>\n",
       "</div>"
      ],
      "text/plain": [
       "                  antecedents   consequents  antecedent support  \\\n",
       "98                 (softener)  (whole milk)            0.002740   \n",
       "508  (house keeping products)  (whole milk)            0.003007   \n",
       "614        (artif. sweetener)  (whole milk)            0.001938   \n",
       "706             (ready soups)  (whole milk)            0.001002   \n",
       "710                  (brandy)  (whole milk)            0.002540   \n",
       "719             (light bulbs)  (whole milk)            0.001938   \n",
       "727                   (syrup)  (whole milk)            0.001403   \n",
       "732            (canned fruit)  (whole milk)            0.001403   \n",
       "\n",
       "     consequent support   support  confidence      lift  leverage  conviction  \\\n",
       "98             0.157923  0.000802    0.292683  1.853328  0.000369    1.190523   \n",
       "508            0.157923  0.000735    0.244444  1.547872  0.000260    1.114514   \n",
       "614            0.157923  0.000535    0.275862  1.746815  0.000229    1.162868   \n",
       "706            0.157923  0.000267    0.266667  1.688588  0.000109    1.148287   \n",
       "710            0.157923  0.000869    0.342105  2.166281  0.000468    1.279957   \n",
       "719            0.157923  0.000468    0.241379  1.528463  0.000162    1.110011   \n",
       "727            0.157923  0.000401    0.285714  1.809201  0.000179    1.178908   \n",
       "732            0.157923  0.000401    0.285714  1.809201  0.000179    1.178908   \n",
       "\n",
       "                                             rule  \n",
       "98                 {'softener'} -> {'whole milk'}  \n",
       "508  {'house keeping products'} -> {'whole milk'}  \n",
       "614        {'artif. sweetener'} -> {'whole milk'}  \n",
       "706             {'ready soups'} -> {'whole milk'}  \n",
       "710                  {'brandy'} -> {'whole milk'}  \n",
       "719             {'light bulbs'} -> {'whole milk'}  \n",
       "727                   {'syrup'} -> {'whole milk'}  \n",
       "732            {'canned fruit'} -> {'whole milk'}  "
      ]
     },
     "execution_count": 34,
     "metadata": {},
     "output_type": "execute_result"
    }
   ],
   "source": [
    "# This equals to whole_milk_rules = rules[rules['consequants'] == {'whole milk'}]\n",
    "# Select assocation rules in which \"whole milk is the consequent\"\n",
    "whole_milk_rules = rules[rules['consequents'].astype(str).str.contains('whole milk')]\n",
    "whole_milk_rules"
   ]
  },
  {
   "cell_type": "code",
   "execution_count": 35,
   "metadata": {},
   "outputs": [
    {
     "data": {
      "text/html": [
       "<div>\n",
       "<style scoped>\n",
       "    .dataframe tbody tr th:only-of-type {\n",
       "        vertical-align: middle;\n",
       "    }\n",
       "\n",
       "    .dataframe tbody tr th {\n",
       "        vertical-align: top;\n",
       "    }\n",
       "\n",
       "    .dataframe thead th {\n",
       "        text-align: right;\n",
       "    }\n",
       "</style>\n",
       "<table border=\"1\" class=\"dataframe\">\n",
       "  <thead>\n",
       "    <tr style=\"text-align: right;\">\n",
       "      <th></th>\n",
       "      <th>antecedents</th>\n",
       "      <th>consequents</th>\n",
       "      <th>antecedent support</th>\n",
       "      <th>consequent support</th>\n",
       "      <th>support</th>\n",
       "      <th>confidence</th>\n",
       "      <th>lift</th>\n",
       "      <th>leverage</th>\n",
       "      <th>conviction</th>\n",
       "      <th>rule</th>\n",
       "    </tr>\n",
       "  </thead>\n",
       "  <tbody>\n",
       "    <tr>\n",
       "      <th>0</th>\n",
       "      <td>(brandy)</td>\n",
       "      <td>(whole milk)</td>\n",
       "      <td>0.002540</td>\n",
       "      <td>0.157923</td>\n",
       "      <td>0.000869</td>\n",
       "      <td>0.342105</td>\n",
       "      <td>2.166281</td>\n",
       "      <td>0.000468</td>\n",
       "      <td>1.279957</td>\n",
       "      <td>{'brandy'} -&gt; {'whole milk'}</td>\n",
       "    </tr>\n",
       "    <tr>\n",
       "      <th>1</th>\n",
       "      <td>(softener)</td>\n",
       "      <td>(whole milk)</td>\n",
       "      <td>0.002740</td>\n",
       "      <td>0.157923</td>\n",
       "      <td>0.000802</td>\n",
       "      <td>0.292683</td>\n",
       "      <td>1.853328</td>\n",
       "      <td>0.000369</td>\n",
       "      <td>1.190523</td>\n",
       "      <td>{'softener'} -&gt; {'whole milk'}</td>\n",
       "    </tr>\n",
       "    <tr>\n",
       "      <th>2</th>\n",
       "      <td>(syrup)</td>\n",
       "      <td>(whole milk)</td>\n",
       "      <td>0.001403</td>\n",
       "      <td>0.157923</td>\n",
       "      <td>0.000401</td>\n",
       "      <td>0.285714</td>\n",
       "      <td>1.809201</td>\n",
       "      <td>0.000179</td>\n",
       "      <td>1.178908</td>\n",
       "      <td>{'syrup'} -&gt; {'whole milk'}</td>\n",
       "    </tr>\n",
       "    <tr>\n",
       "      <th>3</th>\n",
       "      <td>(canned fruit)</td>\n",
       "      <td>(whole milk)</td>\n",
       "      <td>0.001403</td>\n",
       "      <td>0.157923</td>\n",
       "      <td>0.000401</td>\n",
       "      <td>0.285714</td>\n",
       "      <td>1.809201</td>\n",
       "      <td>0.000179</td>\n",
       "      <td>1.178908</td>\n",
       "      <td>{'canned fruit'} -&gt; {'whole milk'}</td>\n",
       "    </tr>\n",
       "    <tr>\n",
       "      <th>4</th>\n",
       "      <td>(artif. sweetener)</td>\n",
       "      <td>(whole milk)</td>\n",
       "      <td>0.001938</td>\n",
       "      <td>0.157923</td>\n",
       "      <td>0.000535</td>\n",
       "      <td>0.275862</td>\n",
       "      <td>1.746815</td>\n",
       "      <td>0.000229</td>\n",
       "      <td>1.162868</td>\n",
       "      <td>{'artif. sweetener'} -&gt; {'whole milk'}</td>\n",
       "    </tr>\n",
       "    <tr>\n",
       "      <th>5</th>\n",
       "      <td>(ready soups)</td>\n",
       "      <td>(whole milk)</td>\n",
       "      <td>0.001002</td>\n",
       "      <td>0.157923</td>\n",
       "      <td>0.000267</td>\n",
       "      <td>0.266667</td>\n",
       "      <td>1.688588</td>\n",
       "      <td>0.000109</td>\n",
       "      <td>1.148287</td>\n",
       "      <td>{'ready soups'} -&gt; {'whole milk'}</td>\n",
       "    </tr>\n",
       "    <tr>\n",
       "      <th>6</th>\n",
       "      <td>(house keeping products)</td>\n",
       "      <td>(whole milk)</td>\n",
       "      <td>0.003007</td>\n",
       "      <td>0.157923</td>\n",
       "      <td>0.000735</td>\n",
       "      <td>0.244444</td>\n",
       "      <td>1.547872</td>\n",
       "      <td>0.000260</td>\n",
       "      <td>1.114514</td>\n",
       "      <td>{'house keeping products'} -&gt; {'whole milk'}</td>\n",
       "    </tr>\n",
       "    <tr>\n",
       "      <th>7</th>\n",
       "      <td>(light bulbs)</td>\n",
       "      <td>(whole milk)</td>\n",
       "      <td>0.001938</td>\n",
       "      <td>0.157923</td>\n",
       "      <td>0.000468</td>\n",
       "      <td>0.241379</td>\n",
       "      <td>1.528463</td>\n",
       "      <td>0.000162</td>\n",
       "      <td>1.110011</td>\n",
       "      <td>{'light bulbs'} -&gt; {'whole milk'}</td>\n",
       "    </tr>\n",
       "  </tbody>\n",
       "</table>\n",
       "</div>"
      ],
      "text/plain": [
       "                antecedents   consequents  antecedent support  \\\n",
       "0                  (brandy)  (whole milk)            0.002540   \n",
       "1                (softener)  (whole milk)            0.002740   \n",
       "2                   (syrup)  (whole milk)            0.001403   \n",
       "3            (canned fruit)  (whole milk)            0.001403   \n",
       "4        (artif. sweetener)  (whole milk)            0.001938   \n",
       "5             (ready soups)  (whole milk)            0.001002   \n",
       "6  (house keeping products)  (whole milk)            0.003007   \n",
       "7             (light bulbs)  (whole milk)            0.001938   \n",
       "\n",
       "   consequent support   support  confidence      lift  leverage  conviction  \\\n",
       "0            0.157923  0.000869    0.342105  2.166281  0.000468    1.279957   \n",
       "1            0.157923  0.000802    0.292683  1.853328  0.000369    1.190523   \n",
       "2            0.157923  0.000401    0.285714  1.809201  0.000179    1.178908   \n",
       "3            0.157923  0.000401    0.285714  1.809201  0.000179    1.178908   \n",
       "4            0.157923  0.000535    0.275862  1.746815  0.000229    1.162868   \n",
       "5            0.157923  0.000267    0.266667  1.688588  0.000109    1.148287   \n",
       "6            0.157923  0.000735    0.244444  1.547872  0.000260    1.114514   \n",
       "7            0.157923  0.000468    0.241379  1.528463  0.000162    1.110011   \n",
       "\n",
       "                                           rule  \n",
       "0                  {'brandy'} -> {'whole milk'}  \n",
       "1                {'softener'} -> {'whole milk'}  \n",
       "2                   {'syrup'} -> {'whole milk'}  \n",
       "3            {'canned fruit'} -> {'whole milk'}  \n",
       "4        {'artif. sweetener'} -> {'whole milk'}  \n",
       "5             {'ready soups'} -> {'whole milk'}  \n",
       "6  {'house keeping products'} -> {'whole milk'}  \n",
       "7             {'light bulbs'} -> {'whole milk'}  "
      ]
     },
     "execution_count": 35,
     "metadata": {},
     "output_type": "execute_result"
    }
   ],
   "source": [
    "# Infer from the rules\n",
    "whole_milk_rules = whole_milk_rules.sort_values(by=['lift'], ascending=False).reset_index(drop=True)\n",
    "whole_milk_rules"
   ]
  }
 ],
 "metadata": {
  "interpreter": {
   "hash": "9efce205f64ad363cd9f14615485aca38ee4ef0915866e318aa83c8d0c93f6fc"
  },
  "kernelspec": {
   "display_name": "Python 3.10.0 64-bit",
   "language": "python",
   "name": "python3"
  },
  "language_info": {
   "codemirror_mode": {
    "name": "ipython",
    "version": 3
   },
   "file_extension": ".py",
   "mimetype": "text/x-python",
   "name": "python",
   "nbconvert_exporter": "python",
   "pygments_lexer": "ipython3",
   "version": "3.10.0"
  },
  "orig_nbformat": 4
 },
 "nbformat": 4,
 "nbformat_minor": 2
}
