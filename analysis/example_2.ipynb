{
 "cells": [
  {
   "cell_type": "code",
   "execution_count": 1,
   "metadata": {},
   "outputs": [],
   "source": [
    "import matplotlib\n",
    "import squarify\n",
    "import time\n",
    "import os\n",
    "import re\n",
    "import networkx as nx\n",
    "import plotly.express as px\n",
    "import pandas as pd\n",
    "import numpy as np\n",
    "import matplotlib.pyplot as plt\n",
    "import seaborn as sns\n",
    "from mlxtend.preprocessing import TransactionEncoder\n",
    "from mlxtend.frequent_patterns import apriori, fpgrowth, association_rules\n",
    "from mpl_toolkits.mplot3d import Axes3D\n"
   ]
  },
  {
   "cell_type": "code",
   "execution_count": 2,
   "metadata": {},
   "outputs": [],
   "source": [
    "with open(r'C:\\Users\\Admin\\OneDrive\\Máy tính\\Projects\\fpgrowth\\dataset\\groceries.csv') as file:\n",
    "  df = pd.read_csv(file)"
   ]
  },
  {
   "cell_type": "code",
   "execution_count": 3,
   "metadata": {},
   "outputs": [
    {
     "data": {
      "text/html": [
       "<div>\n",
       "<style scoped>\n",
       "    .dataframe tbody tr th:only-of-type {\n",
       "        vertical-align: middle;\n",
       "    }\n",
       "\n",
       "    .dataframe tbody tr th {\n",
       "        vertical-align: top;\n",
       "    }\n",
       "\n",
       "    .dataframe thead th {\n",
       "        text-align: right;\n",
       "    }\n",
       "</style>\n",
       "<table border=\"1\" class=\"dataframe\">\n",
       "  <thead>\n",
       "    <tr style=\"text-align: right;\">\n",
       "      <th></th>\n",
       "      <th>Member_number</th>\n",
       "      <th>Date</th>\n",
       "      <th>itemDescription</th>\n",
       "    </tr>\n",
       "  </thead>\n",
       "  <tbody>\n",
       "    <tr>\n",
       "      <th>0</th>\n",
       "      <td>1808</td>\n",
       "      <td>21-07-2015</td>\n",
       "      <td>tropical fruit</td>\n",
       "    </tr>\n",
       "    <tr>\n",
       "      <th>1</th>\n",
       "      <td>2552</td>\n",
       "      <td>05-01-2015</td>\n",
       "      <td>whole milk</td>\n",
       "    </tr>\n",
       "    <tr>\n",
       "      <th>2</th>\n",
       "      <td>2300</td>\n",
       "      <td>19-09-2015</td>\n",
       "      <td>pip fruit</td>\n",
       "    </tr>\n",
       "    <tr>\n",
       "      <th>3</th>\n",
       "      <td>1187</td>\n",
       "      <td>12-12-2015</td>\n",
       "      <td>other vegetables</td>\n",
       "    </tr>\n",
       "    <tr>\n",
       "      <th>4</th>\n",
       "      <td>3037</td>\n",
       "      <td>01-02-2015</td>\n",
       "      <td>whole milk</td>\n",
       "    </tr>\n",
       "  </tbody>\n",
       "</table>\n",
       "</div>"
      ],
      "text/plain": [
       "   Member_number        Date   itemDescription\n",
       "0           1808  21-07-2015    tropical fruit\n",
       "1           2552  05-01-2015        whole milk\n",
       "2           2300  19-09-2015         pip fruit\n",
       "3           1187  12-12-2015  other vegetables\n",
       "4           3037  01-02-2015        whole milk"
      ]
     },
     "execution_count": 3,
     "metadata": {},
     "output_type": "execute_result"
    }
   ],
   "source": [
    "# The first five rows of the dataset\n",
    "df.head()"
   ]
  },
  {
   "cell_type": "code",
   "execution_count": 4,
   "metadata": {},
   "outputs": [
    {
     "data": {
      "text/html": [
       "<div>\n",
       "<style scoped>\n",
       "    .dataframe tbody tr th:only-of-type {\n",
       "        vertical-align: middle;\n",
       "    }\n",
       "\n",
       "    .dataframe tbody tr th {\n",
       "        vertical-align: top;\n",
       "    }\n",
       "\n",
       "    .dataframe thead th {\n",
       "        text-align: right;\n",
       "    }\n",
       "</style>\n",
       "<table border=\"1\" class=\"dataframe\">\n",
       "  <thead>\n",
       "    <tr style=\"text-align: right;\">\n",
       "      <th></th>\n",
       "      <th>uid</th>\n",
       "      <th>date</th>\n",
       "      <th>items</th>\n",
       "    </tr>\n",
       "  </thead>\n",
       "  <tbody>\n",
       "    <tr>\n",
       "      <th>0</th>\n",
       "      <td>1808</td>\n",
       "      <td>21-07-2015</td>\n",
       "      <td>tropical fruit</td>\n",
       "    </tr>\n",
       "    <tr>\n",
       "      <th>1</th>\n",
       "      <td>2552</td>\n",
       "      <td>05-01-2015</td>\n",
       "      <td>whole milk</td>\n",
       "    </tr>\n",
       "    <tr>\n",
       "      <th>2</th>\n",
       "      <td>2300</td>\n",
       "      <td>19-09-2015</td>\n",
       "      <td>pip fruit</td>\n",
       "    </tr>\n",
       "    <tr>\n",
       "      <th>3</th>\n",
       "      <td>1187</td>\n",
       "      <td>12-12-2015</td>\n",
       "      <td>other vegetables</td>\n",
       "    </tr>\n",
       "    <tr>\n",
       "      <th>4</th>\n",
       "      <td>3037</td>\n",
       "      <td>01-02-2015</td>\n",
       "      <td>whole milk</td>\n",
       "    </tr>\n",
       "  </tbody>\n",
       "</table>\n",
       "</div>"
      ],
      "text/plain": [
       "    uid        date             items\n",
       "0  1808  21-07-2015    tropical fruit\n",
       "1  2552  05-01-2015        whole milk\n",
       "2  2300  19-09-2015         pip fruit\n",
       "3  1187  12-12-2015  other vegetables\n",
       "4  3037  01-02-2015        whole milk"
      ]
     },
     "execution_count": 4,
     "metadata": {},
     "output_type": "execute_result"
    }
   ],
   "source": [
    "# Rename the name of the columns\n",
    "colnames = ['uid', 'date', 'items']\n",
    "df = df.set_axis(labels=colnames, axis=1)\n",
    "df.head()"
   ]
  },
  {
   "cell_type": "code",
   "execution_count": 5,
   "metadata": {},
   "outputs": [
    {
     "name": "stdout",
     "output_type": "stream",
     "text": [
      "(14963, 1)\n"
     ]
    },
    {
     "data": {
      "text/html": [
       "<div>\n",
       "<style scoped>\n",
       "    .dataframe tbody tr th:only-of-type {\n",
       "        vertical-align: middle;\n",
       "    }\n",
       "\n",
       "    .dataframe tbody tr th {\n",
       "        vertical-align: top;\n",
       "    }\n",
       "\n",
       "    .dataframe thead th {\n",
       "        text-align: right;\n",
       "    }\n",
       "</style>\n",
       "<table border=\"1\" class=\"dataframe\">\n",
       "  <thead>\n",
       "    <tr style=\"text-align: right;\">\n",
       "      <th></th>\n",
       "      <th></th>\n",
       "      <th>items</th>\n",
       "    </tr>\n",
       "    <tr>\n",
       "      <th>uid</th>\n",
       "      <th>date</th>\n",
       "      <th></th>\n",
       "    </tr>\n",
       "  </thead>\n",
       "  <tbody>\n",
       "    <tr>\n",
       "      <th rowspan=\"5\" valign=\"top\">1000</th>\n",
       "      <th>15-03-2015</th>\n",
       "      <td>[sausage, whole milk, semi-finished bread, yog...</td>\n",
       "    </tr>\n",
       "    <tr>\n",
       "      <th>24-06-2014</th>\n",
       "      <td>[whole milk, pastry, salty snack]</td>\n",
       "    </tr>\n",
       "    <tr>\n",
       "      <th>24-07-2015</th>\n",
       "      <td>[canned beer, misc. beverages]</td>\n",
       "    </tr>\n",
       "    <tr>\n",
       "      <th>25-11-2015</th>\n",
       "      <td>[sausage, hygiene articles]</td>\n",
       "    </tr>\n",
       "    <tr>\n",
       "      <th>27-05-2015</th>\n",
       "      <td>[soda, pickled vegetables]</td>\n",
       "    </tr>\n",
       "  </tbody>\n",
       "</table>\n",
       "</div>"
      ],
      "text/plain": [
       "                                                             items\n",
       "uid  date                                                         \n",
       "1000 15-03-2015  [sausage, whole milk, semi-finished bread, yog...\n",
       "     24-06-2014                  [whole milk, pastry, salty snack]\n",
       "     24-07-2015                     [canned beer, misc. beverages]\n",
       "     25-11-2015                        [sausage, hygiene articles]\n",
       "     27-05-2015                         [soda, pickled vegetables]"
      ]
     },
     "execution_count": 5,
     "metadata": {},
     "output_type": "execute_result"
    }
   ],
   "source": [
    "transactions_df = pd.DataFrame(data=df[['uid', 'date']], columns=df.columns)\n",
    "transactions_df['items'] = df['items'].transform(lambda x: [x])\n",
    "transactions_df = transactions_df.groupby(['uid', 'date']).sum()\n",
    "print(transactions_df.shape)\n",
    "transactions_df.head()"
   ]
  },
  {
   "cell_type": "code",
   "execution_count": 6,
   "metadata": {},
   "outputs": [],
   "source": [
    "num_of_customers = len(list(set(df['uid'].values)))\n",
    "num_of_items = len(list(set(df['items'].values)))\n",
    "num_of_transactions = transactions_df.shape[0]"
   ]
  },
  {
   "cell_type": "code",
   "execution_count": 7,
   "metadata": {},
   "outputs": [
    {
     "name": "stdout",
     "output_type": "stream",
     "text": [
      "Total number of customers: 3898\n",
      "Total number of items: 167\n",
      "Total number of transactions: 14963\n"
     ]
    }
   ],
   "source": [
    "# Number of customers, items, and transactions\n",
    "print(f'Total number of customers: {num_of_customers}')\n",
    "print(f'Total number of items: {num_of_items}')\n",
    "print(f'Total number of transactions: {num_of_transactions}')"
   ]
  },
  {
   "cell_type": "code",
   "execution_count": 8,
   "metadata": {},
   "outputs": [
    {
     "data": {
      "image/png": "[encoded data removed]",
      "text/plain": [
       "<Figure size 1440x720 with 1 Axes>"
      ]
     },
     "metadata": {
      "needs_background": "light"
     },
     "output_type": "display_data"
    }
   ],
   "source": [
    "# Top ten best-seller items\n",
    "top_ten_items = df['items'].value_counts().sort_values(ascending=False)[:10]\n",
    "plt.figure(figsize=(20, 10))\n",
    "s = sns.barplot(x=top_ten_items.values, y=top_ten_items.index)"
   ]
  },
  {
   "cell_type": "code",
   "execution_count": 9,
   "metadata": {},
   "outputs": [
    {
     "data": {
      "image/png": "[encoded data removed]",
      "text/plain": [
       "<Figure size 1440x720 with 1 Axes>"
      ]
     },
     "metadata": {
      "needs_background": "light"
     },
     "output_type": "display_data"
    }
   ],
   "source": [
    "# Bottom ten least sold items\n",
    "bottom_ten_items = df['items'].value_counts().sort_values(ascending=True)[:10]\n",
    "plt.figure(figsize=(20, 10))\n",
    "s = sns.barplot(x=bottom_ten_items.values, y=bottom_ten_items.index)"
   ]
  },
  {
   "cell_type": "code",
   "execution_count": 10,
   "metadata": {},
   "outputs": [
    {
     "data": {
      "text/plain": [
       "<AxesSubplot:>"
      ]
     },
     "execution_count": 10,
     "metadata": {},
     "output_type": "execute_result"
    },
    {
     "data": {
      "image/png": "[encoded data removed]",
      "text/plain": [
       "<Figure size 1440x2160 with 1 Axes>"
      ]
     },
     "metadata": {
      "needs_background": "light"
     },
     "output_type": "display_data"
    }
   ],
   "source": [
    "# A objective view of product sales\n",
    "df['items'].value_counts().sort_values(ascending=True).plot(kind='barh', figsize=(20, 30))"
   ]
  },
  {
   "cell_type": "code",
   "execution_count": 11,
   "metadata": {},
   "outputs": [
    {
     "data": {
      "text/html": [
       "<div>\n",
       "<style scoped>\n",
       "    .dataframe tbody tr th:only-of-type {\n",
       "        vertical-align: middle;\n",
       "    }\n",
       "\n",
       "    .dataframe tbody tr th {\n",
       "        vertical-align: top;\n",
       "    }\n",
       "\n",
       "    .dataframe thead th {\n",
       "        text-align: right;\n",
       "    }\n",
       "</style>\n",
       "<table border=\"1\" class=\"dataframe\">\n",
       "  <thead>\n",
       "    <tr style=\"text-align: right;\">\n",
       "      <th></th>\n",
       "      <th>Instant food products</th>\n",
       "      <th>UHT-milk</th>\n",
       "      <th>abrasive cleaner</th>\n",
       "      <th>artif. sweetener</th>\n",
       "      <th>baby cosmetics</th>\n",
       "      <th>bags</th>\n",
       "      <th>baking powder</th>\n",
       "      <th>bathroom cleaner</th>\n",
       "      <th>beef</th>\n",
       "      <th>berries</th>\n",
       "      <th>...</th>\n",
       "      <th>turkey</th>\n",
       "      <th>vinegar</th>\n",
       "      <th>waffles</th>\n",
       "      <th>whipped/sour cream</th>\n",
       "      <th>whisky</th>\n",
       "      <th>white bread</th>\n",
       "      <th>white wine</th>\n",
       "      <th>whole milk</th>\n",
       "      <th>yogurt</th>\n",
       "      <th>zwieback</th>\n",
       "    </tr>\n",
       "  </thead>\n",
       "  <tbody>\n",
       "    <tr>\n",
       "      <th>0</th>\n",
       "      <td>False</td>\n",
       "      <td>False</td>\n",
       "      <td>False</td>\n",
       "      <td>False</td>\n",
       "      <td>False</td>\n",
       "      <td>False</td>\n",
       "      <td>False</td>\n",
       "      <td>False</td>\n",
       "      <td>False</td>\n",
       "      <td>False</td>\n",
       "      <td>...</td>\n",
       "      <td>False</td>\n",
       "      <td>False</td>\n",
       "      <td>False</td>\n",
       "      <td>False</td>\n",
       "      <td>False</td>\n",
       "      <td>False</td>\n",
       "      <td>False</td>\n",
       "      <td>True</td>\n",
       "      <td>True</td>\n",
       "      <td>False</td>\n",
       "    </tr>\n",
       "    <tr>\n",
       "      <th>1</th>\n",
       "      <td>False</td>\n",
       "      <td>False</td>\n",
       "      <td>False</td>\n",
       "      <td>False</td>\n",
       "      <td>False</td>\n",
       "      <td>False</td>\n",
       "      <td>False</td>\n",
       "      <td>False</td>\n",
       "      <td>False</td>\n",
       "      <td>False</td>\n",
       "      <td>...</td>\n",
       "      <td>False</td>\n",
       "      <td>False</td>\n",
       "      <td>False</td>\n",
       "      <td>False</td>\n",
       "      <td>False</td>\n",
       "      <td>False</td>\n",
       "      <td>False</td>\n",
       "      <td>True</td>\n",
       "      <td>False</td>\n",
       "      <td>False</td>\n",
       "    </tr>\n",
       "    <tr>\n",
       "      <th>2</th>\n",
       "      <td>False</td>\n",
       "      <td>False</td>\n",
       "      <td>False</td>\n",
       "      <td>False</td>\n",
       "      <td>False</td>\n",
       "      <td>False</td>\n",
       "      <td>False</td>\n",
       "      <td>False</td>\n",
       "      <td>False</td>\n",
       "      <td>False</td>\n",
       "      <td>...</td>\n",
       "      <td>False</td>\n",
       "      <td>False</td>\n",
       "      <td>False</td>\n",
       "      <td>False</td>\n",
       "      <td>False</td>\n",
       "      <td>False</td>\n",
       "      <td>False</td>\n",
       "      <td>False</td>\n",
       "      <td>False</td>\n",
       "      <td>False</td>\n",
       "    </tr>\n",
       "    <tr>\n",
       "      <th>3</th>\n",
       "      <td>False</td>\n",
       "      <td>False</td>\n",
       "      <td>False</td>\n",
       "      <td>False</td>\n",
       "      <td>False</td>\n",
       "      <td>False</td>\n",
       "      <td>False</td>\n",
       "      <td>False</td>\n",
       "      <td>False</td>\n",
       "      <td>False</td>\n",
       "      <td>...</td>\n",
       "      <td>False</td>\n",
       "      <td>False</td>\n",
       "      <td>False</td>\n",
       "      <td>False</td>\n",
       "      <td>False</td>\n",
       "      <td>False</td>\n",
       "      <td>False</td>\n",
       "      <td>False</td>\n",
       "      <td>False</td>\n",
       "      <td>False</td>\n",
       "    </tr>\n",
       "    <tr>\n",
       "      <th>4</th>\n",
       "      <td>False</td>\n",
       "      <td>False</td>\n",
       "      <td>False</td>\n",
       "      <td>False</td>\n",
       "      <td>False</td>\n",
       "      <td>False</td>\n",
       "      <td>False</td>\n",
       "      <td>False</td>\n",
       "      <td>False</td>\n",
       "      <td>False</td>\n",
       "      <td>...</td>\n",
       "      <td>False</td>\n",
       "      <td>False</td>\n",
       "      <td>False</td>\n",
       "      <td>False</td>\n",
       "      <td>False</td>\n",
       "      <td>False</td>\n",
       "      <td>False</td>\n",
       "      <td>False</td>\n",
       "      <td>False</td>\n",
       "      <td>False</td>\n",
       "    </tr>\n",
       "  </tbody>\n",
       "</table>\n",
       "<p>5 rows × 167 columns</p>\n",
       "</div>"
      ],
      "text/plain": [
       "   Instant food products  UHT-milk  abrasive cleaner  artif. sweetener  \\\n",
       "0                  False     False             False             False   \n",
       "1                  False     False             False             False   \n",
       "2                  False     False             False             False   \n",
       "3                  False     False             False             False   \n",
       "4                  False     False             False             False   \n",
       "\n",
       "   baby cosmetics   bags  baking powder  bathroom cleaner   beef  berries  \\\n",
       "0           False  False          False             False  False    False   \n",
       "1           False  False          False             False  False    False   \n",
       "2           False  False          False             False  False    False   \n",
       "3           False  False          False             False  False    False   \n",
       "4           False  False          False             False  False    False   \n",
       "\n",
       "   ...  turkey  vinegar  waffles  whipped/sour cream  whisky  white bread  \\\n",
       "0  ...   False    False    False               False   False        False   \n",
       "1  ...   False    False    False               False   False        False   \n",
       "2  ...   False    False    False               False   False        False   \n",
       "3  ...   False    False    False               False   False        False   \n",
       "4  ...   False    False    False               False   False        False   \n",
       "\n",
       "   white wine  whole milk  yogurt  zwieback  \n",
       "0       False        True    True     False  \n",
       "1       False        True   False     False  \n",
       "2       False       False   False     False  \n",
       "3       False       False   False     False  \n",
       "4       False       False   False     False  \n",
       "\n",
       "[5 rows x 167 columns]"
      ]
     },
     "execution_count": 11,
     "metadata": {},
     "output_type": "execute_result"
    }
   ],
   "source": [
    "# Transform the dataset into a spare matrix\n",
    "\n",
    "transactions = transactions_df['items']\n",
    "transactions = transactions.droplevel(0)\n",
    "transactions.head()\n",
    "\n",
    "enc = TransactionEncoder()\n",
    "transactions = pd.DataFrame(enc.fit(transactions).transform(transactions), columns=enc.columns_)\n",
    "transactions.head()"
   ]
  },
  {
   "cell_type": "code",
   "execution_count": 12,
   "metadata": {},
   "outputs": [
    {
     "data": {
      "text/html": [
       "<div>\n",
       "<style scoped>\n",
       "    .dataframe tbody tr th:only-of-type {\n",
       "        vertical-align: middle;\n",
       "    }\n",
       "\n",
       "    .dataframe tbody tr th {\n",
       "        vertical-align: top;\n",
       "    }\n",
       "\n",
       "    .dataframe thead th {\n",
       "        text-align: right;\n",
       "    }\n",
       "</style>\n",
       "<table border=\"1\" class=\"dataframe\">\n",
       "  <thead>\n",
       "    <tr style=\"text-align: right;\">\n",
       "      <th></th>\n",
       "      <th>antecedents</th>\n",
       "      <th>consequents</th>\n",
       "      <th>antecedent support</th>\n",
       "      <th>consequent support</th>\n",
       "      <th>support</th>\n",
       "      <th>confidence</th>\n",
       "      <th>lift</th>\n",
       "      <th>leverage</th>\n",
       "      <th>conviction</th>\n",
       "    </tr>\n",
       "  </thead>\n",
       "  <tbody>\n",
       "    <tr>\n",
       "      <th>0</th>\n",
       "      <td>(semi-finished bread)</td>\n",
       "      <td>(salty snack)</td>\n",
       "      <td>0.009490</td>\n",
       "      <td>0.018780</td>\n",
       "      <td>0.000334</td>\n",
       "      <td>0.035211</td>\n",
       "      <td>1.874969</td>\n",
       "      <td>0.000156</td>\n",
       "      <td>1.017031</td>\n",
       "    </tr>\n",
       "    <tr>\n",
       "      <th>1</th>\n",
       "      <td>(salty snack)</td>\n",
       "      <td>(semi-finished bread)</td>\n",
       "      <td>0.018780</td>\n",
       "      <td>0.009490</td>\n",
       "      <td>0.000334</td>\n",
       "      <td>0.017794</td>\n",
       "      <td>1.874969</td>\n",
       "      <td>0.000156</td>\n",
       "      <td>1.008454</td>\n",
       "    </tr>\n",
       "    <tr>\n",
       "      <th>2</th>\n",
       "      <td>(semi-finished bread)</td>\n",
       "      <td>(sliced cheese)</td>\n",
       "      <td>0.009490</td>\n",
       "      <td>0.014035</td>\n",
       "      <td>0.000267</td>\n",
       "      <td>0.028169</td>\n",
       "      <td>2.007109</td>\n",
       "      <td>0.000134</td>\n",
       "      <td>1.014544</td>\n",
       "    </tr>\n",
       "    <tr>\n",
       "      <th>3</th>\n",
       "      <td>(sliced cheese)</td>\n",
       "      <td>(semi-finished bread)</td>\n",
       "      <td>0.014035</td>\n",
       "      <td>0.009490</td>\n",
       "      <td>0.000267</td>\n",
       "      <td>0.019048</td>\n",
       "      <td>2.007109</td>\n",
       "      <td>0.000134</td>\n",
       "      <td>1.009743</td>\n",
       "    </tr>\n",
       "    <tr>\n",
       "      <th>4</th>\n",
       "      <td>(semi-finished bread)</td>\n",
       "      <td>(napkins)</td>\n",
       "      <td>0.009490</td>\n",
       "      <td>0.022121</td>\n",
       "      <td>0.000468</td>\n",
       "      <td>0.049296</td>\n",
       "      <td>2.228437</td>\n",
       "      <td>0.000258</td>\n",
       "      <td>1.028584</td>\n",
       "    </tr>\n",
       "  </tbody>\n",
       "</table>\n",
       "</div>"
      ],
      "text/plain": [
       "             antecedents            consequents  antecedent support  \\\n",
       "0  (semi-finished bread)          (salty snack)            0.009490   \n",
       "1          (salty snack)  (semi-finished bread)            0.018780   \n",
       "2  (semi-finished bread)        (sliced cheese)            0.009490   \n",
       "3        (sliced cheese)  (semi-finished bread)            0.014035   \n",
       "4  (semi-finished bread)              (napkins)            0.009490   \n",
       "\n",
       "   consequent support   support  confidence      lift  leverage  conviction  \n",
       "0            0.018780  0.000334    0.035211  1.874969  0.000156    1.017031  \n",
       "1            0.009490  0.000334    0.017794  1.874969  0.000156    1.008454  \n",
       "2            0.014035  0.000267    0.028169  2.007109  0.000134    1.014544  \n",
       "3            0.009490  0.000267    0.019048  2.007109  0.000134    1.009743  \n",
       "4            0.022121  0.000468    0.049296  2.228437  0.000258    1.028584  "
      ]
     },
     "metadata": {},
     "output_type": "display_data"
    },
    {
     "name": "stdout",
     "output_type": "stream",
     "text": [
      "Rules identified:  768\n"
     ]
    }
   ],
   "source": [
    "# Generate associations rules for each pair of frequent itemsets\n",
    "frequent_itemsets = fpgrowth(transactions, min_support= 6/len(df), use_colnames=True, max_len = 2)\n",
    "rules = association_rules(frequent_itemsets, metric=\"lift\",  min_threshold = 1.5)\n",
    "display(rules.head())\n",
    "print(\"Rules identified: \", len(rules))"
   ]
  },
  {
   "cell_type": "code",
   "execution_count": 35,
   "metadata": {},
   "outputs": [
    {
     "data": {
      "text/html": [
       "<div>\n",
       "<style scoped>\n",
       "    .dataframe tbody tr th:only-of-type {\n",
       "        vertical-align: middle;\n",
       "    }\n",
       "\n",
       "    .dataframe tbody tr th {\n",
       "        vertical-align: top;\n",
       "    }\n",
       "\n",
       "    .dataframe thead th {\n",
       "        text-align: right;\n",
       "    }\n",
       "</style>\n",
       "<table border=\"1\" class=\"dataframe\">\n",
       "  <thead>\n",
       "    <tr style=\"text-align: right;\">\n",
       "      <th></th>\n",
       "      <th>support</th>\n",
       "      <th>itemsets</th>\n",
       "    </tr>\n",
       "  </thead>\n",
       "  <tbody>\n",
       "    <tr>\n",
       "      <th>0</th>\n",
       "      <td>0.157923</td>\n",
       "      <td>(whole milk)</td>\n",
       "    </tr>\n",
       "    <tr>\n",
       "      <th>17</th>\n",
       "      <td>0.122101</td>\n",
       "      <td>(other vegetables)</td>\n",
       "    </tr>\n",
       "    <tr>\n",
       "      <th>13</th>\n",
       "      <td>0.110005</td>\n",
       "      <td>(rolls/buns)</td>\n",
       "    </tr>\n",
       "    <tr>\n",
       "      <th>9</th>\n",
       "      <td>0.097106</td>\n",
       "      <td>(soda)</td>\n",
       "    </tr>\n",
       "    <tr>\n",
       "      <th>1</th>\n",
       "      <td>0.085879</td>\n",
       "      <td>(yogurt)</td>\n",
       "    </tr>\n",
       "    <tr>\n",
       "      <th>24</th>\n",
       "      <td>0.069572</td>\n",
       "      <td>(root vegetables)</td>\n",
       "    </tr>\n",
       "    <tr>\n",
       "      <th>20</th>\n",
       "      <td>0.067767</td>\n",
       "      <td>(tropical fruit)</td>\n",
       "    </tr>\n",
       "    <tr>\n",
       "      <th>37</th>\n",
       "      <td>0.060683</td>\n",
       "      <td>(bottled water)</td>\n",
       "    </tr>\n",
       "    <tr>\n",
       "      <th>2</th>\n",
       "      <td>0.060349</td>\n",
       "      <td>(sausage)</td>\n",
       "    </tr>\n",
       "    <tr>\n",
       "      <th>64</th>\n",
       "      <td>0.053131</td>\n",
       "      <td>(citrus fruit)</td>\n",
       "    </tr>\n",
       "    <tr>\n",
       "      <th>4</th>\n",
       "      <td>0.051728</td>\n",
       "      <td>(pastry)</td>\n",
       "    </tr>\n",
       "    <tr>\n",
       "      <th>31</th>\n",
       "      <td>0.049054</td>\n",
       "      <td>(pip fruit)</td>\n",
       "    </tr>\n",
       "    <tr>\n",
       "      <th>34</th>\n",
       "      <td>0.047584</td>\n",
       "      <td>(shopping bags)</td>\n",
       "    </tr>\n",
       "    <tr>\n",
       "      <th>6</th>\n",
       "      <td>0.046916</td>\n",
       "      <td>(canned beer)</td>\n",
       "    </tr>\n",
       "    <tr>\n",
       "      <th>41</th>\n",
       "      <td>0.045312</td>\n",
       "      <td>(bottled beer)</td>\n",
       "    </tr>\n",
       "    <tr>\n",
       "      <th>16</th>\n",
       "      <td>0.043708</td>\n",
       "      <td>(whipped/sour cream)</td>\n",
       "    </tr>\n",
       "    <tr>\n",
       "      <th>51</th>\n",
       "      <td>0.038896</td>\n",
       "      <td>(newspapers)</td>\n",
       "    </tr>\n",
       "    <tr>\n",
       "      <th>11</th>\n",
       "      <td>0.037760</td>\n",
       "      <td>(frankfurter)</td>\n",
       "    </tr>\n",
       "    <tr>\n",
       "      <th>67</th>\n",
       "      <td>0.037626</td>\n",
       "      <td>(brown bread)</td>\n",
       "    </tr>\n",
       "    <tr>\n",
       "      <th>92</th>\n",
       "      <td>0.037091</td>\n",
       "      <td>(pork)</td>\n",
       "    </tr>\n",
       "  </tbody>\n",
       "</table>\n",
       "</div>"
      ],
      "text/plain": [
       "     support              itemsets\n",
       "0   0.157923          (whole milk)\n",
       "17  0.122101    (other vegetables)\n",
       "13  0.110005          (rolls/buns)\n",
       "9   0.097106                (soda)\n",
       "1   0.085879              (yogurt)\n",
       "24  0.069572     (root vegetables)\n",
       "20  0.067767      (tropical fruit)\n",
       "37  0.060683       (bottled water)\n",
       "2   0.060349             (sausage)\n",
       "64  0.053131        (citrus fruit)\n",
       "4   0.051728              (pastry)\n",
       "31  0.049054           (pip fruit)\n",
       "34  0.047584       (shopping bags)\n",
       "6   0.046916         (canned beer)\n",
       "41  0.045312        (bottled beer)\n",
       "16  0.043708  (whipped/sour cream)\n",
       "51  0.038896          (newspapers)\n",
       "11  0.037760         (frankfurter)\n",
       "67  0.037626         (brown bread)\n",
       "92  0.037091                (pork)"
      ]
     },
     "execution_count": 35,
     "metadata": {},
     "output_type": "execute_result"
    }
   ],
   "source": [
    "frequent_itemsets.sort_values(by=['support'], ascending=False).head(20)"
   ]
  },
  {
   "cell_type": "code",
   "execution_count": 13,
   "metadata": {},
   "outputs": [
    {
     "data": {
      "image/png": "[encoded data removed]",
      "text/plain": [
       "<Figure size 1080x1080 with 1 Axes>"
      ]
     },
     "metadata": {},
     "output_type": "display_data"
    }
   ],
   "source": [
    "# A 3D scatter plot for rules\n",
    "sns.set(style='whitegrid')\n",
    "fig = plt.figure(figsize=(15, 15))\n",
    "ax = fig.add_subplot(projection='3d')\n",
    "\n",
    "x = rules['support']\n",
    "y = rules['confidence']\n",
    "z = rules['lift']\n",
    "\n",
    "ax.set_xlabel('Support')\n",
    "ax.set_ylabel('Confidence')\n",
    "ax.set_zlabel('Lift')\n",
    "\n",
    "ax.scatter(x, y, z)\n",
    "ax.set_title('3D Distribution of Association Rules')\n",
    "\n",
    "plt.show()"
   ]
  },
  {
   "cell_type": "code",
   "execution_count": 14,
   "metadata": {},
   "outputs": [
    {
     "data": {
      "image/png": "[encoded data removed]",
      "text/plain": [
       "<Figure size 432x288 with 1 Axes>"
      ]
     },
     "metadata": {},
     "output_type": "display_data"
    }
   ],
   "source": [
    "# A network graph for association rules\n",
    "def draw_network(rules, rules_to_show):\n",
    "  # Directional Graph from NetworkX\n",
    "  network = nx.DiGraph()\n",
    "  \n",
    "  # Loop through number of rules to show\n",
    "  for i in range(rules_to_show):\n",
    "    \n",
    "    # Add a Rule Node\n",
    "    network.add_nodes_from([\"R\"+str(i)])\n",
    "    for antecedents in rules.iloc[i]['antecedents']: \n",
    "        # Add antecedent node and link to rule\n",
    "        network.add_nodes_from([antecedents])\n",
    "        network.add_edge(antecedents, \"R\"+str(i),  weight = 2)\n",
    "      \n",
    "    for consequents in rules.iloc[i]['consequents']:\n",
    "        # Add consequent node and link to rule\n",
    "        network.add_nodes_from([consequents])\n",
    "        network.add_edge(\"R\"+str(i), consequents,  weight = 2)\n",
    "\n",
    "  color_map=[]  \n",
    "  \n",
    "  # For every node, if it's a rule, colour as Black, otherwise Orange\n",
    "  for node in network:\n",
    "       if re.compile(\"^[R]\\d+$\").fullmatch(node) != None:\n",
    "            color_map.append('black')\n",
    "       else:\n",
    "            color_map.append('orange')\n",
    "  \n",
    "  # Position nodes using spring layout\n",
    "  pos = nx.spring_layout(network, k=16, scale=1)\n",
    "  # Draw the network graph\n",
    "  nx.draw(network, pos, node_color = color_map, font_size=8)            \n",
    "  \n",
    "  # Shift the text position upwards\n",
    "  for p in pos:  \n",
    "      pos[p][1] += 0.12\n",
    "\n",
    "  nx.draw_networkx_labels(network, pos)\n",
    "  plt.title(\"Network Graph for Association Rules\")\n",
    "  plt.show()\n",
    "\n",
    "draw_network(rules, 12)"
   ]
  },
  {
   "cell_type": "code",
   "execution_count": 16,
   "metadata": {},
   "outputs": [
    {
     "data": {
      "text/html": [
       "<div>\n",
       "<style scoped>\n",
       "    .dataframe tbody tr th:only-of-type {\n",
       "        vertical-align: middle;\n",
       "    }\n",
       "\n",
       "    .dataframe tbody tr th {\n",
       "        vertical-align: top;\n",
       "    }\n",
       "\n",
       "    .dataframe thead th {\n",
       "        text-align: right;\n",
       "    }\n",
       "</style>\n",
       "<table border=\"1\" class=\"dataframe\">\n",
       "  <thead>\n",
       "    <tr style=\"text-align: right;\">\n",
       "      <th></th>\n",
       "      <th>antecedents</th>\n",
       "      <th>consequents</th>\n",
       "      <th>antecedent support</th>\n",
       "      <th>consequent support</th>\n",
       "      <th>support</th>\n",
       "      <th>confidence</th>\n",
       "      <th>lift</th>\n",
       "      <th>leverage</th>\n",
       "      <th>conviction</th>\n",
       "    </tr>\n",
       "  </thead>\n",
       "  <tbody>\n",
       "    <tr>\n",
       "      <th>98</th>\n",
       "      <td>(softener)</td>\n",
       "      <td>(whole milk)</td>\n",
       "      <td>0.002740</td>\n",
       "      <td>0.157923</td>\n",
       "      <td>0.000802</td>\n",
       "      <td>0.292683</td>\n",
       "      <td>1.853328</td>\n",
       "      <td>0.000369</td>\n",
       "      <td>1.190523</td>\n",
       "    </tr>\n",
       "    <tr>\n",
       "      <th>508</th>\n",
       "      <td>(house keeping products)</td>\n",
       "      <td>(whole milk)</td>\n",
       "      <td>0.003007</td>\n",
       "      <td>0.157923</td>\n",
       "      <td>0.000735</td>\n",
       "      <td>0.244444</td>\n",
       "      <td>1.547872</td>\n",
       "      <td>0.000260</td>\n",
       "      <td>1.114514</td>\n",
       "    </tr>\n",
       "    <tr>\n",
       "      <th>614</th>\n",
       "      <td>(artif. sweetener)</td>\n",
       "      <td>(whole milk)</td>\n",
       "      <td>0.001938</td>\n",
       "      <td>0.157923</td>\n",
       "      <td>0.000535</td>\n",
       "      <td>0.275862</td>\n",
       "      <td>1.746815</td>\n",
       "      <td>0.000229</td>\n",
       "      <td>1.162868</td>\n",
       "    </tr>\n",
       "    <tr>\n",
       "      <th>706</th>\n",
       "      <td>(ready soups)</td>\n",
       "      <td>(whole milk)</td>\n",
       "      <td>0.001002</td>\n",
       "      <td>0.157923</td>\n",
       "      <td>0.000267</td>\n",
       "      <td>0.266667</td>\n",
       "      <td>1.688588</td>\n",
       "      <td>0.000109</td>\n",
       "      <td>1.148287</td>\n",
       "    </tr>\n",
       "    <tr>\n",
       "      <th>710</th>\n",
       "      <td>(brandy)</td>\n",
       "      <td>(whole milk)</td>\n",
       "      <td>0.002540</td>\n",
       "      <td>0.157923</td>\n",
       "      <td>0.000869</td>\n",
       "      <td>0.342105</td>\n",
       "      <td>2.166281</td>\n",
       "      <td>0.000468</td>\n",
       "      <td>1.279957</td>\n",
       "    </tr>\n",
       "    <tr>\n",
       "      <th>719</th>\n",
       "      <td>(light bulbs)</td>\n",
       "      <td>(whole milk)</td>\n",
       "      <td>0.001938</td>\n",
       "      <td>0.157923</td>\n",
       "      <td>0.000468</td>\n",
       "      <td>0.241379</td>\n",
       "      <td>1.528463</td>\n",
       "      <td>0.000162</td>\n",
       "      <td>1.110011</td>\n",
       "    </tr>\n",
       "    <tr>\n",
       "      <th>726</th>\n",
       "      <td>(syrup)</td>\n",
       "      <td>(whole milk)</td>\n",
       "      <td>0.001403</td>\n",
       "      <td>0.157923</td>\n",
       "      <td>0.000401</td>\n",
       "      <td>0.285714</td>\n",
       "      <td>1.809201</td>\n",
       "      <td>0.000179</td>\n",
       "      <td>1.178908</td>\n",
       "    </tr>\n",
       "    <tr>\n",
       "      <th>732</th>\n",
       "      <td>(canned fruit)</td>\n",
       "      <td>(whole milk)</td>\n",
       "      <td>0.001403</td>\n",
       "      <td>0.157923</td>\n",
       "      <td>0.000401</td>\n",
       "      <td>0.285714</td>\n",
       "      <td>1.809201</td>\n",
       "      <td>0.000179</td>\n",
       "      <td>1.178908</td>\n",
       "    </tr>\n",
       "  </tbody>\n",
       "</table>\n",
       "</div>"
      ],
      "text/plain": [
       "                  antecedents   consequents  antecedent support  \\\n",
       "98                 (softener)  (whole milk)            0.002740   \n",
       "508  (house keeping products)  (whole milk)            0.003007   \n",
       "614        (artif. sweetener)  (whole milk)            0.001938   \n",
       "706             (ready soups)  (whole milk)            0.001002   \n",
       "710                  (brandy)  (whole milk)            0.002540   \n",
       "719             (light bulbs)  (whole milk)            0.001938   \n",
       "726                   (syrup)  (whole milk)            0.001403   \n",
       "732            (canned fruit)  (whole milk)            0.001403   \n",
       "\n",
       "     consequent support   support  confidence      lift  leverage  conviction  \n",
       "98             0.157923  0.000802    0.292683  1.853328  0.000369    1.190523  \n",
       "508            0.157923  0.000735    0.244444  1.547872  0.000260    1.114514  \n",
       "614            0.157923  0.000535    0.275862  1.746815  0.000229    1.162868  \n",
       "706            0.157923  0.000267    0.266667  1.688588  0.000109    1.148287  \n",
       "710            0.157923  0.000869    0.342105  2.166281  0.000468    1.279957  \n",
       "719            0.157923  0.000468    0.241379  1.528463  0.000162    1.110011  \n",
       "726            0.157923  0.000401    0.285714  1.809201  0.000179    1.178908  \n",
       "732            0.157923  0.000401    0.285714  1.809201  0.000179    1.178908  "
      ]
     },
     "execution_count": 16,
     "metadata": {},
     "output_type": "execute_result"
    }
   ],
   "source": [
    "# Select assocation rules in which \"whole milk is the consequent\"\n",
    "rules[rules['consequents'] == {'whole milk'}]"
   ]
  },
  {
   "cell_type": "code",
   "execution_count": 17,
   "metadata": {},
   "outputs": [
    {
     "data": {
      "text/html": [
       "<div>\n",
       "<style scoped>\n",
       "    .dataframe tbody tr th:only-of-type {\n",
       "        vertical-align: middle;\n",
       "    }\n",
       "\n",
       "    .dataframe tbody tr th {\n",
       "        vertical-align: top;\n",
       "    }\n",
       "\n",
       "    .dataframe thead th {\n",
       "        text-align: right;\n",
       "    }\n",
       "</style>\n",
       "<table border=\"1\" class=\"dataframe\">\n",
       "  <thead>\n",
       "    <tr style=\"text-align: right;\">\n",
       "      <th></th>\n",
       "      <th>antecedents</th>\n",
       "      <th>consequents</th>\n",
       "      <th>antecedent support</th>\n",
       "      <th>consequent support</th>\n",
       "      <th>support</th>\n",
       "      <th>confidence</th>\n",
       "      <th>lift</th>\n",
       "      <th>leverage</th>\n",
       "      <th>conviction</th>\n",
       "    </tr>\n",
       "  </thead>\n",
       "  <tbody>\n",
       "    <tr>\n",
       "      <th>98</th>\n",
       "      <td>(softener)</td>\n",
       "      <td>(whole milk)</td>\n",
       "      <td>0.002740</td>\n",
       "      <td>0.157923</td>\n",
       "      <td>0.000802</td>\n",
       "      <td>0.292683</td>\n",
       "      <td>1.853328</td>\n",
       "      <td>0.000369</td>\n",
       "      <td>1.190523</td>\n",
       "    </tr>\n",
       "    <tr>\n",
       "      <th>508</th>\n",
       "      <td>(house keeping products)</td>\n",
       "      <td>(whole milk)</td>\n",
       "      <td>0.003007</td>\n",
       "      <td>0.157923</td>\n",
       "      <td>0.000735</td>\n",
       "      <td>0.244444</td>\n",
       "      <td>1.547872</td>\n",
       "      <td>0.000260</td>\n",
       "      <td>1.114514</td>\n",
       "    </tr>\n",
       "    <tr>\n",
       "      <th>614</th>\n",
       "      <td>(artif. sweetener)</td>\n",
       "      <td>(whole milk)</td>\n",
       "      <td>0.001938</td>\n",
       "      <td>0.157923</td>\n",
       "      <td>0.000535</td>\n",
       "      <td>0.275862</td>\n",
       "      <td>1.746815</td>\n",
       "      <td>0.000229</td>\n",
       "      <td>1.162868</td>\n",
       "    </tr>\n",
       "    <tr>\n",
       "      <th>706</th>\n",
       "      <td>(ready soups)</td>\n",
       "      <td>(whole milk)</td>\n",
       "      <td>0.001002</td>\n",
       "      <td>0.157923</td>\n",
       "      <td>0.000267</td>\n",
       "      <td>0.266667</td>\n",
       "      <td>1.688588</td>\n",
       "      <td>0.000109</td>\n",
       "      <td>1.148287</td>\n",
       "    </tr>\n",
       "    <tr>\n",
       "      <th>710</th>\n",
       "      <td>(brandy)</td>\n",
       "      <td>(whole milk)</td>\n",
       "      <td>0.002540</td>\n",
       "      <td>0.157923</td>\n",
       "      <td>0.000869</td>\n",
       "      <td>0.342105</td>\n",
       "      <td>2.166281</td>\n",
       "      <td>0.000468</td>\n",
       "      <td>1.279957</td>\n",
       "    </tr>\n",
       "    <tr>\n",
       "      <th>719</th>\n",
       "      <td>(light bulbs)</td>\n",
       "      <td>(whole milk)</td>\n",
       "      <td>0.001938</td>\n",
       "      <td>0.157923</td>\n",
       "      <td>0.000468</td>\n",
       "      <td>0.241379</td>\n",
       "      <td>1.528463</td>\n",
       "      <td>0.000162</td>\n",
       "      <td>1.110011</td>\n",
       "    </tr>\n",
       "    <tr>\n",
       "      <th>726</th>\n",
       "      <td>(syrup)</td>\n",
       "      <td>(whole milk)</td>\n",
       "      <td>0.001403</td>\n",
       "      <td>0.157923</td>\n",
       "      <td>0.000401</td>\n",
       "      <td>0.285714</td>\n",
       "      <td>1.809201</td>\n",
       "      <td>0.000179</td>\n",
       "      <td>1.178908</td>\n",
       "    </tr>\n",
       "    <tr>\n",
       "      <th>732</th>\n",
       "      <td>(canned fruit)</td>\n",
       "      <td>(whole milk)</td>\n",
       "      <td>0.001403</td>\n",
       "      <td>0.157923</td>\n",
       "      <td>0.000401</td>\n",
       "      <td>0.285714</td>\n",
       "      <td>1.809201</td>\n",
       "      <td>0.000179</td>\n",
       "      <td>1.178908</td>\n",
       "    </tr>\n",
       "  </tbody>\n",
       "</table>\n",
       "</div>"
      ],
      "text/plain": [
       "                  antecedents   consequents  antecedent support  \\\n",
       "98                 (softener)  (whole milk)            0.002740   \n",
       "508  (house keeping products)  (whole milk)            0.003007   \n",
       "614        (artif. sweetener)  (whole milk)            0.001938   \n",
       "706             (ready soups)  (whole milk)            0.001002   \n",
       "710                  (brandy)  (whole milk)            0.002540   \n",
       "719             (light bulbs)  (whole milk)            0.001938   \n",
       "726                   (syrup)  (whole milk)            0.001403   \n",
       "732            (canned fruit)  (whole milk)            0.001403   \n",
       "\n",
       "     consequent support   support  confidence      lift  leverage  conviction  \n",
       "98             0.157923  0.000802    0.292683  1.853328  0.000369    1.190523  \n",
       "508            0.157923  0.000735    0.244444  1.547872  0.000260    1.114514  \n",
       "614            0.157923  0.000535    0.275862  1.746815  0.000229    1.162868  \n",
       "706            0.157923  0.000267    0.266667  1.688588  0.000109    1.148287  \n",
       "710            0.157923  0.000869    0.342105  2.166281  0.000468    1.279957  \n",
       "719            0.157923  0.000468    0.241379  1.528463  0.000162    1.110011  \n",
       "726            0.157923  0.000401    0.285714  1.809201  0.000179    1.178908  \n",
       "732            0.157923  0.000401    0.285714  1.809201  0.000179    1.178908  "
      ]
     },
     "execution_count": 17,
     "metadata": {},
     "output_type": "execute_result"
    }
   ],
   "source": [
    "# This equals to\n",
    "# whole_milk_rules = rules[rules['consequants'] == {'whole milk'}]\n",
    "whole_milk_rules = rules[rules['consequents'].astype(str).str.contains('whole milk')]\n",
    "whole_milk_rules"
   ]
  },
  {
   "cell_type": "code",
   "execution_count": 18,
   "metadata": {},
   "outputs": [
    {
     "data": {
      "text/html": [
       "<div>\n",
       "<style scoped>\n",
       "    .dataframe tbody tr th:only-of-type {\n",
       "        vertical-align: middle;\n",
       "    }\n",
       "\n",
       "    .dataframe tbody tr th {\n",
       "        vertical-align: top;\n",
       "    }\n",
       "\n",
       "    .dataframe thead th {\n",
       "        text-align: right;\n",
       "    }\n",
       "</style>\n",
       "<table border=\"1\" class=\"dataframe\">\n",
       "  <thead>\n",
       "    <tr style=\"text-align: right;\">\n",
       "      <th></th>\n",
       "      <th>antecedents</th>\n",
       "      <th>consequents</th>\n",
       "      <th>antecedent support</th>\n",
       "      <th>consequent support</th>\n",
       "      <th>support</th>\n",
       "      <th>confidence</th>\n",
       "      <th>lift</th>\n",
       "      <th>leverage</th>\n",
       "      <th>conviction</th>\n",
       "    </tr>\n",
       "  </thead>\n",
       "  <tbody>\n",
       "    <tr>\n",
       "      <th>0</th>\n",
       "      <td>(brandy)</td>\n",
       "      <td>(whole milk)</td>\n",
       "      <td>0.002540</td>\n",
       "      <td>0.157923</td>\n",
       "      <td>0.000869</td>\n",
       "      <td>0.342105</td>\n",
       "      <td>2.166281</td>\n",
       "      <td>0.000468</td>\n",
       "      <td>1.279957</td>\n",
       "    </tr>\n",
       "    <tr>\n",
       "      <th>1</th>\n",
       "      <td>(softener)</td>\n",
       "      <td>(whole milk)</td>\n",
       "      <td>0.002740</td>\n",
       "      <td>0.157923</td>\n",
       "      <td>0.000802</td>\n",
       "      <td>0.292683</td>\n",
       "      <td>1.853328</td>\n",
       "      <td>0.000369</td>\n",
       "      <td>1.190523</td>\n",
       "    </tr>\n",
       "    <tr>\n",
       "      <th>2</th>\n",
       "      <td>(syrup)</td>\n",
       "      <td>(whole milk)</td>\n",
       "      <td>0.001403</td>\n",
       "      <td>0.157923</td>\n",
       "      <td>0.000401</td>\n",
       "      <td>0.285714</td>\n",
       "      <td>1.809201</td>\n",
       "      <td>0.000179</td>\n",
       "      <td>1.178908</td>\n",
       "    </tr>\n",
       "    <tr>\n",
       "      <th>3</th>\n",
       "      <td>(canned fruit)</td>\n",
       "      <td>(whole milk)</td>\n",
       "      <td>0.001403</td>\n",
       "      <td>0.157923</td>\n",
       "      <td>0.000401</td>\n",
       "      <td>0.285714</td>\n",
       "      <td>1.809201</td>\n",
       "      <td>0.000179</td>\n",
       "      <td>1.178908</td>\n",
       "    </tr>\n",
       "    <tr>\n",
       "      <th>4</th>\n",
       "      <td>(artif. sweetener)</td>\n",
       "      <td>(whole milk)</td>\n",
       "      <td>0.001938</td>\n",
       "      <td>0.157923</td>\n",
       "      <td>0.000535</td>\n",
       "      <td>0.275862</td>\n",
       "      <td>1.746815</td>\n",
       "      <td>0.000229</td>\n",
       "      <td>1.162868</td>\n",
       "    </tr>\n",
       "    <tr>\n",
       "      <th>5</th>\n",
       "      <td>(ready soups)</td>\n",
       "      <td>(whole milk)</td>\n",
       "      <td>0.001002</td>\n",
       "      <td>0.157923</td>\n",
       "      <td>0.000267</td>\n",
       "      <td>0.266667</td>\n",
       "      <td>1.688588</td>\n",
       "      <td>0.000109</td>\n",
       "      <td>1.148287</td>\n",
       "    </tr>\n",
       "    <tr>\n",
       "      <th>6</th>\n",
       "      <td>(house keeping products)</td>\n",
       "      <td>(whole milk)</td>\n",
       "      <td>0.003007</td>\n",
       "      <td>0.157923</td>\n",
       "      <td>0.000735</td>\n",
       "      <td>0.244444</td>\n",
       "      <td>1.547872</td>\n",
       "      <td>0.000260</td>\n",
       "      <td>1.114514</td>\n",
       "    </tr>\n",
       "    <tr>\n",
       "      <th>7</th>\n",
       "      <td>(light bulbs)</td>\n",
       "      <td>(whole milk)</td>\n",
       "      <td>0.001938</td>\n",
       "      <td>0.157923</td>\n",
       "      <td>0.000468</td>\n",
       "      <td>0.241379</td>\n",
       "      <td>1.528463</td>\n",
       "      <td>0.000162</td>\n",
       "      <td>1.110011</td>\n",
       "    </tr>\n",
       "  </tbody>\n",
       "</table>\n",
       "</div>"
      ],
      "text/plain": [
       "                antecedents   consequents  antecedent support  \\\n",
       "0                  (brandy)  (whole milk)            0.002540   \n",
       "1                (softener)  (whole milk)            0.002740   \n",
       "2                   (syrup)  (whole milk)            0.001403   \n",
       "3            (canned fruit)  (whole milk)            0.001403   \n",
       "4        (artif. sweetener)  (whole milk)            0.001938   \n",
       "5             (ready soups)  (whole milk)            0.001002   \n",
       "6  (house keeping products)  (whole milk)            0.003007   \n",
       "7             (light bulbs)  (whole milk)            0.001938   \n",
       "\n",
       "   consequent support   support  confidence      lift  leverage  conviction  \n",
       "0            0.157923  0.000869    0.342105  2.166281  0.000468    1.279957  \n",
       "1            0.157923  0.000802    0.292683  1.853328  0.000369    1.190523  \n",
       "2            0.157923  0.000401    0.285714  1.809201  0.000179    1.178908  \n",
       "3            0.157923  0.000401    0.285714  1.809201  0.000179    1.178908  \n",
       "4            0.157923  0.000535    0.275862  1.746815  0.000229    1.162868  \n",
       "5            0.157923  0.000267    0.266667  1.688588  0.000109    1.148287  \n",
       "6            0.157923  0.000735    0.244444  1.547872  0.000260    1.114514  \n",
       "7            0.157923  0.000468    0.241379  1.528463  0.000162    1.110011  "
      ]
     },
     "execution_count": 18,
     "metadata": {},
     "output_type": "execute_result"
    }
   ],
   "source": [
    "whole_milk_rules = whole_milk_rules.sort_values(by=['lift'], ascending=False).reset_index(drop=True)\n",
    "whole_milk_rules"
   ]
  },
  {
   "cell_type": "code",
   "execution_count": 19,
   "metadata": {},
   "outputs": [
    {
     "data": {
      "text/html": [
       "<div>\n",
       "<style scoped>\n",
       "    .dataframe tbody tr th:only-of-type {\n",
       "        vertical-align: middle;\n",
       "    }\n",
       "\n",
       "    .dataframe tbody tr th {\n",
       "        vertical-align: top;\n",
       "    }\n",
       "\n",
       "    .dataframe thead th {\n",
       "        text-align: right;\n",
       "    }\n",
       "</style>\n",
       "<table border=\"1\" class=\"dataframe\">\n",
       "  <thead>\n",
       "    <tr style=\"text-align: right;\">\n",
       "      <th></th>\n",
       "      <th>antecedents</th>\n",
       "      <th>consequents</th>\n",
       "      <th>antecedent support</th>\n",
       "      <th>consequent support</th>\n",
       "      <th>support</th>\n",
       "      <th>confidence</th>\n",
       "      <th>lift</th>\n",
       "      <th>leverage</th>\n",
       "      <th>conviction</th>\n",
       "      <th>rule</th>\n",
       "    </tr>\n",
       "  </thead>\n",
       "  <tbody>\n",
       "    <tr>\n",
       "      <th>0</th>\n",
       "      <td>(semi-finished bread)</td>\n",
       "      <td>(salty snack)</td>\n",
       "      <td>0.009490</td>\n",
       "      <td>0.018780</td>\n",
       "      <td>0.000334</td>\n",
       "      <td>0.035211</td>\n",
       "      <td>1.874969</td>\n",
       "      <td>0.000156</td>\n",
       "      <td>1.017031</td>\n",
       "      <td>{'semi-finished bread'} -&gt; {'salty snack'}</td>\n",
       "    </tr>\n",
       "    <tr>\n",
       "      <th>1</th>\n",
       "      <td>(salty snack)</td>\n",
       "      <td>(semi-finished bread)</td>\n",
       "      <td>0.018780</td>\n",
       "      <td>0.009490</td>\n",
       "      <td>0.000334</td>\n",
       "      <td>0.017794</td>\n",
       "      <td>1.874969</td>\n",
       "      <td>0.000156</td>\n",
       "      <td>1.008454</td>\n",
       "      <td>{'salty snack'} -&gt; {'semi-finished bread'}</td>\n",
       "    </tr>\n",
       "    <tr>\n",
       "      <th>2</th>\n",
       "      <td>(semi-finished bread)</td>\n",
       "      <td>(sliced cheese)</td>\n",
       "      <td>0.009490</td>\n",
       "      <td>0.014035</td>\n",
       "      <td>0.000267</td>\n",
       "      <td>0.028169</td>\n",
       "      <td>2.007109</td>\n",
       "      <td>0.000134</td>\n",
       "      <td>1.014544</td>\n",
       "      <td>{'semi-finished bread'} -&gt; {'sliced cheese'}</td>\n",
       "    </tr>\n",
       "    <tr>\n",
       "      <th>3</th>\n",
       "      <td>(sliced cheese)</td>\n",
       "      <td>(semi-finished bread)</td>\n",
       "      <td>0.014035</td>\n",
       "      <td>0.009490</td>\n",
       "      <td>0.000267</td>\n",
       "      <td>0.019048</td>\n",
       "      <td>2.007109</td>\n",
       "      <td>0.000134</td>\n",
       "      <td>1.009743</td>\n",
       "      <td>{'sliced cheese'} -&gt; {'semi-finished bread'}</td>\n",
       "    </tr>\n",
       "    <tr>\n",
       "      <th>4</th>\n",
       "      <td>(semi-finished bread)</td>\n",
       "      <td>(napkins)</td>\n",
       "      <td>0.009490</td>\n",
       "      <td>0.022121</td>\n",
       "      <td>0.000468</td>\n",
       "      <td>0.049296</td>\n",
       "      <td>2.228437</td>\n",
       "      <td>0.000258</td>\n",
       "      <td>1.028584</td>\n",
       "      <td>{'semi-finished bread'} -&gt; {'napkins'}</td>\n",
       "    </tr>\n",
       "  </tbody>\n",
       "</table>\n",
       "</div>"
      ],
      "text/plain": [
       "             antecedents            consequents  antecedent support  \\\n",
       "0  (semi-finished bread)          (salty snack)            0.009490   \n",
       "1          (salty snack)  (semi-finished bread)            0.018780   \n",
       "2  (semi-finished bread)        (sliced cheese)            0.009490   \n",
       "3        (sliced cheese)  (semi-finished bread)            0.014035   \n",
       "4  (semi-finished bread)              (napkins)            0.009490   \n",
       "\n",
       "   consequent support   support  confidence      lift  leverage  conviction  \\\n",
       "0            0.018780  0.000334    0.035211  1.874969  0.000156    1.017031   \n",
       "1            0.009490  0.000334    0.017794  1.874969  0.000156    1.008454   \n",
       "2            0.014035  0.000267    0.028169  2.007109  0.000134    1.014544   \n",
       "3            0.009490  0.000267    0.019048  2.007109  0.000134    1.009743   \n",
       "4            0.022121  0.000468    0.049296  2.228437  0.000258    1.028584   \n",
       "\n",
       "                                           rule  \n",
       "0    {'semi-finished bread'} -> {'salty snack'}  \n",
       "1    {'salty snack'} -> {'semi-finished bread'}  \n",
       "2  {'semi-finished bread'} -> {'sliced cheese'}  \n",
       "3  {'sliced cheese'} -> {'semi-finished bread'}  \n",
       "4        {'semi-finished bread'} -> {'napkins'}  "
      ]
     },
     "execution_count": 19,
     "metadata": {},
     "output_type": "execute_result"
    }
   ],
   "source": [
    "rules['rule'] = rules['antecedents'].transform(lambda x: str(set(x))) + ' -> ' + rules['consequents'].transform(lambda x: str(set(x)))\n",
    "rules.head()"
   ]
  },
  {
   "cell_type": "code",
   "execution_count": 20,
   "metadata": {},
   "outputs": [
    {
     "data": {
      "text/html": [
       "<div>\n",
       "<style scoped>\n",
       "    .dataframe tbody tr th:only-of-type {\n",
       "        vertical-align: middle;\n",
       "    }\n",
       "\n",
       "    .dataframe tbody tr th {\n",
       "        vertical-align: top;\n",
       "    }\n",
       "\n",
       "    .dataframe thead th {\n",
       "        text-align: right;\n",
       "    }\n",
       "</style>\n",
       "<table border=\"1\" class=\"dataframe\">\n",
       "  <thead>\n",
       "    <tr style=\"text-align: right;\">\n",
       "      <th></th>\n",
       "      <th>antecedents</th>\n",
       "      <th>consequents</th>\n",
       "      <th>antecedent support</th>\n",
       "      <th>consequent support</th>\n",
       "      <th>support</th>\n",
       "      <th>confidence</th>\n",
       "      <th>lift</th>\n",
       "      <th>leverage</th>\n",
       "      <th>conviction</th>\n",
       "      <th>rule</th>\n",
       "    </tr>\n",
       "  </thead>\n",
       "  <tbody>\n",
       "    <tr>\n",
       "      <th>289</th>\n",
       "      <td>(napkins)</td>\n",
       "      <td>(pastry)</td>\n",
       "      <td>0.022121</td>\n",
       "      <td>0.051728</td>\n",
       "      <td>0.001738</td>\n",
       "      <td>0.078550</td>\n",
       "      <td>1.518529</td>\n",
       "      <td>0.000593</td>\n",
       "      <td>1.029109</td>\n",
       "      <td>{'napkins'} -&gt; {'pastry'}</td>\n",
       "    </tr>\n",
       "    <tr>\n",
       "      <th>288</th>\n",
       "      <td>(pastry)</td>\n",
       "      <td>(napkins)</td>\n",
       "      <td>0.051728</td>\n",
       "      <td>0.022121</td>\n",
       "      <td>0.001738</td>\n",
       "      <td>0.033592</td>\n",
       "      <td>1.518529</td>\n",
       "      <td>0.000593</td>\n",
       "      <td>1.011869</td>\n",
       "      <td>{'pastry'} -&gt; {'napkins'}</td>\n",
       "    </tr>\n",
       "    <tr>\n",
       "      <th>329</th>\n",
       "      <td>(beverages)</td>\n",
       "      <td>(sausage)</td>\n",
       "      <td>0.016574</td>\n",
       "      <td>0.060349</td>\n",
       "      <td>0.001537</td>\n",
       "      <td>0.092742</td>\n",
       "      <td>1.536764</td>\n",
       "      <td>0.000537</td>\n",
       "      <td>1.035704</td>\n",
       "      <td>{'beverages'} -&gt; {'sausage'}</td>\n",
       "    </tr>\n",
       "    <tr>\n",
       "      <th>328</th>\n",
       "      <td>(sausage)</td>\n",
       "      <td>(beverages)</td>\n",
       "      <td>0.060349</td>\n",
       "      <td>0.016574</td>\n",
       "      <td>0.001537</td>\n",
       "      <td>0.025471</td>\n",
       "      <td>1.536764</td>\n",
       "      <td>0.000537</td>\n",
       "      <td>1.009129</td>\n",
       "      <td>{'sausage'} -&gt; {'beverages'}</td>\n",
       "    </tr>\n",
       "    <tr>\n",
       "      <th>19</th>\n",
       "      <td>(citrus fruit)</td>\n",
       "      <td>(specialty chocolate)</td>\n",
       "      <td>0.053131</td>\n",
       "      <td>0.015973</td>\n",
       "      <td>0.001403</td>\n",
       "      <td>0.026415</td>\n",
       "      <td>1.653762</td>\n",
       "      <td>0.000555</td>\n",
       "      <td>1.010726</td>\n",
       "      <td>{'citrus fruit'} -&gt; {'specialty chocolate'}</td>\n",
       "    </tr>\n",
       "  </tbody>\n",
       "</table>\n",
       "</div>"
      ],
      "text/plain": [
       "        antecedents            consequents  antecedent support  \\\n",
       "289       (napkins)               (pastry)            0.022121   \n",
       "288        (pastry)              (napkins)            0.051728   \n",
       "329     (beverages)              (sausage)            0.016574   \n",
       "328       (sausage)            (beverages)            0.060349   \n",
       "19   (citrus fruit)  (specialty chocolate)            0.053131   \n",
       "\n",
       "     consequent support   support  confidence      lift  leverage  conviction  \\\n",
       "289            0.051728  0.001738    0.078550  1.518529  0.000593    1.029109   \n",
       "288            0.022121  0.001738    0.033592  1.518529  0.000593    1.011869   \n",
       "329            0.060349  0.001537    0.092742  1.536764  0.000537    1.035704   \n",
       "328            0.016574  0.001537    0.025471  1.536764  0.000537    1.009129   \n",
       "19             0.015973  0.001403    0.026415  1.653762  0.000555    1.010726   \n",
       "\n",
       "                                            rule  \n",
       "289                    {'napkins'} -> {'pastry'}  \n",
       "288                    {'pastry'} -> {'napkins'}  \n",
       "329                 {'beverages'} -> {'sausage'}  \n",
       "328                 {'sausage'} -> {'beverages'}  \n",
       "19   {'citrus fruit'} -> {'specialty chocolate'}  "
      ]
     },
     "execution_count": 20,
     "metadata": {},
     "output_type": "execute_result"
    }
   ],
   "source": [
    "rules.sort_values(by=['support'], ascending=False).head()"
   ]
  },
  {
   "cell_type": "code",
   "execution_count": 21,
   "metadata": {},
   "outputs": [
    {
     "data": {
      "text/plain": [
       "<AxesSubplot:ylabel='rule'>"
      ]
     },
     "execution_count": 21,
     "metadata": {},
     "output_type": "execute_result"
    },
    {
     "data": {
      "image/png": "[encoded data removed]",
      "text/plain": [
       "<Figure size 1440x1080 with 1 Axes>"
      ]
     },
     "metadata": {},
     "output_type": "display_data"
    }
   ],
   "source": [
    "sorted_by_support_rules = rules.sort_values(by=['support'], ascending=False).head()\n",
    "sorted_by_support_rules[['support', 'rule']].plot.barh(x='rule', y='support', figsize=(20, 15))\n"
   ]
  },
  {
   "cell_type": "code",
   "execution_count": 22,
   "metadata": {},
   "outputs": [
    {
     "data": {
      "text/html": [
       "<div>\n",
       "<style scoped>\n",
       "    .dataframe tbody tr th:only-of-type {\n",
       "        vertical-align: middle;\n",
       "    }\n",
       "\n",
       "    .dataframe tbody tr th {\n",
       "        vertical-align: top;\n",
       "    }\n",
       "\n",
       "    .dataframe thead th {\n",
       "        text-align: right;\n",
       "    }\n",
       "</style>\n",
       "<table border=\"1\" class=\"dataframe\">\n",
       "  <thead>\n",
       "    <tr style=\"text-align: right;\">\n",
       "      <th></th>\n",
       "      <th>antecedents</th>\n",
       "      <th>consequents</th>\n",
       "      <th>antecedent support</th>\n",
       "      <th>consequent support</th>\n",
       "      <th>support</th>\n",
       "      <th>confidence</th>\n",
       "      <th>lift</th>\n",
       "      <th>leverage</th>\n",
       "      <th>conviction</th>\n",
       "      <th>rule</th>\n",
       "    </tr>\n",
       "  </thead>\n",
       "  <tbody>\n",
       "    <tr>\n",
       "      <th>289</th>\n",
       "      <td>(napkins)</td>\n",
       "      <td>(pastry)</td>\n",
       "      <td>0.022121</td>\n",
       "      <td>0.051728</td>\n",
       "      <td>0.001738</td>\n",
       "      <td>0.078550</td>\n",
       "      <td>1.518529</td>\n",
       "      <td>0.000593</td>\n",
       "      <td>1.029109</td>\n",
       "      <td>{'napkins'} -&gt; {'pastry'}</td>\n",
       "    </tr>\n",
       "    <tr>\n",
       "      <th>288</th>\n",
       "      <td>(pastry)</td>\n",
       "      <td>(napkins)</td>\n",
       "      <td>0.051728</td>\n",
       "      <td>0.022121</td>\n",
       "      <td>0.001738</td>\n",
       "      <td>0.033592</td>\n",
       "      <td>1.518529</td>\n",
       "      <td>0.000593</td>\n",
       "      <td>1.011869</td>\n",
       "      <td>{'pastry'} -&gt; {'napkins'}</td>\n",
       "    </tr>\n",
       "    <tr>\n",
       "      <th>329</th>\n",
       "      <td>(beverages)</td>\n",
       "      <td>(sausage)</td>\n",
       "      <td>0.016574</td>\n",
       "      <td>0.060349</td>\n",
       "      <td>0.001537</td>\n",
       "      <td>0.092742</td>\n",
       "      <td>1.536764</td>\n",
       "      <td>0.000537</td>\n",
       "      <td>1.035704</td>\n",
       "      <td>{'beverages'} -&gt; {'sausage'}</td>\n",
       "    </tr>\n",
       "    <tr>\n",
       "      <th>328</th>\n",
       "      <td>(sausage)</td>\n",
       "      <td>(beverages)</td>\n",
       "      <td>0.060349</td>\n",
       "      <td>0.016574</td>\n",
       "      <td>0.001537</td>\n",
       "      <td>0.025471</td>\n",
       "      <td>1.536764</td>\n",
       "      <td>0.000537</td>\n",
       "      <td>1.009129</td>\n",
       "      <td>{'sausage'} -&gt; {'beverages'}</td>\n",
       "    </tr>\n",
       "    <tr>\n",
       "      <th>19</th>\n",
       "      <td>(citrus fruit)</td>\n",
       "      <td>(specialty chocolate)</td>\n",
       "      <td>0.053131</td>\n",
       "      <td>0.015973</td>\n",
       "      <td>0.001403</td>\n",
       "      <td>0.026415</td>\n",
       "      <td>1.653762</td>\n",
       "      <td>0.000555</td>\n",
       "      <td>1.010726</td>\n",
       "      <td>{'citrus fruit'} -&gt; {'specialty chocolate'}</td>\n",
       "    </tr>\n",
       "  </tbody>\n",
       "</table>\n",
       "</div>"
      ],
      "text/plain": [
       "        antecedents            consequents  antecedent support  \\\n",
       "289       (napkins)               (pastry)            0.022121   \n",
       "288        (pastry)              (napkins)            0.051728   \n",
       "329     (beverages)              (sausage)            0.016574   \n",
       "328       (sausage)            (beverages)            0.060349   \n",
       "19   (citrus fruit)  (specialty chocolate)            0.053131   \n",
       "\n",
       "     consequent support   support  confidence      lift  leverage  conviction  \\\n",
       "289            0.051728  0.001738    0.078550  1.518529  0.000593    1.029109   \n",
       "288            0.022121  0.001738    0.033592  1.518529  0.000593    1.011869   \n",
       "329            0.060349  0.001537    0.092742  1.536764  0.000537    1.035704   \n",
       "328            0.016574  0.001537    0.025471  1.536764  0.000537    1.009129   \n",
       "19             0.015973  0.001403    0.026415  1.653762  0.000555    1.010726   \n",
       "\n",
       "                                            rule  \n",
       "289                    {'napkins'} -> {'pastry'}  \n",
       "288                    {'pastry'} -> {'napkins'}  \n",
       "329                 {'beverages'} -> {'sausage'}  \n",
       "328                 {'sausage'} -> {'beverages'}  \n",
       "19   {'citrus fruit'} -> {'specialty chocolate'}  "
      ]
     },
     "execution_count": 22,
     "metadata": {},
     "output_type": "execute_result"
    }
   ],
   "source": [
    "rules.sort_values(by=['support'], ascending=False).head()\n"
   ]
  },
  {
   "cell_type": "code",
   "execution_count": 23,
   "metadata": {},
   "outputs": [
    {
     "data": {
      "text/html": [
       "<div>\n",
       "<style scoped>\n",
       "    .dataframe tbody tr th:only-of-type {\n",
       "        vertical-align: middle;\n",
       "    }\n",
       "\n",
       "    .dataframe tbody tr th {\n",
       "        vertical-align: top;\n",
       "    }\n",
       "\n",
       "    .dataframe thead th {\n",
       "        text-align: right;\n",
       "    }\n",
       "</style>\n",
       "<table border=\"1\" class=\"dataframe\">\n",
       "  <thead>\n",
       "    <tr style=\"text-align: right;\">\n",
       "      <th></th>\n",
       "      <th>antecedents</th>\n",
       "      <th>consequents</th>\n",
       "      <th>antecedent support</th>\n",
       "      <th>consequent support</th>\n",
       "      <th>support</th>\n",
       "      <th>confidence</th>\n",
       "      <th>lift</th>\n",
       "      <th>leverage</th>\n",
       "      <th>conviction</th>\n",
       "      <th>rule</th>\n",
       "    </tr>\n",
       "  </thead>\n",
       "  <tbody>\n",
       "    <tr>\n",
       "      <th>688</th>\n",
       "      <td>(soups)</td>\n",
       "      <td>(seasonal products)</td>\n",
       "      <td>0.003208</td>\n",
       "      <td>0.007084</td>\n",
       "      <td>0.000334</td>\n",
       "      <td>0.104167</td>\n",
       "      <td>14.704206</td>\n",
       "      <td>0.000311</td>\n",
       "      <td>1.108371</td>\n",
       "      <td>{'soups'} -&gt; {'seasonal products'}</td>\n",
       "    </tr>\n",
       "    <tr>\n",
       "      <th>689</th>\n",
       "      <td>(seasonal products)</td>\n",
       "      <td>(soups)</td>\n",
       "      <td>0.007084</td>\n",
       "      <td>0.003208</td>\n",
       "      <td>0.000334</td>\n",
       "      <td>0.047170</td>\n",
       "      <td>14.704206</td>\n",
       "      <td>0.000311</td>\n",
       "      <td>1.046138</td>\n",
       "      <td>{'seasonal products'} -&gt; {'soups'}</td>\n",
       "    </tr>\n",
       "    <tr>\n",
       "      <th>296</th>\n",
       "      <td>(oil)</td>\n",
       "      <td>(cookware)</td>\n",
       "      <td>0.014903</td>\n",
       "      <td>0.001136</td>\n",
       "      <td>0.000200</td>\n",
       "      <td>0.013453</td>\n",
       "      <td>11.840939</td>\n",
       "      <td>0.000184</td>\n",
       "      <td>1.012485</td>\n",
       "      <td>{'oil'} -&gt; {'cookware'}</td>\n",
       "    </tr>\n",
       "    <tr>\n",
       "      <th>297</th>\n",
       "      <td>(cookware)</td>\n",
       "      <td>(oil)</td>\n",
       "      <td>0.001136</td>\n",
       "      <td>0.014903</td>\n",
       "      <td>0.000200</td>\n",
       "      <td>0.176471</td>\n",
       "      <td>11.840939</td>\n",
       "      <td>0.000184</td>\n",
       "      <td>1.196189</td>\n",
       "      <td>{'cookware'} -&gt; {'oil'}</td>\n",
       "    </tr>\n",
       "    <tr>\n",
       "      <th>115</th>\n",
       "      <td>(roll products )</td>\n",
       "      <td>(rice)</td>\n",
       "      <td>0.005480</td>\n",
       "      <td>0.003275</td>\n",
       "      <td>0.000200</td>\n",
       "      <td>0.036585</td>\n",
       "      <td>11.171976</td>\n",
       "      <td>0.000183</td>\n",
       "      <td>1.034576</td>\n",
       "      <td>{'roll products '} -&gt; {'rice'}</td>\n",
       "    </tr>\n",
       "  </tbody>\n",
       "</table>\n",
       "</div>"
      ],
      "text/plain": [
       "             antecedents          consequents  antecedent support  \\\n",
       "688              (soups)  (seasonal products)            0.003208   \n",
       "689  (seasonal products)              (soups)            0.007084   \n",
       "296                (oil)           (cookware)            0.014903   \n",
       "297           (cookware)                (oil)            0.001136   \n",
       "115     (roll products )               (rice)            0.005480   \n",
       "\n",
       "     consequent support   support  confidence       lift  leverage  \\\n",
       "688            0.007084  0.000334    0.104167  14.704206  0.000311   \n",
       "689            0.003208  0.000334    0.047170  14.704206  0.000311   \n",
       "296            0.001136  0.000200    0.013453  11.840939  0.000184   \n",
       "297            0.014903  0.000200    0.176471  11.840939  0.000184   \n",
       "115            0.003275  0.000200    0.036585  11.171976  0.000183   \n",
       "\n",
       "     conviction                                rule  \n",
       "688    1.108371  {'soups'} -> {'seasonal products'}  \n",
       "689    1.046138  {'seasonal products'} -> {'soups'}  \n",
       "296    1.012485             {'oil'} -> {'cookware'}  \n",
       "297    1.196189             {'cookware'} -> {'oil'}  \n",
       "115    1.034576      {'roll products '} -> {'rice'}  "
      ]
     },
     "execution_count": 23,
     "metadata": {},
     "output_type": "execute_result"
    }
   ],
   "source": [
    "rules.sort_values(by=['lift'], ascending=False).head()"
   ]
  },
  {
   "cell_type": "code",
   "execution_count": 24,
   "metadata": {},
   "outputs": [
    {
     "data": {
      "text/html": [
       "<div>\n",
       "<style scoped>\n",
       "    .dataframe tbody tr th:only-of-type {\n",
       "        vertical-align: middle;\n",
       "    }\n",
       "\n",
       "    .dataframe tbody tr th {\n",
       "        vertical-align: top;\n",
       "    }\n",
       "\n",
       "    .dataframe thead th {\n",
       "        text-align: right;\n",
       "    }\n",
       "</style>\n",
       "<table border=\"1\" class=\"dataframe\">\n",
       "  <thead>\n",
       "    <tr style=\"text-align: right;\">\n",
       "      <th></th>\n",
       "      <th>antecedents</th>\n",
       "      <th>consequents</th>\n",
       "      <th>antecedent support</th>\n",
       "      <th>consequent support</th>\n",
       "      <th>support</th>\n",
       "      <th>confidence</th>\n",
       "      <th>lift</th>\n",
       "      <th>leverage</th>\n",
       "      <th>conviction</th>\n",
       "      <th>rule</th>\n",
       "    </tr>\n",
       "  </thead>\n",
       "  <tbody>\n",
       "    <tr>\n",
       "      <th>288</th>\n",
       "      <td>(pastry)</td>\n",
       "      <td>(napkins)</td>\n",
       "      <td>0.051728</td>\n",
       "      <td>0.022121</td>\n",
       "      <td>0.001738</td>\n",
       "      <td>0.033592</td>\n",
       "      <td>1.518529</td>\n",
       "      <td>0.000593</td>\n",
       "      <td>1.011869</td>\n",
       "      <td>{'pastry'} -&gt; {'napkins'}</td>\n",
       "    </tr>\n",
       "    <tr>\n",
       "      <th>289</th>\n",
       "      <td>(napkins)</td>\n",
       "      <td>(pastry)</td>\n",
       "      <td>0.022121</td>\n",
       "      <td>0.051728</td>\n",
       "      <td>0.001738</td>\n",
       "      <td>0.078550</td>\n",
       "      <td>1.518529</td>\n",
       "      <td>0.000593</td>\n",
       "      <td>1.029109</td>\n",
       "      <td>{'napkins'} -&gt; {'pastry'}</td>\n",
       "    </tr>\n",
       "    <tr>\n",
       "      <th>18</th>\n",
       "      <td>(specialty chocolate)</td>\n",
       "      <td>(citrus fruit)</td>\n",
       "      <td>0.015973</td>\n",
       "      <td>0.053131</td>\n",
       "      <td>0.001403</td>\n",
       "      <td>0.087866</td>\n",
       "      <td>1.653762</td>\n",
       "      <td>0.000555</td>\n",
       "      <td>1.038081</td>\n",
       "      <td>{'specialty chocolate'} -&gt; {'citrus fruit'}</td>\n",
       "    </tr>\n",
       "    <tr>\n",
       "      <th>19</th>\n",
       "      <td>(citrus fruit)</td>\n",
       "      <td>(specialty chocolate)</td>\n",
       "      <td>0.053131</td>\n",
       "      <td>0.015973</td>\n",
       "      <td>0.001403</td>\n",
       "      <td>0.026415</td>\n",
       "      <td>1.653762</td>\n",
       "      <td>0.000555</td>\n",
       "      <td>1.010726</td>\n",
       "      <td>{'citrus fruit'} -&gt; {'specialty chocolate'}</td>\n",
       "    </tr>\n",
       "    <tr>\n",
       "      <th>328</th>\n",
       "      <td>(sausage)</td>\n",
       "      <td>(beverages)</td>\n",
       "      <td>0.060349</td>\n",
       "      <td>0.016574</td>\n",
       "      <td>0.001537</td>\n",
       "      <td>0.025471</td>\n",
       "      <td>1.536764</td>\n",
       "      <td>0.000537</td>\n",
       "      <td>1.009129</td>\n",
       "      <td>{'sausage'} -&gt; {'beverages'}</td>\n",
       "    </tr>\n",
       "  </tbody>\n",
       "</table>\n",
       "</div>"
      ],
      "text/plain": [
       "               antecedents            consequents  antecedent support  \\\n",
       "288               (pastry)              (napkins)            0.051728   \n",
       "289              (napkins)               (pastry)            0.022121   \n",
       "18   (specialty chocolate)         (citrus fruit)            0.015973   \n",
       "19          (citrus fruit)  (specialty chocolate)            0.053131   \n",
       "328              (sausage)            (beverages)            0.060349   \n",
       "\n",
       "     consequent support   support  confidence      lift  leverage  conviction  \\\n",
       "288            0.022121  0.001738    0.033592  1.518529  0.000593    1.011869   \n",
       "289            0.051728  0.001738    0.078550  1.518529  0.000593    1.029109   \n",
       "18             0.053131  0.001403    0.087866  1.653762  0.000555    1.038081   \n",
       "19             0.015973  0.001403    0.026415  1.653762  0.000555    1.010726   \n",
       "328            0.016574  0.001537    0.025471  1.536764  0.000537    1.009129   \n",
       "\n",
       "                                            rule  \n",
       "288                    {'pastry'} -> {'napkins'}  \n",
       "289                    {'napkins'} -> {'pastry'}  \n",
       "18   {'specialty chocolate'} -> {'citrus fruit'}  \n",
       "19   {'citrus fruit'} -> {'specialty chocolate'}  \n",
       "328                 {'sausage'} -> {'beverages'}  "
      ]
     },
     "execution_count": 24,
     "metadata": {},
     "output_type": "execute_result"
    }
   ],
   "source": [
    "rules.sort_values(by=['leverage'], ascending=False).head()\n"
   ]
  },
  {
   "cell_type": "code",
   "execution_count": 25,
   "metadata": {},
   "outputs": [
    {
     "data": {
      "text/html": [
       "<div>\n",
       "<style scoped>\n",
       "    .dataframe tbody tr th:only-of-type {\n",
       "        vertical-align: middle;\n",
       "    }\n",
       "\n",
       "    .dataframe tbody tr th {\n",
       "        vertical-align: top;\n",
       "    }\n",
       "\n",
       "    .dataframe thead th {\n",
       "        text-align: right;\n",
       "    }\n",
       "</style>\n",
       "<table border=\"1\" class=\"dataframe\">\n",
       "  <thead>\n",
       "    <tr style=\"text-align: right;\">\n",
       "      <th></th>\n",
       "      <th>antecedents</th>\n",
       "      <th>consequents</th>\n",
       "      <th>antecedent support</th>\n",
       "      <th>consequent support</th>\n",
       "      <th>support</th>\n",
       "      <th>confidence</th>\n",
       "      <th>lift</th>\n",
       "      <th>leverage</th>\n",
       "      <th>conviction</th>\n",
       "      <th>rule</th>\n",
       "    </tr>\n",
       "  </thead>\n",
       "  <tbody>\n",
       "    <tr>\n",
       "      <th>629</th>\n",
       "      <td>(cream)</td>\n",
       "      <td>(newspapers)</td>\n",
       "      <td>0.000802</td>\n",
       "      <td>0.038896</td>\n",
       "      <td>0.000200</td>\n",
       "      <td>0.250000</td>\n",
       "      <td>6.427405</td>\n",
       "      <td>0.000169</td>\n",
       "      <td>1.281472</td>\n",
       "      <td>{'cream'} -&gt; {'newspapers'}</td>\n",
       "    </tr>\n",
       "    <tr>\n",
       "      <th>710</th>\n",
       "      <td>(brandy)</td>\n",
       "      <td>(whole milk)</td>\n",
       "      <td>0.002540</td>\n",
       "      <td>0.157923</td>\n",
       "      <td>0.000869</td>\n",
       "      <td>0.342105</td>\n",
       "      <td>2.166281</td>\n",
       "      <td>0.000468</td>\n",
       "      <td>1.279957</td>\n",
       "      <td>{'brandy'} -&gt; {'whole milk'}</td>\n",
       "    </tr>\n",
       "    <tr>\n",
       "      <th>767</th>\n",
       "      <td>(specialty vegetables)</td>\n",
       "      <td>(yogurt)</td>\n",
       "      <td>0.000735</td>\n",
       "      <td>0.085879</td>\n",
       "      <td>0.000200</td>\n",
       "      <td>0.272727</td>\n",
       "      <td>3.175734</td>\n",
       "      <td>0.000137</td>\n",
       "      <td>1.256917</td>\n",
       "      <td>{'specialty vegetables'} -&gt; {'yogurt'}</td>\n",
       "    </tr>\n",
       "    <tr>\n",
       "      <th>631</th>\n",
       "      <td>(cream)</td>\n",
       "      <td>(sausage)</td>\n",
       "      <td>0.000802</td>\n",
       "      <td>0.060349</td>\n",
       "      <td>0.000200</td>\n",
       "      <td>0.250000</td>\n",
       "      <td>4.142580</td>\n",
       "      <td>0.000152</td>\n",
       "      <td>1.252868</td>\n",
       "      <td>{'cream'} -&gt; {'sausage'}</td>\n",
       "    </tr>\n",
       "    <tr>\n",
       "      <th>739</th>\n",
       "      <td>(honey)</td>\n",
       "      <td>(sausage)</td>\n",
       "      <td>0.000869</td>\n",
       "      <td>0.060349</td>\n",
       "      <td>0.000200</td>\n",
       "      <td>0.230769</td>\n",
       "      <td>3.823920</td>\n",
       "      <td>0.000148</td>\n",
       "      <td>1.221546</td>\n",
       "      <td>{'honey'} -&gt; {'sausage'}</td>\n",
       "    </tr>\n",
       "  </tbody>\n",
       "</table>\n",
       "</div>"
      ],
      "text/plain": [
       "                antecedents   consequents  antecedent support  \\\n",
       "629                 (cream)  (newspapers)            0.000802   \n",
       "710                (brandy)  (whole milk)            0.002540   \n",
       "767  (specialty vegetables)      (yogurt)            0.000735   \n",
       "631                 (cream)     (sausage)            0.000802   \n",
       "739                 (honey)     (sausage)            0.000869   \n",
       "\n",
       "     consequent support   support  confidence      lift  leverage  conviction  \\\n",
       "629            0.038896  0.000200    0.250000  6.427405  0.000169    1.281472   \n",
       "710            0.157923  0.000869    0.342105  2.166281  0.000468    1.279957   \n",
       "767            0.085879  0.000200    0.272727  3.175734  0.000137    1.256917   \n",
       "631            0.060349  0.000200    0.250000  4.142580  0.000152    1.252868   \n",
       "739            0.060349  0.000200    0.230769  3.823920  0.000148    1.221546   \n",
       "\n",
       "                                       rule  \n",
       "629             {'cream'} -> {'newspapers'}  \n",
       "710            {'brandy'} -> {'whole milk'}  \n",
       "767  {'specialty vegetables'} -> {'yogurt'}  \n",
       "631                {'cream'} -> {'sausage'}  \n",
       "739                {'honey'} -> {'sausage'}  "
      ]
     },
     "execution_count": 25,
     "metadata": {},
     "output_type": "execute_result"
    }
   ],
   "source": [
    "rules.sort_values(by=['conviction'], ascending=False).head()\n"
   ]
  },
  {
   "cell_type": "code",
   "execution_count": 26,
   "metadata": {},
   "outputs": [
    {
     "data": {
      "application/vnd.plotly.v1+json": {
       "config": {
        "plotlyServerURL": "https://plot.ly"
       },
       "data": [
        {
         "hovertemplate": "rule={'brandy'} -> {'whole milk'}<br>support=%{x}<br>confidence=%{y}<br>lift=%{z}<extra></extra>",
         "legendgroup": "{'brandy'} -> {'whole milk'}",
         "marker": {
          "color": "#636efa",
          "symbol": "circle"
         },
         "mode": "markers",
         "name": "{'brandy'} -> {'whole milk'}",
         "scene": "scene",
         "showlegend": true,
         "type": "scatter3d",
         "x": [
          0.0008688097306689834
         ],
         "y": [
          0.34210526315789475
         ],
         "z": [
          2.1662805978127717
         ]
        },
        {
         "hovertemplate": "rule={'softener'} -> {'whole milk'}<br>support=%{x}<br>confidence=%{y}<br>lift=%{z}<extra></extra>",
         "legendgroup": "{'softener'} -> {'whole milk'}",
         "marker": {
          "color": "#EF553B",
          "symbol": "circle"
         },
         "mode": "markers",
         "name": "{'softener'} -> {'whole milk'}",
         "scene": "scene",
         "showlegend": true,
         "type": "scatter3d",
         "x": [
          0.0008019782129252155
         ],
         "y": [
          0.2926829268292683
         ],
         "z": [
          1.8533282412807202
         ]
        },
        {
         "hovertemplate": "rule={'canned fruit'} -> {'whole milk'}<br>support=%{x}<br>confidence=%{y}<br>lift=%{z}<extra></extra>",
         "legendgroup": "{'canned fruit'} -> {'whole milk'}",
         "marker": {
          "color": "#00cc96",
          "symbol": "circle"
         },
         "mode": "markers",
         "name": "{'canned fruit'} -> {'whole milk'}",
         "scene": "scene",
         "showlegend": true,
         "type": "scatter3d",
         "x": [
          0.00040098910646260775
         ],
         "y": [
          0.2857142857142857
         ],
         "z": [
          1.8092013783930838
         ]
        },
        {
         "hovertemplate": "rule={'syrup'} -> {'whole milk'}<br>support=%{x}<br>confidence=%{y}<br>lift=%{z}<extra></extra>",
         "legendgroup": "{'syrup'} -> {'whole milk'}",
         "marker": {
          "color": "#ab63fa",
          "symbol": "circle"
         },
         "mode": "markers",
         "name": "{'syrup'} -> {'whole milk'}",
         "scene": "scene",
         "showlegend": true,
         "type": "scatter3d",
         "x": [
          0.00040098910646260775
         ],
         "y": [
          0.2857142857142857
         ],
         "z": [
          1.8092013783930838
         ]
        },
        {
         "hovertemplate": "rule={'artif. sweetener'} -> {'whole milk'}<br>support=%{x}<br>confidence=%{y}<br>lift=%{z}<extra></extra>",
         "legendgroup": "{'artif. sweetener'} -> {'whole milk'}",
         "marker": {
          "color": "#FFA15A",
          "symbol": "circle"
         },
         "mode": "markers",
         "name": "{'artif. sweetener'} -> {'whole milk'}",
         "scene": "scene",
         "showlegend": true,
         "type": "scatter3d",
         "x": [
          0.0005346521419501437
         ],
         "y": [
          0.2758620689655173
         ],
         "z": [
          1.7468151239657366
         ]
        },
        {
         "hovertemplate": "rule={'specialty vegetables'} -> {'yogurt'}<br>support=%{x}<br>confidence=%{y}<br>lift=%{z}<extra></extra>",
         "legendgroup": "{'specialty vegetables'} -> {'yogurt'}",
         "marker": {
          "color": "#19d3f3",
          "symbol": "circle"
         },
         "mode": "markers",
         "name": "{'specialty vegetables'} -> {'yogurt'}",
         "scene": "scene",
         "showlegend": true,
         "type": "scatter3d",
         "x": [
          0.00020049455323130388
         ],
         "y": [
          0.2727272727272727
         ],
         "z": [
          3.175733993632826
         ]
        },
        {
         "hovertemplate": "rule={'ready soups'} -> {'whole milk'}<br>support=%{x}<br>confidence=%{y}<br>lift=%{z}<extra></extra>",
         "legendgroup": "{'ready soups'} -> {'whole milk'}",
         "marker": {
          "color": "#FF6692",
          "symbol": "circle"
         },
         "mode": "markers",
         "name": "{'ready soups'} -> {'whole milk'}",
         "scene": "scene",
         "showlegend": true,
         "type": "scatter3d",
         "x": [
          0.00026732607097507187
         ],
         "y": [
          0.26666666666666666
         ],
         "z": [
          1.6885879531668784
         ]
        },
        {
         "hovertemplate": "rule={'cream'} -> {'newspapers'}<br>support=%{x}<br>confidence=%{y}<br>lift=%{z}<extra></extra>",
         "legendgroup": "{'cream'} -> {'newspapers'}",
         "marker": {
          "color": "#B6E880",
          "symbol": "circle"
         },
         "mode": "markers",
         "name": "{'cream'} -> {'newspapers'}",
         "scene": "scene",
         "showlegend": true,
         "type": "scatter3d",
         "x": [
          0.00020049455323130388
         ],
         "y": [
          0.25
         ],
         "z": [
          6.427405498281787
         ]
        },
        {
         "hovertemplate": "rule={'cream'} -> {'sausage'}<br>support=%{x}<br>confidence=%{y}<br>lift=%{z}<extra></extra>",
         "legendgroup": "{'cream'} -> {'sausage'}",
         "marker": {
          "color": "#FF97FF",
          "symbol": "circle"
         },
         "mode": "markers",
         "name": "{'cream'} -> {'sausage'}",
         "scene": "scene",
         "showlegend": true,
         "type": "scatter3d",
         "x": [
          0.00020049455323130388
         ],
         "y": [
          0.25
         ],
         "z": [
          4.142580287929125
         ]
        },
        {
         "hovertemplate": "rule={'house keeping products'} -> {'whole milk'}<br>support=%{x}<br>confidence=%{y}<br>lift=%{z}<extra></extra>",
         "legendgroup": "{'house keeping products'} -> {'whole milk'}",
         "marker": {
          "color": "#FECB52",
          "symbol": "circle"
         },
         "mode": "markers",
         "name": "{'house keeping products'} -> {'whole milk'}",
         "scene": "scene",
         "showlegend": true,
         "type": "scatter3d",
         "x": [
          0.0007351466951814476
         ],
         "y": [
          0.24444444444444446
         ],
         "z": [
          1.547872290402972
         ]
        }
       ],
       "layout": {
        "legend": {
         "title": {
          "text": "rule"
         },
         "tracegroupgap": 0
        },
        "margin": {
         "t": 60
        },
        "scene": {
         "domain": {
          "x": [
           0,
           1
          ],
          "y": [
           0,
           1
          ]
         },
         "xaxis": {
          "title": {
           "text": "support"
          }
         },
         "yaxis": {
          "title": {
           "text": "confidence"
          }
         },
         "zaxis": {
          "title": {
           "text": "lift"
          }
         }
        },
        "template": {
         "data": {
          "bar": [
           {
            "error_x": {
             "color": "#2a3f5f"
            },
            "error_y": {
             "color": "#2a3f5f"
            },
            "marker": {
             "line": {
              "color": "#E5ECF6",
              "width": 0.5
             },
             "pattern": {
              "fillmode": "overlay",
              "size": 10,
              "solidity": 0.2
             }
            },
            "type": "bar"
           }
          ],
          "barpolar": [
           {
            "marker": {
             "line": {
              "color": "#E5ECF6",
              "width": 0.5
             },
             "pattern": {
              "fillmode": "overlay",
              "size": 10,
              "solidity": 0.2
             }
            },
            "type": "barpolar"
           }
          ],
          "carpet": [
           {
            "aaxis": {
             "endlinecolor": "#2a3f5f",
             "gridcolor": "white",
             "linecolor": "white",
             "minorgridcolor": "white",
             "startlinecolor": "#2a3f5f"
            },
            "baxis": {
             "endlinecolor": "#2a3f5f",
             "gridcolor": "white",
             "linecolor": "white",
             "minorgridcolor": "white",
             "startlinecolor": "#2a3f5f"
            },
            "type": "carpet"
           }
          ],
          "choropleth": [
           {
            "colorbar": {
             "outlinewidth": 0,
             "ticks": ""
            },
            "type": "choropleth"
           }
          ],
          "contour": [
           {
            "colorbar": {
             "outlinewidth": 0,
             "ticks": ""
            },
            "colorscale": [
             [
              0,
              "#0d0887"
             ],
             [
              0.1111111111111111,
              "#46039f"
             ],
             [
              0.2222222222222222,
              "#7201a8"
             ],
             [
              0.3333333333333333,
              "#9c179e"
             ],
             [
              0.4444444444444444,
              "#bd3786"
             ],
             [
              0.5555555555555556,
              "#d8576b"
             ],
             [
              0.6666666666666666,
              "#ed7953"
             ],
             [
              0.7777777777777778,
              "#fb9f3a"
             ],
             [
              0.8888888888888888,
              "#fdca26"
             ],
             [
              1,
              "#f0f921"
             ]
            ],
            "type": "contour"
           }
          ],
          "contourcarpet": [
           {
            "colorbar": {
             "outlinewidth": 0,
             "ticks": ""
            },
            "type": "contourcarpet"
           }
          ],
          "heatmap": [
           {
            "colorbar": {
             "outlinewidth": 0,
             "ticks": ""
            },
            "colorscale": [
             [
              0,
              "#0d0887"
             ],
             [
              0.1111111111111111,
              "#46039f"
             ],
             [
              0.2222222222222222,
              "#7201a8"
             ],
             [
              0.3333333333333333,
              "#9c179e"
             ],
             [
              0.4444444444444444,
              "#bd3786"
             ],
             [
              0.5555555555555556,
              "#d8576b"
             ],
             [
              0.6666666666666666,
              "#ed7953"
             ],
             [
              0.7777777777777778,
              "#fb9f3a"
             ],
             [
              0.8888888888888888,
              "#fdca26"
             ],
             [
              1,
              "#f0f921"
             ]
            ],
            "type": "heatmap"
           }
          ],
          "heatmapgl": [
           {
            "colorbar": {
             "outlinewidth": 0,
             "ticks": ""
            },
            "colorscale": [
             [
              0,
              "#0d0887"
             ],
             [
              0.1111111111111111,
              "#46039f"
             ],
             [
              0.2222222222222222,
              "#7201a8"
             ],
             [
              0.3333333333333333,
              "#9c179e"
             ],
             [
              0.4444444444444444,
              "#bd3786"
             ],
             [
              0.5555555555555556,
              "#d8576b"
             ],
             [
              0.6666666666666666,
              "#ed7953"
             ],
             [
              0.7777777777777778,
              "#fb9f3a"
             ],
             [
              0.8888888888888888,
              "#fdca26"
             ],
             [
              1,
              "#f0f921"
             ]
            ],
            "type": "heatmapgl"
           }
          ],
          "histogram": [
           {
            "marker": {
             "pattern": {
              "fillmode": "overlay",
              "size": 10,
              "solidity": 0.2
             }
            },
            "type": "histogram"
           }
          ],
          "histogram2d": [
           {
            "colorbar": {
             "outlinewidth": 0,
             "ticks": ""
            },
            "colorscale": [
             [
              0,
              "#0d0887"
             ],
             [
              0.1111111111111111,
              "#46039f"
             ],
             [
              0.2222222222222222,
              "#7201a8"
             ],
             [
              0.3333333333333333,
              "#9c179e"
             ],
             [
              0.4444444444444444,
              "#bd3786"
             ],
             [
              0.5555555555555556,
              "#d8576b"
             ],
             [
              0.6666666666666666,
              "#ed7953"
             ],
             [
              0.7777777777777778,
              "#fb9f3a"
             ],
             [
              0.8888888888888888,
              "#fdca26"
             ],
             [
              1,
              "#f0f921"
             ]
            ],
            "type": "histogram2d"
           }
          ],
          "histogram2dcontour": [
           {
            "colorbar": {
             "outlinewidth": 0,
             "ticks": ""
            },
            "colorscale": [
             [
              0,
              "#0d0887"
             ],
             [
              0.1111111111111111,
              "#46039f"
             ],
             [
              0.2222222222222222,
              "#7201a8"
             ],
             [
              0.3333333333333333,
              "#9c179e"
             ],
             [
              0.4444444444444444,
              "#bd3786"
             ],
             [
              0.5555555555555556,
              "#d8576b"
             ],
             [
              0.6666666666666666,
              "#ed7953"
             ],
             [
              0.7777777777777778,
              "#fb9f3a"
             ],
             [
              0.8888888888888888,
              "#fdca26"
             ],
             [
              1,
              "#f0f921"
             ]
            ],
            "type": "histogram2dcontour"
           }
          ],
          "mesh3d": [
           {
            "colorbar": {
             "outlinewidth": 0,
             "ticks": ""
            },
            "type": "mesh3d"
           }
          ],
          "parcoords": [
           {
            "line": {
             "colorbar": {
              "outlinewidth": 0,
              "ticks": ""
             }
            },
            "type": "parcoords"
           }
          ],
          "pie": [
           {
            "automargin": true,
            "type": "pie"
           }
          ],
          "scatter": [
           {
            "fillpattern": {
             "fillmode": "overlay",
             "size": 10,
             "solidity": 0.2
            },
            "type": "scatter"
           }
          ],
          "scatter3d": [
           {
            "line": {
             "colorbar": {
              "outlinewidth": 0,
              "ticks": ""
             }
            },
            "marker": {
             "colorbar": {
              "outlinewidth": 0,
              "ticks": ""
             }
            },
            "type": "scatter3d"
           }
          ],
          "scattercarpet": [
           {
            "marker": {
             "colorbar": {
              "outlinewidth": 0,
              "ticks": ""
             }
            },
            "type": "scattercarpet"
           }
          ],
          "scattergeo": [
           {
            "marker": {
             "colorbar": {
              "outlinewidth": 0,
              "ticks": ""
             }
            },
            "type": "scattergeo"
           }
          ],
          "scattergl": [
           {
            "marker": {
             "colorbar": {
              "outlinewidth": 0,
              "ticks": ""
             }
            },
            "type": "scattergl"
           }
          ],
          "scattermapbox": [
           {
            "marker": {
             "colorbar": {
              "outlinewidth": 0,
              "ticks": ""
             }
            },
            "type": "scattermapbox"
           }
          ],
          "scatterpolar": [
           {
            "marker": {
             "colorbar": {
              "outlinewidth": 0,
              "ticks": ""
             }
            },
            "type": "scatterpolar"
           }
          ],
          "scatterpolargl": [
           {
            "marker": {
             "colorbar": {
              "outlinewidth": 0,
              "ticks": ""
             }
            },
            "type": "scatterpolargl"
           }
          ],
          "scatterternary": [
           {
            "marker": {
             "colorbar": {
              "outlinewidth": 0,
              "ticks": ""
             }
            },
            "type": "scatterternary"
           }
          ],
          "surface": [
           {
            "colorbar": {
             "outlinewidth": 0,
             "ticks": ""
            },
            "colorscale": [
             [
              0,
              "#0d0887"
             ],
             [
              0.1111111111111111,
              "#46039f"
             ],
             [
              0.2222222222222222,
              "#7201a8"
             ],
             [
              0.3333333333333333,
              "#9c179e"
             ],
             [
              0.4444444444444444,
              "#bd3786"
             ],
             [
              0.5555555555555556,
              "#d8576b"
             ],
             [
              0.6666666666666666,
              "#ed7953"
             ],
             [
              0.7777777777777778,
              "#fb9f3a"
             ],
             [
              0.8888888888888888,
              "#fdca26"
             ],
             [
              1,
              "#f0f921"
             ]
            ],
            "type": "surface"
           }
          ],
          "table": [
           {
            "cells": {
             "fill": {
              "color": "#EBF0F8"
             },
             "line": {
              "color": "white"
             }
            },
            "header": {
             "fill": {
              "color": "#C8D4E3"
             },
             "line": {
              "color": "white"
             }
            },
            "type": "table"
           }
          ]
         },
         "layout": {
          "annotationdefaults": {
           "arrowcolor": "#2a3f5f",
           "arrowhead": 0,
           "arrowwidth": 1
          },
          "autotypenumbers": "strict",
          "coloraxis": {
           "colorbar": {
            "outlinewidth": 0,
            "ticks": ""
           }
          },
          "colorscale": {
           "diverging": [
            [
             0,
             "#8e0152"
            ],
            [
             0.1,
             "#c51b7d"
            ],
            [
             0.2,
             "#de77ae"
            ],
            [
             0.3,
             "#f1b6da"
            ],
            [
             0.4,
             "#fde0ef"
            ],
            [
             0.5,
             "#f7f7f7"
            ],
            [
             0.6,
             "#e6f5d0"
            ],
            [
             0.7,
             "#b8e186"
            ],
            [
             0.8,
             "#7fbc41"
            ],
            [
             0.9,
             "#4d9221"
            ],
            [
             1,
             "#276419"
            ]
           ],
           "sequential": [
            [
             0,
             "#0d0887"
            ],
            [
             0.1111111111111111,
             "#46039f"
            ],
            [
             0.2222222222222222,
             "#7201a8"
            ],
            [
             0.3333333333333333,
             "#9c179e"
            ],
            [
             0.4444444444444444,
             "#bd3786"
            ],
            [
             0.5555555555555556,
             "#d8576b"
            ],
            [
             0.6666666666666666,
             "#ed7953"
            ],
            [
             0.7777777777777778,
             "#fb9f3a"
            ],
            [
             0.8888888888888888,
             "#fdca26"
            ],
            [
             1,
             "#f0f921"
            ]
           ],
           "sequentialminus": [
            [
             0,
             "#0d0887"
            ],
            [
             0.1111111111111111,
             "#46039f"
            ],
            [
             0.2222222222222222,
             "#7201a8"
            ],
            [
             0.3333333333333333,
             "#9c179e"
            ],
            [
             0.4444444444444444,
             "#bd3786"
            ],
            [
             0.5555555555555556,
             "#d8576b"
            ],
            [
             0.6666666666666666,
             "#ed7953"
            ],
            [
             0.7777777777777778,
             "#fb9f3a"
            ],
            [
             0.8888888888888888,
             "#fdca26"
            ],
            [
             1,
             "#f0f921"
            ]
           ]
          },
          "colorway": [
           "#636efa",
           "#EF553B",
           "#00cc96",
           "#ab63fa",
           "#FFA15A",
           "#19d3f3",
           "#FF6692",
           "#B6E880",
           "#FF97FF",
           "#FECB52"
          ],
          "font": {
           "color": "#2a3f5f"
          },
          "geo": {
           "bgcolor": "white",
           "lakecolor": "white",
           "landcolor": "#E5ECF6",
           "showlakes": true,
           "showland": true,
           "subunitcolor": "white"
          },
          "hoverlabel": {
           "align": "left"
          },
          "hovermode": "closest",
          "mapbox": {
           "style": "light"
          },
          "paper_bgcolor": "white",
          "plot_bgcolor": "#E5ECF6",
          "polar": {
           "angularaxis": {
            "gridcolor": "white",
            "linecolor": "white",
            "ticks": ""
           },
           "bgcolor": "#E5ECF6",
           "radialaxis": {
            "gridcolor": "white",
            "linecolor": "white",
            "ticks": ""
           }
          },
          "scene": {
           "xaxis": {
            "backgroundcolor": "#E5ECF6",
            "gridcolor": "white",
            "gridwidth": 2,
            "linecolor": "white",
            "showbackground": true,
            "ticks": "",
            "zerolinecolor": "white"
           },
           "yaxis": {
            "backgroundcolor": "#E5ECF6",
            "gridcolor": "white",
            "gridwidth": 2,
            "linecolor": "white",
            "showbackground": true,
            "ticks": "",
            "zerolinecolor": "white"
           },
           "zaxis": {
            "backgroundcolor": "#E5ECF6",
            "gridcolor": "white",
            "gridwidth": 2,
            "linecolor": "white",
            "showbackground": true,
            "ticks": "",
            "zerolinecolor": "white"
           }
          },
          "shapedefaults": {
           "line": {
            "color": "#2a3f5f"
           }
          },
          "ternary": {
           "aaxis": {
            "gridcolor": "white",
            "linecolor": "white",
            "ticks": ""
           },
           "baxis": {
            "gridcolor": "white",
            "linecolor": "white",
            "ticks": ""
           },
           "bgcolor": "#E5ECF6",
           "caxis": {
            "gridcolor": "white",
            "linecolor": "white",
            "ticks": ""
           }
          },
          "title": {
           "x": 0.05
          },
          "xaxis": {
           "automargin": true,
           "gridcolor": "white",
           "linecolor": "white",
           "ticks": "",
           "title": {
            "standoff": 15
           },
           "zerolinecolor": "white",
           "zerolinewidth": 2
          },
          "yaxis": {
           "automargin": true,
           "gridcolor": "white",
           "linecolor": "white",
           "ticks": "",
           "title": {
            "standoff": 15
           },
           "zerolinecolor": "white",
           "zerolinewidth": 2
          }
         }
        }
       }
      }
     },
     "metadata": {},
     "output_type": "display_data"
    }
   ],
   "source": [
    "scatter_fig = px.scatter_3d(rules.sort_values(by=['confidence'], ascending=False)[:10], x='support', y='confidence', z='lift', color='rule')\n",
    "scatter_fig.show()"
   ]
  },
  {
   "cell_type": "code",
   "execution_count": 27,
   "metadata": {},
   "outputs": [
    {
     "data": {
      "text/html": [
       "<div>\n",
       "<style scoped>\n",
       "    .dataframe tbody tr th:only-of-type {\n",
       "        vertical-align: middle;\n",
       "    }\n",
       "\n",
       "    .dataframe tbody tr th {\n",
       "        vertical-align: top;\n",
       "    }\n",
       "\n",
       "    .dataframe thead th {\n",
       "        text-align: right;\n",
       "    }\n",
       "</style>\n",
       "<table border=\"1\" class=\"dataframe\">\n",
       "  <thead>\n",
       "    <tr style=\"text-align: right;\">\n",
       "      <th></th>\n",
       "      <th>support</th>\n",
       "      <th>itemsets</th>\n",
       "    </tr>\n",
       "  </thead>\n",
       "  <tbody>\n",
       "    <tr>\n",
       "      <th>0</th>\n",
       "      <td>0.157923</td>\n",
       "      <td>(whole milk)</td>\n",
       "    </tr>\n",
       "    <tr>\n",
       "      <th>1</th>\n",
       "      <td>0.085879</td>\n",
       "      <td>(yogurt)</td>\n",
       "    </tr>\n",
       "    <tr>\n",
       "      <th>2</th>\n",
       "      <td>0.060349</td>\n",
       "      <td>(sausage)</td>\n",
       "    </tr>\n",
       "    <tr>\n",
       "      <th>3</th>\n",
       "      <td>0.009490</td>\n",
       "      <td>(semi-finished bread)</td>\n",
       "    </tr>\n",
       "    <tr>\n",
       "      <th>4</th>\n",
       "      <td>0.051728</td>\n",
       "      <td>(pastry)</td>\n",
       "    </tr>\n",
       "  </tbody>\n",
       "</table>\n",
       "</div>"
      ],
      "text/plain": [
       "    support               itemsets\n",
       "0  0.157923           (whole milk)\n",
       "1  0.085879               (yogurt)\n",
       "2  0.060349              (sausage)\n",
       "3  0.009490  (semi-finished bread)\n",
       "4  0.051728               (pastry)"
      ]
     },
     "execution_count": 27,
     "metadata": {},
     "output_type": "execute_result"
    }
   ],
   "source": [
    "frequent_itemsets.head()"
   ]
  },
  {
   "cell_type": "code",
   "execution_count": 28,
   "metadata": {},
   "outputs": [
    {
     "data": {
      "text/html": [
       "<div>\n",
       "<style scoped>\n",
       "    .dataframe tbody tr th:only-of-type {\n",
       "        vertical-align: middle;\n",
       "    }\n",
       "\n",
       "    .dataframe tbody tr th {\n",
       "        vertical-align: top;\n",
       "    }\n",
       "\n",
       "    .dataframe thead th {\n",
       "        text-align: right;\n",
       "    }\n",
       "</style>\n",
       "<table border=\"1\" class=\"dataframe\">\n",
       "  <thead>\n",
       "    <tr style=\"text-align: right;\">\n",
       "      <th></th>\n",
       "      <th>uid</th>\n",
       "      <th>date</th>\n",
       "      <th>items</th>\n",
       "    </tr>\n",
       "  </thead>\n",
       "  <tbody>\n",
       "    <tr>\n",
       "      <th>0</th>\n",
       "      <td>1808</td>\n",
       "      <td>21-07-2015</td>\n",
       "      <td>tropical fruit</td>\n",
       "    </tr>\n",
       "    <tr>\n",
       "      <th>1</th>\n",
       "      <td>2552</td>\n",
       "      <td>05-01-2015</td>\n",
       "      <td>whole milk</td>\n",
       "    </tr>\n",
       "    <tr>\n",
       "      <th>2</th>\n",
       "      <td>2300</td>\n",
       "      <td>19-09-2015</td>\n",
       "      <td>pip fruit</td>\n",
       "    </tr>\n",
       "    <tr>\n",
       "      <th>3</th>\n",
       "      <td>1187</td>\n",
       "      <td>12-12-2015</td>\n",
       "      <td>other vegetables</td>\n",
       "    </tr>\n",
       "    <tr>\n",
       "      <th>4</th>\n",
       "      <td>3037</td>\n",
       "      <td>01-02-2015</td>\n",
       "      <td>whole milk</td>\n",
       "    </tr>\n",
       "  </tbody>\n",
       "</table>\n",
       "</div>"
      ],
      "text/plain": [
       "    uid        date             items\n",
       "0  1808  21-07-2015    tropical fruit\n",
       "1  2552  05-01-2015        whole milk\n",
       "2  2300  19-09-2015         pip fruit\n",
       "3  1187  12-12-2015  other vegetables\n",
       "4  3037  01-02-2015        whole milk"
      ]
     },
     "execution_count": 28,
     "metadata": {},
     "output_type": "execute_result"
    }
   ],
   "source": [
    "x = df.copy()\n",
    "x.head()"
   ]
  },
  {
   "cell_type": "code",
   "execution_count": 29,
   "metadata": {},
   "outputs": [
    {
     "data": {
      "text/plain": [
       "whole milk            2363\n",
       "other vegetables      1827\n",
       "rolls/buns            1646\n",
       "soda                  1453\n",
       "yogurt                1285\n",
       "root vegetables       1041\n",
       "tropical fruit        1014\n",
       "bottled water          908\n",
       "sausage                903\n",
       "citrus fruit           795\n",
       "pastry                 774\n",
       "pip fruit              734\n",
       "shopping bags          712\n",
       "canned beer            702\n",
       "bottled beer           678\n",
       "whipped/sour cream     654\n",
       "newspapers             582\n",
       "frankfurter            565\n",
       "brown bread            563\n",
       "pork                   555\n",
       "dtype: int64"
      ]
     },
     "execution_count": 29,
     "metadata": {},
     "output_type": "execute_result"
    }
   ],
   "source": [
    "top_20_purchased_items = transactions.sum(axis=0).sort_values(ascending=False)[:20]\n",
    "top_20_purchased_items"
   ]
  },
  {
   "cell_type": "code",
   "execution_count": 30,
   "metadata": {},
   "outputs": [
    {
     "data": {
      "text/plain": [
       "[(0.403921568627451, 0.0, 0.05098039215686274, 1.0),\n",
       " (0.8459054209919262, 0.14256055363321812, 0.13448673587081897, 1.0),\n",
       " (0.9451903114186851, 0.26245290272971933, 0.19238754325259516, 1.0),\n",
       " (0.9843752402921953, 0.4181468665897732, 0.2926566705113418, 1.0),\n",
       " (0.9873279507881584, 0.5362552864282968, 0.41076509034986547, 1.0),\n",
       " (0.9882352941176471, 0.7118954248366013, 0.606797385620915, 1.0),\n",
       " (0.9882352941176471, 0.732072279892349, 0.6299269511726259, 1.0),\n",
       " (0.9918646674356018, 0.800476739715494, 0.7202921953094964, 1.0),\n",
       " (0.9918646674356018, 0.800476739715494, 0.7202921953094964, 1.0),\n",
       " (0.9958016147635524, 0.8733102652825836, 0.8167474048442906, 1.0),\n",
       " (0.9961860822760477, 0.8806920415224914, 0.8267589388696654, 1.0),\n",
       " (0.9969242599000384, 0.8961937716262975, 0.8489042675893886, 1.0),\n",
       " (0.9972933487120338, 0.9039446366782007, 0.8599769319492503, 1.0),\n",
       " (0.9975394079200308, 0.9091118800461361, 0.867358708189158, 1.0),\n",
       " (0.9979084967320262, 0.9168627450980392, 0.8784313725490196, 1.0),\n",
       " (0.9982775855440216, 0.9246136101499424, 0.8895040369088811, 1.0),\n",
       " (0.9996309111880046, 0.9530334486735871, 0.9301038062283737, 1.0),\n",
       " (0.9998769703960015, 0.9582006920415225, 0.9374855824682814, 1.0),\n",
       " (0.9998769703960015, 0.9582006920415225, 0.9374855824682814, 1.0),\n",
       " (1.0, 0.9607843137254902, 0.9411764705882353, 1.0)]"
      ]
     },
     "execution_count": 30,
     "metadata": {},
     "output_type": "execute_result"
    }
   ],
   "source": [
    "cmap = matplotlib.cm.Reds\n",
    "mini = min(top_20_purchased_items)\n",
    "maxi = max(top_20_purchased_items)\n",
    "norm = matplotlib.colors.Normalize(vmin=mini, vmax=maxi)\n",
    "colors = [cmap(norm(value)) for value in top_20_purchased_items]\n",
    "colors"
   ]
  },
  {
   "cell_type": "code",
   "execution_count": 31,
   "metadata": {},
   "outputs": [
    {
     "data": {
      "text/plain": [
       "<AxesSubplot:>"
      ]
     },
     "execution_count": 31,
     "metadata": {},
     "output_type": "execute_result"
    },
    {
     "data": {
      "image/png": "[encoded data removed]",
      "text/plain": [
       "<Figure size 1440x720 with 1 Axes>"
      ]
     },
     "metadata": {},
     "output_type": "display_data"
    }
   ],
   "source": [
    "plt.figure(figsize=(20, 10))\n",
    "squarify.plot(sizes=top_20_purchased_items.values, label=top_20_purchased_items.index, alpha=0.8, color=colors)\n",
    "\n"
   ]
  },
  {
   "cell_type": "code",
   "execution_count": null,
   "metadata": {},
   "outputs": [],
   "source": [
    "df.isnull().values.any()"
   ]
  },
  {
   "cell_type": "code",
   "execution_count": null,
   "metadata": {},
   "outputs": [],
   "source": [
    "df1 = df.set_axis(labels=['id', 'date', 'item'], axis=1)\n"
   ]
  },
  {
   "cell_type": "code",
   "execution_count": null,
   "metadata": {},
   "outputs": [],
   "source": [
    "df1.head()"
   ]
  },
  {
   "cell_type": "code",
   "execution_count": null,
   "metadata": {},
   "outputs": [],
   "source": [
    "df1['date'] = pd.to_datetime(df1['date'])\n",
    "df1['item'] = df1['item'].astype(str)\n",
    "df1['id'] = df1['id'].astype(str)"
   ]
  },
  {
   "cell_type": "code",
   "execution_count": null,
   "metadata": {},
   "outputs": [],
   "source": [
    "df1['year_month'] = pd.to_datetime(df1['date'].dt.strftime('%Y-%m'))\n",
    "df1.head()"
   ]
  },
  {
   "cell_type": "code",
   "execution_count": null,
   "metadata": {},
   "outputs": [],
   "source": [
    "items = df1['item'].nunique()\n",
    "items"
   ]
  },
  {
   "cell_type": "code",
   "execution_count": null,
   "metadata": {},
   "outputs": [],
   "source": [
    "customers = df1['id'].nunique()\n",
    "customers"
   ]
  },
  {
   "cell_type": "code",
   "execution_count": null,
   "metadata": {},
   "outputs": [],
   "source": [
    "max_date = df1['date'].max()\n",
    "min_date = df1['date'].min()\n",
    "max_date"
   ]
  },
  {
   "cell_type": "code",
   "execution_count": null,
   "metadata": {},
   "outputs": [],
   "source": [
    "df1_sales = df1['year_month'].value_counts().rename_axis('year_month').reset_index(name='sales')\n",
    "\n",
    "df1_sales.head()"
   ]
  },
  {
   "cell_type": "code",
   "execution_count": null,
   "metadata": {},
   "outputs": [],
   "source": [
    "df1_sales_year = df1_sales\n",
    "pd.DatetimeIndex(df1_sales_year['year_month']).year"
   ]
  }
 ],
 "metadata": {
  "interpreter": {
   "hash": "9efce205f64ad363cd9f14615485aca38ee4ef0915866e318aa83c8d0c93f6fc"
  },
  "kernelspec": {
   "display_name": "Python 3.10.0 64-bit",
   "language": "python",
   "name": "python3"
  },
  "language_info": {
   "codemirror_mode": {
    "name": "ipython",
    "version": 3
   },
   "file_extension": ".py",
   "mimetype": "text/x-python",
   "name": "python",
   "nbconvert_exporter": "python",
   "pygments_lexer": "ipython3",
   "version": "3.10.0"
  },
  "orig_nbformat": 4
 },
 "nbformat": 4,
 "nbformat_minor": 2
}
